{
 "cells": [
  {
   "cell_type": "code",
   "execution_count": 1,
   "metadata": {
    "ExecuteTime": {
     "end_time": "2021-06-03T12:19:39.685621Z",
     "start_time": "2021-06-03T12:19:39.668300Z"
    }
   },
   "outputs": [
    {
     "data": {
      "text/plain": "1.4142135623730951"
     },
     "execution_count": 1,
     "metadata": {},
     "output_type": "execute_result"
    }
   ],
   "source": [
    "import numpy as np\n",
    "import numpy.random as rn\n",
    "import pandas as pd\n",
    "from sklearn.model_selection import KFold    # 获得k个折数\n",
    "import matplotlib.pylab as plt\n",
    "\n",
    "from IPython.core.interactiveshell import InteractiveShell\n",
    "\n",
    "InteractiveShell.ast_node_interactivity = \"all\"\n",
    "\n",
    "import warnings\n",
    "\n",
    "warnings.filterwarnings('ignore')\n",
    "\n",
    "%matplotlib inline\n",
    "\n",
    "plt.rcParams['font.sans-serif'] = [u'SimHei']\n",
    "plt.rcParams['axes.unicode_minus'] = False\n",
    "\n",
    "# win\n",
    "# plt.rcParams['font.sans-serif']=['SimHei'] #用来正常显示中文标签\n",
    "# plt.rcParams['axes.unicode_minus']=False #用来正常显示负号\n",
    "\n",
    "np.power(2, 3)\n",
    "\n",
    "np.power(2, 1 / 2)"
   ]
  },
  {
   "cell_type": "code",
   "execution_count": 201,
   "metadata": {
    "ExecuteTime": {
     "end_time": "2021-06-03T14:21:20.218815Z",
     "start_time": "2021-06-03T14:21:20.205905Z"
    },
    "code_folding": [],
    "pycharm": {
     "name": "#%%\n"
    }
   },
   "outputs": [
    {
     "name": "stdout",
     "output_type": "stream",
     "text": [
      "[ 0.49407633 -0.22669128 -0.57490486  0.22703182 -1.3922278  -0.48682657\n",
      " -0.46270689  1.71694907  0.33111924 -1.01828664  1.11704846 -1.56487147\n",
      "  0.3724485   0.8516109   0.42451952  0.15359524 -0.80094375  2.62421094\n",
      "  0.44428154 -0.42323924]\n"
     ]
    }
   ],
   "source": [
    "def f_lambda(A, x, y, mu, lambda_0, thresholding_value):\n",
    "    \"\"\"\n",
    "    功能：希望给定xi---> b_mu---->f_lamda_mu\n",
    "    :param xi:\n",
    "    :return:\n",
    "    \"\"\"\n",
    "    PI = 3.141493\n",
    "    n = x.shape[0]\n",
    "    x_trans = [0] * n  # 初始化计算所得的矩阵为0\n",
    "    b_mu = x + mu * np.dot(A.T, y - np.dot(A, x))\n",
    "    for i in range(n):\n",
    "        if abs(b_mu[i]) > thresholding_value:\n",
    "            val_i = (lambda_0 / 8) * np.abs(b_mu[i] / 3)**(\n",
    "                -1.5)  # np.power(a, b) ,notice b >0\n",
    "            if np.abs(val_i) > 1:  #防止val_i的值大于1，使得arccos报错， 进行最大最小标准化\n",
    "                val_i = (val_i - thresholding_value) / val_i\n",
    "            ph_i = np.arccos(val_i)\n",
    "            x_trans[i] = 2 / 3 * b_mu[i] * (1 + np.cos(2 / 3 * (PI - ph_i)))\n",
    "    return np.array(x_trans)\n",
    "\n",
    "\n",
    "if __name__ == '__main__':\n",
    "    n, m = 200, 20\n",
    "    A = rn.randn(n, m)\n",
    "    X = rn.randn(m, )\n",
    "    y = np.dot(A, X) + rn.randn(n, )\n",
    "    mu = 1 / np.sum(A**2)\n",
    "    thresholding_value = np.power(54, 1 / 3) / 4 * np.power(lambda_0 * mu, 2 / 3)\n",
    "    x0 = rn.randn(m, )\n",
    "    lambda_0 = 0.1\n",
    "    x = f_lambda(A, x0, y, mu, lambda_0, thresholding_value)\n",
    "    print(x)\n",
    "    "
   ]
  },
  {
   "cell_type": "code",
   "execution_count": 206,
   "metadata": {
    "ExecuteTime": {
     "end_time": "2021-06-03T14:24:39.125685Z",
     "start_time": "2021-06-03T14:24:39.109157Z"
    }
   },
   "outputs": [
    {
     "name": "stdout",
     "output_type": "stream",
     "text": [
      "x_best: \n",
      "[-5.53215624e-02  4.75490425e-02  1.38273847e+00  7.08932886e-02\n",
      "  1.73869260e+00  2.00932934e-01  8.40146864e-04 -3.09892678e-01\n",
      "  1.55349653e-02 -8.10946034e-01 -6.60557141e-01  4.02767014e-01\n",
      " -9.65873306e-01  1.49158554e-02  7.62520540e-01 -2.78668744e-02\n",
      " -4.97306203e-04 -3.16660607e-01 -9.91581874e-01  3.06028088e-01] \n",
      " loss\n",
      "16435.708346105872\n"
     ]
    }
   ],
   "source": [
    "# 最小损失函数的定义：\n",
    "\n",
    "def loss_value(A, x, y, lambda_0):\n",
    "    \"\"\"损失函数定义\"\"\"\n",
    "    loss = np.sum((y - np.dot(A, x0)) ** 2)\n",
    "    penal = lambda_0 * np.sum(np.abs(x0) ** 0.5)         # x0可能有负数\n",
    "    return loss + penal\n",
    "    \n",
    "\n",
    "def loss_function(A, x0, y, mu, lambda_0, max_iter = 500, tol = 1e-8):\n",
    "    \"\"\"\n",
    "    :param A: \n",
    "    :param x0: x的初始化\n",
    "    :param y: \n",
    "    :param mu: 超参数\n",
    "    :param lambda_0: 超参数\n",
    "    :param max_iter: 最大迭代次数\n",
    "    :param tol: 容忍度\n",
    "    :return: \n",
    "    \"\"\"\n",
    "    best_loss = np.inf\n",
    "    thresholding_value = np.power(54, 1 / 3) / 4 * np.power(lambda_0 * mu, 2 / 3)\n",
    "    for i in range(max_iter):\n",
    "        x0 = f_lambda(A, x0, y, mu, lambda_0, thresholding_value)\n",
    "        loss = loss_value(A, x0, y, lambda_0)\n",
    "        if (abs(best_loss - loss) < tol) and (i > 5):\n",
    "            best_loss = loss\n",
    "            break\n",
    "        if loss < best_loss:\n",
    "            best_loss = loss\n",
    "    return x0, best_loss\n",
    "        \n",
    "    \n",
    "if __name__ == '__main__':\n",
    "    rn.seed(2211)\n",
    "    n, m = 200, 20\n",
    "    A = rn.randn(n, m)\n",
    "    X = np.array([1,2,3,4,5,0, 0,0,0,0,0,0,0,0,0,0,0,0,0,0])\n",
    "    y = np.dot(A, X) + rn.randn(n,)\n",
    "    x0 = rn.randn(m,)\n",
    "    mu = 1 / np.sum(A**2)\n",
    "    lambda_0 = 0.2\n",
    "    x_best, loss= loss_function(A, x0, y, mu, lambda_0)\n",
    "    print('x_best: \\n{} \\n loss\\n{}'.format(x_best, loss))\n",
    "#     x_best = loss_function(A, x0, y, mu, lambda_0)[0]\n",
    "#     print(x_best)\n",
    "    \n",
    "\n"
   ]
  },
  {
   "cell_type": "code",
   "execution_count": null,
   "metadata": {
    "ExecuteTime": {
     "end_time": "2021-06-03T13:10:45.883957Z",
     "start_time": "2021-06-03T13:10:45.750256Z"
    }
   },
   "outputs": [],
   "source": []
  },
  {
   "cell_type": "code",
   "execution_count": 210,
   "metadata": {
    "ExecuteTime": {
     "end_time": "2021-06-03T14:52:13.284162Z",
     "start_time": "2021-06-03T14:52:11.948495Z"
    }
   },
   "outputs": [
    {
     "name": "stdout",
     "output_type": "stream",
     "text": [
      "0.01\n"
     ]
    }
   ],
   "source": [
    "# 选择最优的lambda_0\n",
    "\n",
    "def select_best_lambda(A, y, x0, mu):\n",
    "    \"\"\"\n",
    "    :param A: \n",
    "    :param y: \n",
    "    :param x: \n",
    "    :param mu: \n",
    "    :param max_iter: \n",
    "    :param tol: \n",
    "    :return: best_lambda\n",
    "    \"\"\"\n",
    "    # cross valication\n",
    "    loss_fun_all = [] # \n",
    "    lambda_all = np.arange(1, 100) * 0.01\n",
    "    n = lambda_all.shape[0]\n",
    "    sk_fold = KFold(n_splits= 10, shuffle=True, random_state=111)\n",
    "    for i in range(n):\n",
    "        loss_temp_test = np.zeros(n)   # 保存每个lambda_all[i]对应的loss_test\n",
    "        for train_index, dev_index in sk_fold.split(A, y):\n",
    "            x_train = loss_function(A[train_index], x0, y[train_index], mu = mu, lambda_0 = lambda_all[i], max_iter = 100, tol = 1e-5)[0] # 只需记录每一次的x_0的值用于计算预测的损失\n",
    "            loss_temp_test[i] = np.mean(loss_value(A[dev_index], x_train, y[dev_index], lambda_all[i]))   # 计算出每次\n",
    "        loss_fun_all.append([lambda_all[i], np.mean(loss_temp_test)])\n",
    "    loss_fun_all = np.array(loss_fun_all)\n",
    "#     print(loss_fun_all)\n",
    "    min_index = np.argmin(loss_fun_all[:,1])\n",
    "    lambda_best = loss_fun_all[min_index][0]\n",
    "    return lambda_best\n",
    "\n",
    "\n",
    "        \n",
    "if __name__ == '__main__':\n",
    "    rn.seed(2211)\n",
    "    n, m = 200, 20\n",
    "    A = rn.randn(n, m)\n",
    "    X = np.array([10, 9, 3,4,5,0, 0,0,0,0,0,0,0,0,0,0,0,0,0,0])\n",
    "    y = np.dot(A, X) + rn.randn(n)\n",
    "    x0 = rn.randn(m)\n",
    "    mu = 1 / np.sum(A**2)\n",
    "    lambda_0 = select_best_lambda(A, y, x0, mu=mu)\n",
    "    print(lambda_0)\n",
    "    \n",
    "    \n",
    "    "
   ]
  },
  {
   "cell_type": "code",
   "execution_count": 153,
   "metadata": {
    "ExecuteTime": {
     "end_time": "2021-06-03T13:43:59.000393Z",
     "start_time": "2021-06-03T13:43:58.997274Z"
    },
    "code_folding": []
   },
   "outputs": [],
   "source": [
    "# 这个用于所有超参数都训练完成了\n",
    "\n",
    "# from sklearn.model_selection import train_test_split\n",
    "\n",
    "# rn.seed(22)\n",
    "# n, m = 10, 2\n",
    "# A = rn.randn(n, m)\n",
    "# A\n",
    "# X = rn.rand(m)\n",
    "# y = np.dot(A, X) + rn.randn(n, )\n",
    "# y \n",
    "# #x为数据集的feature熟悉，y为label.\n",
    "# x_train, x_test, y_train, y_test = train_test_split(A, y, test_size = 0.3)\n",
    "# x_train, x_test, y_train, y_test "
   ]
  },
  {
   "cell_type": "code",
   "execution_count": null,
   "metadata": {
    "ExecuteTime": {
     "end_time": "2021-06-03T12:44:38.640963Z",
     "start_time": "2021-06-03T12:44:38.622916Z"
    }
   },
   "outputs": [],
   "source": [
    "\n"
   ]
  },
  {
   "cell_type": "code",
   "execution_count": 169,
   "metadata": {
    "ExecuteTime": {
     "end_time": "2021-06-03T13:59:35.720325Z",
     "start_time": "2021-06-03T13:59:35.709431Z"
    }
   },
   "outputs": [
    {
     "name": "stdout",
     "output_type": "stream",
     "text": [
      "TRAIN: [ 1  2  3  4  5  6  7  8 10 11 12 13 14 15 16 17 18 19 20 21 22 23 24 25\n",
      " 26 27 29 31 32 33 34 35 36 37 38 39] TEST: [ 0  9 28 30]\n",
      "TRAIN: [ 0  1  2  3  4  5  6  7  8  9 10 12 13 14 16 17 18 19 20 21 22 23 24 25\n",
      " 28 29 30 31 32 33 34 35 36 37 38 39] TEST: [11 15 26 27]\n",
      "TRAIN: [ 0  1  2  5  6  7  8  9 10 11 12 13 14 15 16 18 19 20 21 22 24 25 26 27\n",
      " 28 29 30 31 32 33 34 35 36 37 38 39] TEST: [ 3  4 17 23]\n",
      "TRAIN: [ 0  1  2  3  4  5  6  7  8  9 10 11 12 13 14 15 16 17 18 19 20 21 22 23\n",
      " 24 25 26 27 28 29 30 32 34 35 38 39] TEST: [31 33 36 37]\n",
      "TRAIN: [ 0  1  2  3  4  5  7  8  9 10 11 12 14 15 16 17 18 19 20 21 22 23 24 25\n",
      " 26 27 28 30 31 32 33 34 36 37 38 39] TEST: [ 6 13 29 35]\n",
      "TRAIN: [ 0  1  2  3  4  6  7  9 10 11 12 13 14 15 16 17 18 19 20 22 23 24 25 26\n",
      " 27 28 29 30 31 32 33 35 36 37 38 39] TEST: [ 5  8 21 34]\n",
      "TRAIN: [ 0  2  3  4  5  6  7  8  9 10 11 12 13 15 17 18 19 20 21 22 23 25 26 27\n",
      " 28 29 30 31 32 33 34 35 36 37 38 39] TEST: [ 1 14 16 24]\n",
      "TRAIN: [ 0  1  2  3  4  5  6  7  8  9 11 13 14 15 16 17 18 19 20 21 22 23 24 26\n",
      " 27 28 29 30 31 33 34 35 36 37 38 39] TEST: [10 12 25 32]\n",
      "TRAIN: [ 0  1  3  4  5  6  8  9 10 11 12 13 14 15 16 17 20 21 22 23 24 25 26 27\n",
      " 28 29 30 31 32 33 34 35 36 37 38 39] TEST: [ 2  7 18 19]\n",
      "TRAIN: [ 0  1  2  3  4  5  6  7  8  9 10 11 12 13 14 15 16 17 18 19 21 23 24 25\n",
      " 26 27 28 29 30 31 32 33 34 35 36 37] TEST: [20 22 38 39]\n"
     ]
    }
   ],
   "source": [
    "sk_fold = KFold(n_splits= 10, shuffle=True, random_state=111)\n",
    "for train_index, dev_index in sk_fold.split(A, y):\n",
    "        print( \"TRAIN:\", train_index, \"TEST:\", dev_index)\n",
    "#         print(A[train_index])"
   ]
  },
  {
   "cell_type": "code",
   "execution_count": 3,
   "metadata": {},
   "outputs": [
    {
     "name": "stdout",
     "output_type": "stream",
     "text": [
      "[   4.75965596    7.85835749  135.3870095  ... -165.04792203  -87.58024323\n",
      "  -69.58501366]\n"
     ]
    }
   ],
   "source": [
    "rn.seed(2211)\n",
    "n, m = 2000, 20\n",
    "A = rn.randn(n, m)\n",
    "X = np.array([10, 90, 30,40,50,0, 0,0,0,0,0,0,0,0,0,0,0,0,0,0])\n",
    "y = np.dot(A, X) + rn.randn(n)\n",
    "print(y)\n",
    "x0 = rn.randn(m)\n",
    "mu = 1 / np.sum(A**2)"
   ]
  },
  {
   "cell_type": "code",
   "execution_count": null,
   "outputs": [],
   "source": [],
   "metadata": {
    "collapsed": false,
    "pycharm": {
     "name": "#%%\n"
    }
   }
  }
 ],
 "metadata": {
  "hide_input": false,
  "kernelspec": {
   "display_name": "Python 3",
   "language": "python",
   "name": "python3"
  },
  "language_info": {
   "codemirror_mode": {
    "name": "ipython",
    "version": 3
   },
   "file_extension": ".py",
   "mimetype": "text/x-python",
   "name": "python",
   "nbconvert_exporter": "python",
   "pygments_lexer": "ipython3",
   "version": "3.8.8"
  },
  "nbTranslate": {
   "displayLangs": [
    "*"
   ],
   "hotkey": "alt-t",
   "langInMainMenu": true,
   "sourceLang": "en",
   "targetLang": "fr",
   "useGoogleTranslate": true
  },
  "toc": {
   "base_numbering": 1,
   "nav_menu": {},
   "number_sections": true,
   "sideBar": true,
   "skip_h1_title": false,
   "title_cell": "Table of Contents",
   "title_sidebar": "Contents",
   "toc_cell": false,
   "toc_position": {},
   "toc_section_display": true,
   "toc_window_display": false
  },
  "varInspector": {
   "cols": {
    "lenName": 16,
    "lenType": 16,
    "lenVar": 40
   },
   "kernels_config": {
    "python": {
     "delete_cmd_postfix": "",
     "delete_cmd_prefix": "del ",
     "library": "var_list.py",
     "varRefreshCmd": "print(var_dic_list())"
    },
    "r": {
     "delete_cmd_postfix": ") ",
     "delete_cmd_prefix": "rm(",
     "library": "var_list.r",
     "varRefreshCmd": "cat(var_dic_list()) "
    }
   },
   "types_to_exclude": [
    "module",
    "function",
    "builtin_function_or_method",
    "instance",
    "_Feature"
   ],
   "window_display": false
  }
 },
 "nbformat": 4,
 "nbformat_minor": 1
}