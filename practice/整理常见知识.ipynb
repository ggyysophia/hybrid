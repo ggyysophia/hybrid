{
 "cells": [
  {
   "cell_type": "markdown",
   "metadata": {},
   "source": [
    "# numpy的相关知识"
   ]
  },
  {
   "cell_type": "markdown",
   "metadata": {},
   "source": [
    "## np.array"
   ]
  },
  {
   "cell_type": "code",
   "execution_count": 1,
   "metadata": {},
   "outputs": [
    {
     "data": {
      "text/plain": "'\\n1. numpy.array(object, dtype = None, copy = True, order = None, subok = False, ndmin = 0)\\n\\nobject\\t数组或嵌套的数列\\ndtype\\t数组元素的数据类型，可选\\ncopy\\t对象是否需要复制，可选\\norder\\t创建数组的样式，C为行方向，F为列方向，A为任意方向（默认）\\nsubok\\t默认返回一个与基类类型一致的数组\\nndmin\\t指定生成数组的最小维度\\n\\n'"
     },
     "execution_count": 1,
     "metadata": {},
     "output_type": "execute_result"
    }
   ],
   "source": [
    "# numpy 学习\n",
    "\"\"\"\n",
    "1. numpy.array(object, dtype = None, copy = True, order = None, subok = False, ndmin = 0)\n",
    "\n",
    "object\t数组或嵌套的数列\n",
    "dtype\t数组元素的数据类型，可选\n",
    "copy\t对象是否需要复制，可选\n",
    "order\t创建数组的样式，C为行方向，F为列方向，A为任意方向（默认）\n",
    "subok\t默认返回一个与基类类型一致的数组\n",
    "ndmin\t指定生成数组的最小维度\n",
    "\n",
    "\"\"\""
   ]
  },
  {
   "cell_type": "code",
   "execution_count": 2,
   "metadata": {
    "ExecuteTime": {
     "end_time": "2021-03-21T07:16:26.833137Z",
     "start_time": "2021-03-21T07:16:26.829860Z"
    }
   },
   "outputs": [],
   "source": [
    "# 1.1  dtype 参数\n",
    "import numpy as np\n",
    "a =np.array([[1,2], [3,4]])"
   ]
  },
  {
   "cell_type": "code",
   "execution_count": 3,
   "metadata": {
    "ExecuteTime": {
     "end_time": "2021-03-21T07:18:01.379758Z",
     "start_time": "2021-03-21T07:18:01.374358Z"
    }
   },
   "outputs": [
    {
     "name": "stdout",
     "output_type": "stream",
     "text": [
      "[1.+0.j 2.+0.j 3.+0.j]\n"
     ]
    }
   ],
   "source": [
    "#1.1  dtype 参数\n",
    "import numpy as np\n",
    "a = np.array([1, 2, 3], dtype=complex)\n",
    "print(a)  #[ 1.+0.j,  2.+0.j,  3.+0.j]"
   ]
  },
  {
   "cell_type": "markdown",
   "metadata": {},
   "source": [
    "###   np.array 转换为list"
   ]
  },
  {
   "cell_type": "code",
   "execution_count": 4,
   "metadata": {
    "ExecuteTime": {
     "end_time": "2021-03-21T07:17:28.927293Z",
     "start_time": "2021-03-21T07:17:28.921241Z"
    }
   },
   "outputs": [
    {
     "data": {
      "text/plain": "[[1.0, 0.0], [0.0, 1.0]]"
     },
     "execution_count": 4,
     "metadata": {},
     "output_type": "execute_result"
    }
   ],
   "source": [
    "np.eye(2,2).tolist()"
   ]
  },
  {
   "cell_type": "markdown",
   "metadata": {},
   "source": [
    "##  numpy.asarray\n",
    "\n",
    "numpy.asarray(a, dtype = None, order = None)"
   ]
  },
  {
   "cell_type": "code",
   "execution_count": 5,
   "metadata": {
    "ExecuteTime": {
     "end_time": "2021-03-21T07:20:20.019379Z",
     "start_time": "2021-03-21T07:20:20.012016Z"
    }
   },
   "outputs": [
    {
     "data": {
      "text/plain": "array([1, 2, 3])"
     },
     "execution_count": 5,
     "metadata": {},
     "output_type": "execute_result"
    }
   ],
   "source": [
    "a = np.asarray([1, 2, 3])  # array([1, 2, 3])\n",
    "a"
   ]
  },
  {
   "cell_type": "markdown",
   "metadata": {},
   "source": [
    "## numpy.arange"
   ]
  },
  {
   "cell_type": "code",
   "execution_count": 6,
   "metadata": {
    "ExecuteTime": {
     "end_time": "2021-03-21T07:21:21.382874Z",
     "start_time": "2021-03-21T07:21:21.377678Z"
    }
   },
   "outputs": [
    {
     "data": {
      "text/plain": "array([10, 12, 14, 16, 18])"
     },
     "execution_count": 6,
     "metadata": {},
     "output_type": "execute_result"
    }
   ],
   "source": [
    "\"\"\"\n",
    "3. numpy.arange(start, stop, step, dtype)\n",
    "\n",
    "start\t起始值，默认为0\n",
    "stop\t终止值（不包含）\n",
    "step\t步长，默认为1\n",
    "dtype\t返回ndarray的数据类型，如果没有提供，则会使用输入数据的类型。\n",
    "\n",
    "\"\"\"\n",
    "\n",
    "x = np.arange(10, 20, 2)  # [10  12  14  16  18]\n",
    "x"
   ]
  },
  {
   "cell_type": "markdown",
   "metadata": {},
   "source": [
    "## 数列\n",
    "\n",
    "###  np.linspace\n",
    "\n",
    "在python库numpy 中提供了函数linspace和logspace函数用于生产等差数列和等比数列。\n",
    "\n",
    "指定初始值、终止值、数量、是否包含终止值，默认为包含。\n",
    "\n",
    "np.linspace(start, stop, num=50, endpoint=True, retstep=False, dtype=None)"
   ]
  },
  {
   "cell_type": "code",
   "execution_count": 7,
   "metadata": {
    "ExecuteTime": {
     "end_time": "2021-03-21T07:28:57.997827Z",
     "start_time": "2021-03-21T07:28:57.992570Z"
    }
   },
   "outputs": [
    {
     "data": {
      "text/plain": "array([ 1.,  2.,  3.,  4.,  5.,  6.,  7.,  8.,  9., 10.])"
     },
     "execution_count": 7,
     "metadata": {},
     "output_type": "execute_result"
    }
   ],
   "source": [
    "\"\"\"\n",
    "start\t序列的起始值\n",
    "stop\t序列的终止值，如果endpoint为true，该值包含于数列中\n",
    "num\t要生成的等步长的样本数量，默认为50\n",
    "endpoint\t该值为 true 时，数列中包含stop值，反之不包含，默认是True。\n",
    "retstep\t如果为 True 时，生成的数组中会显示间距，反之不显示。\n",
    "dtype\tndarray 的数据类型\n",
    "\n",
    "\"\"\"\n",
    "\n",
    "np.linspace(1, 10, 10)"
   ]
  },
  {
   "cell_type": "markdown",
   "metadata": {},
   "source": [
    "### np.logspace"
   ]
  },
  {
   "cell_type": "code",
   "execution_count": 8,
   "metadata": {},
   "outputs": [
    {
     "data": {
      "text/plain": "'\\n4.2 np.logspace(start, stop, num=50, endpoint=True, base=10.0, dtype=None)\\n\\nstart\\t序列的起始值为：base ** start\\nstop\\t序列的终止值为：base ** stop。如果endpoint为true，该值包含于数列中\\nnum\\t要生成的等步长的样本数量，默认为50\\nendpoint\\t该值为 true 时，数列中中包含stop值，反之不包含，默认是True。\\nbase\\t对数 log 的底数。\\ndtype\\tndarray 的数据类型\\n'"
     },
     "execution_count": 8,
     "metadata": {},
     "output_type": "execute_result"
    }
   ],
   "source": [
    "\"\"\"\n",
    "4.2 np.logspace(start, stop, num=50, endpoint=True, base=10.0, dtype=None)\n",
    "\n",
    "start\t序列的起始值为：base ** start\n",
    "stop\t序列的终止值为：base ** stop。如果endpoint为true，该值包含于数列中\n",
    "num\t要生成的等步长的样本数量，默认为50\n",
    "endpoint\t该值为 true 时，数列中中包含stop值，反之不包含，默认是True。\n",
    "base\t对数 log 的底数。\n",
    "dtype\tndarray 的数据类型\n",
    "\"\"\""
   ]
  },
  {
   "cell_type": "code",
   "execution_count": 9,
   "metadata": {},
   "outputs": [],
   "source": [
    "np.linspace(1, 10, 10)  # [ 1.  2.  3.  4.  5.  6.  7.  8.  9. 10.]\n",
    "\n",
    "np.linspace(-10, 0, 5, endpoint = False)  # [-10.,  -8.,  -6.,  -4.,  -2.]\n",
    "\n",
    "a =np.linspace(1,10,10,retstep= True) # (array([ 1.,  2.,  3.,  4.,  5.,  6.,  7.,  8.,  9., 10.]), 1.0)\n",
    "# 扩展\n",
    "b =np.linspace(1,10,10).reshape([10,1])\n",
    "\n",
    "#等比\n",
    "a = np.logspace(1.0,  2.0, num =  10) \n",
    "\n",
    "a = np.logspace(0,9,10,base=2)  # [  1.   2.   4.   8.  16.  32.  64. 128. 256. 512.]\n",
    "\n"
   ]
  },
  {
   "cell_type": "markdown",
   "metadata": {},
   "source": [
    "## 切片"
   ]
  },
  {
   "cell_type": "code",
   "execution_count": 10,
   "metadata": {},
   "outputs": [
    {
     "ename": "SyntaxError",
     "evalue": "invalid syntax (<ipython-input-10-be8352ab47e1>, line 1)",
     "output_type": "error",
     "traceback": [
      "\u001B[0;36m  File \u001B[0;32m\"<ipython-input-10-be8352ab47e1>\"\u001B[0;36m, line \u001B[0;32m1\u001B[0m\n\u001B[0;31m    5. 切片\u001B[0m\n\u001B[0m       ^\u001B[0m\n\u001B[0;31mSyntaxError\u001B[0m\u001B[0;31m:\u001B[0m invalid syntax\n"
     ]
    }
   ],
   "source": [
    "5. 切片\n",
    "\n",
    "5.1 start:stop:step 设置起始，终止和步长的参数为 2，7 和 2\n",
    "\n",
    "5.2 a[i:]\n",
    "\n",
    "5.3 布尔索引  x[x >  5]\n",
    "\n",
    "5.4  ~（取补运算符）来过滤 NaN\n",
    "\n",
    "a = np.array([np.nan,  1,2,np.nan,3,4,5])  \n",
    "print (a[~np.isnan(a)])\n",
    "\n",
    "5.5 x=np.arange(32).reshape((8,4))\n",
    "\n",
    "5.6、传入多个索引数组（要使用np.ix_）\n",
    "\n",
    "x=np.arange(32).reshape((8,4))\n",
    "print (x[np.ix_([1,5,7,2],[0,3,1,2])])\n",
    "\n",
    "x[1,0] x[1,3] x[1,1] x[1,2]\n",
    "x[5,0] x[5,3] x[5,1] x[5,2]\n",
    "x[7,0] x[7,3] x[7,1] x[7,2]\n",
    "x[2,0] x[2,3] x[2,1] x[2,2]\n",
    "\n"
   ]
  },
  {
   "cell_type": "markdown",
   "metadata": {},
   "source": [
    "## NumPy 广播(Broadcast)"
   ]
  },
  {
   "cell_type": "code",
   "execution_count": null,
   "metadata": {},
   "outputs": [],
   "source": [
    "\n",
    "6. \n",
    "\n",
    "广播(Broadcast)是 numpy 对不同形状(shape)的数组进行数值计算的方式，\n",
    "对数组的算术运算通常在相应的元素上进行。\n",
    "\n",
    "6.1 如果两个数组 a 和 b 形状相同，即满足 a.shape == b.shape，\n",
    "那么 a*b 的结果就是 a 与 b 数组对应位相乘。这要求维数相同，\n",
    "且各维度的长度相同。\n",
    "\n",
    "a = np.array([1,2,3,4]) \n",
    "b = np.array([10,20,30,40])  \n",
    "\n",
    "c = a * b  # [ 10  40  90 160]\n",
    "\n",
    "\n",
    "6.2 当运算中的 2 个数组的形状不同时，numpy 将自动触发广播机制。如：\n",
    "\n",
    "import numpy as np \n",
    " \n",
    "a = np.array([[ 0, 0, 0],\n",
    "           [10,10,10],\n",
    "           [20,20,20],\n",
    "           [30,30,30]])\n",
    "b = np.array([1,2,3])\n",
    "print(a + b)\n",
    "\n",
    "[[ 1  2  3]\n",
    " [11 12 13]\n",
    " [21 22 23]\n",
    " [31 32 33]]\n",
    " \n",
    " \n",
    " import numpy as np \n",
    " \n",
    "a = np.array([[ 0, 0, 0],\n",
    "           [10,10,10],\n",
    "           [20,20,20],\n",
    "           [30,30,30]])\n",
    "b = np.array([1,2,3])\n",
    "bb = np.tile(b, (4, 1))  # 重复 b 的各个维度\n",
    "print(a + bb)\n",
    "\n",
    "[[ 1  2  3]\n",
    " [11 12 13]\n",
    " [21 22 23]\n",
    " [31 32 33]]\n",
    " \n",
    "b = np.array([1,2,3])\n",
    "bb = np.tile(b, (4, 1))  # 重复 b 的各个维度\n",
    "\n",
    "[[1, 2, 3],\n",
    "[1, 2, 3],\n",
    "[1, 2, 3],\n",
    "[1, 2, 3]]"
   ]
  },
  {
   "cell_type": "markdown",
   "metadata": {},
   "source": [
    "## Numpy 数组操作"
   ]
  },
  {
   "cell_type": "markdown",
   "metadata": {},
   "source": [
    "### reshape,flat, flatatten, ravel"
   ]
  },
  {
   "cell_type": "code",
   "execution_count": null,
   "metadata": {},
   "outputs": [],
   "source": [
    "7. Numpy 数组操作\n",
    "\n",
    "7.1修改数组形状\n",
    "\n",
    "7.1.1 reshape\t不改变数据的条件下修改形状\n",
    "7.1.2 flat\t数组元素迭代器\n",
    "\n",
    "a  = np.arange(8).reshape(4,2)\n",
    "\n",
    "[i for i in a.flat]  # [0, 1, 2, 3, 4, 5, 6, 7]\n",
    "\n",
    "7.1.3 flatten\t返回一份数组拷贝，对拷贝所做的修改不会影响原始数组\n",
    "\n",
    "# ndarray.flatten(order='C')\n",
    "\n",
    "order：'C' -- 按行，'F' -- 按列，'A' -- 原顺序，'K' -- 元素在内存中的出现顺序。\n",
    "\n",
    "print (a.flatten())   # [0, 1, 2, 3, 4, 5, 6, 7]\n",
    "\n",
    "7.1.4ravel\t返回展开数组, ，修改会影响原始数组。\n",
    "\n",
    "numpy.ravel(a, order='C')\n",
    "\n",
    "order：'C' -- 按行，'F' -- 按列，'A' -- 原顺序，'K' -- 元素在内存中的出现顺序。\n",
    "\n",
    "a.ravel()  # [0, 1, 2, 3, 4, 5, 6, 7]\n"
   ]
  },
  {
   "cell_type": "markdown",
   "metadata": {},
   "source": [
    "### 翻转数组  transpose, swapaxes\n"
   ]
  },
  {
   "cell_type": "code",
   "execution_count": null,
   "metadata": {},
   "outputs": [],
   "source": [
    "7.2.1 transpose\t对换数组的维度\n",
    "\n",
    "numpy.transpose(arr, axes)\n",
    "\n",
    "\n",
    "7.2.2 ndarray.T\t和 self.transpose() 相同\n",
    "\n",
    "7.2.3 rollaxis\t向后滚动指定的轴\n",
    "\n",
    "7.2.4 swapaxes\t对换数组的两个轴\n",
    "\n",
    "numpy.swapaxes(arr, axis1, axis2)\n",
    "\n",
    "arr：输入的数组\n",
    "axis1：对应第一个轴的整数\n",
    "axis2：对应第二个轴的整数"
   ]
  },
  {
   "cell_type": "markdown",
   "metadata": {},
   "source": [
    "### 连接数组concatenate, stack, hstack, vstack"
   ]
  },
  {
   "cell_type": "code",
   "execution_count": null,
   "metadata": {},
   "outputs": [],
   "source": [
    "\n",
    "7.3.1 concatenate\t连接沿现有轴的数组序列\n",
    "\n",
    "numpy.concatenate((a1, a2, ...), axis)\n",
    "a1, a2, ...：相同类型的数组\n",
    "axis：沿着它连接数组的轴，默认为 0\n",
    "\n",
    "a = np.array([[1,2],[3,4]])\n",
    "b = np.array([[5,6],[7,8]])\n",
    "\n",
    "np.concatenate((a,b))\n",
    "\n",
    "沿轴 0 连接两个数组：\n",
    "[[1 2]\n",
    " [3 4]\n",
    " [5 6]\n",
    " [7 8]]\n",
    " \n",
    "np.concatenate((a,b),axis = 1)\n",
    "沿轴 1 连接两个数组：\n",
    "[[1 2 5 6]\n",
    " [3 4 7 8]]\n",
    "\n",
    "7.3.3 stack\t沿着新的轴加入一系列数组。\n",
    "\n",
    "numpy.stack(arrays, axis)\n",
    "\n",
    "\n",
    "arrays相同形状的数组序列\n",
    "axis：返回数组中的轴，输入数组沿着它来堆叠\n",
    "\n",
    "a = np.array([[1,2],[3,4]])\n",
    "b = np.array([[5,6],[7,8]])\n",
    "\n",
    "np.stack((a,b),0)\n",
    "\n",
    "沿轴 0 堆叠两个数组：\n",
    "[[[1 2]\n",
    "  [3 4]]\n",
    "\n",
    " [[5 6]\n",
    "  [7 8]]]\n",
    "\n",
    "np.stack((a,b),1)\n",
    "\n",
    "沿轴 1 堆叠两个数组：\n",
    "[[[1 2]\n",
    "  [5 6]]\n",
    "\n",
    " [[3 4]\n",
    "  [7 8]]]\n",
    "\n",
    "7.3.3 hstack\t水平堆叠序列中的数组（列方向）\n",
    "\n",
    "np.hstack((a,b))\n",
    "\n",
    "水平堆叠：\n",
    "[[1 2 5 6]\n",
    " [3 4 7 8]]\n",
    " \n",
    "7.3.4 vstack\t竖直堆叠序列中的数组（行方向）\n",
    "\n",
    "np.vstack(a, b)\n",
    "\n",
    "竖直堆叠：\n",
    "[[1 2]\n",
    " [3 4]\n",
    " [5 6]\n",
    " [7 8]]"
   ]
  },
  {
   "cell_type": "markdown",
   "metadata": {},
   "source": [
    "### 分割数组split， "
   ]
  },
  {
   "cell_type": "code",
   "execution_count": null,
   "metadata": {},
   "outputs": [],
   "source": [
    "7.4.1 split\t将一个数组分割为多个子数组\n",
    "\n",
    "numpy.split(ary, indices_or_sections, axis)\n",
    "ary：被分割的数组\n",
    "indices_or_sections：果是一个整数，就用该数平均切分，如果是一个数组，为沿轴切分的位置（左开右闭）\n",
    "axis：沿着哪个维度进行切向，默认为0，横向切分。为1时，纵向切分\n",
    "\n",
    "a = np.arange(9)\n",
    "np.split(a,3)\n",
    "\n",
    "将数组在一维数组中表明的位置分割：\n",
    "[array([0, 1, 2, 3]), array([4, 5, 6]), array([7, 8])]\n",
    "\n",
    "np.split(a,[4,7])\n",
    "\n",
    "将数组分为三个大小相等的子数组：\n",
    "[array([0, 1, 2]), array([3, 4, 5]), array([6, 7, 8])]\n",
    "\n",
    "\n",
    "7.4.2 hsplit\t将一个数组水平分割为多个子数组（按列）\n",
    "\n",
    "7.4.3 vsplit\t将一个数组垂直分割为多个子数组（按行）"
   ]
  },
  {
   "cell_type": "markdown",
   "metadata": {},
   "source": [
    "### 数组元素的添加与删除resize, append, insert"
   ]
  },
  {
   "cell_type": "code",
   "execution_count": null,
   "metadata": {},
   "outputs": [],
   "source": [
    "7.5.1 resize\t返回指定形状的新数组\n",
    "\n",
    "numpy.resize(arr, shape)\n",
    "arr：要修改大小的数组\n",
    "shape：返回数组的新形状\n",
    "\n",
    "ex. \n",
    "a = np.array([[1,2,3],[4,5,6]])\n",
    "np.resize(a, (3,2))\n",
    "\n",
    "7.5.2 append\t将值添加到数组末尾\n",
    "\n",
    "numpy.append(arr, values, axis=None)\n",
    "\n",
    "arr：输入数组\n",
    "values：要向arr添加的值，需要和arr形状相同（除了要添加的轴）\n",
    "axis：默认为 None。当axis无定义时，是横向加成，返回总是为一维数组！\n",
    "当axis有定义的时候，分别为0和1的时候。当axis有定义的时候，\n",
    "分别为0和1的时候（列数要相同）。当axis为1时，数组是加在右边（行数要相同）。\n",
    "\n",
    "np.append(a, [[7,8,9]],axis = 0)\n",
    "\n",
    "沿轴 0 添加元素：\n",
    "[[1 2 3]\n",
    " [4 5 6]\n",
    " [7 8 9]]\n",
    "np.append(a, [[5,5,5],[7,8,9]],axis = 1)\n",
    "\n",
    "沿轴 1 添加元素：\n",
    "[[1 2 3 5 5 5]\n",
    " [4 5 6 7 8 9]]\n",
    "\n",
    "7.5.3 insert\t沿指定轴将值插入到指定下标之前\n",
    "\n",
    "numpy.insert(arr, obj, values, axis)\n",
    "arr：输入数组\n",
    "obj：在其之前插入值的索引\n",
    "values：要插入的值\n",
    "axis：沿着它插入的轴，如果未提供，则输入数组会被展开\n",
    "\n",
    "ex. \n",
    "a = np.array([[1,2],[3,4],[5,6]])\n",
    "\n",
    "np.insert(a,3,[11,12])\n",
    "\n",
    "未传递 Axis 参数。 在插入之前输入数组会被展开。\n",
    "[ 1  2  3 11 12  4  5  6]\n",
    "\n",
    "np.insert(a,1,[11],axis = 0)\n",
    "\n",
    "传递了 Axis 参数。 会广播值数组来配输入数组。\n",
    "沿轴 0 广播：\n",
    "[[ 1  2]\n",
    " [11 11]\n",
    " [ 3  4]\n",
    " [ 5  6]]\n",
    "\n",
    "np.insert(a,1,11,axis = 1)\n",
    "\n",
    "沿轴 1 广播：\n",
    "[[ 1 11  2]\n",
    " [ 3 11  4]\n",
    " [ 5 11  6]]\n",
    "\n",
    "7.5.4 delete\t删掉某个轴的子数组，并返回删除后的新数组\n",
    "\n",
    "Numpy.delete(arr, obj, axis)\n",
    "参数说明：\n",
    "\n",
    "arr：输入数组\n",
    "obj：可以被切片，整数或者整数数组，表明要从输入数组删除的子数组\n",
    "axis：沿着它删除给定子数组的轴，如果未提供，则输入数组会被展开\n",
    "\n",
    "a = np.arange(12).reshape(3,4)\n",
    "\n",
    "np.delete(a,5)\n",
    "\n",
    "未传递 Axis 参数。 在插入之前输入数组会被展开。\n",
    "[ 0  1  2  3  4  6  7  8  9 10 11]\n",
    "\n",
    "np.delete(a,1,axis = 1)\n",
    "\n",
    "删除第二列：\n",
    "[[ 0  2  3]\n",
    " [ 4  6  7]\n",
    " [ 8 10 11]]\n",
    "\n",
    "\n",
    "np.delete(a, np.s_[::2])\n",
    "\n",
    "包含从数组中删除的替代值的切片：\n",
    "[ 2  4  6  8 10]"
   ]
  },
  {
   "cell_type": "markdown",
   "metadata": {},
   "source": [
    "### unique"
   ]
  },
  {
   "cell_type": "code",
   "execution_count": null,
   "metadata": {},
   "outputs": [],
   "source": [
    "unique\t查找数组内的唯一元素  (用于去除数组中的重复元素。)\n",
    "\n",
    "numpy.unique(arr, return_index, return_inverse, return_counts)\n",
    "\n",
    "arr：输入数组，如果不是一维数组则会展开\n",
    "return_index：如果为true，返回新列表元素在旧列表中的位置（下标），并以列表形式储\n",
    "return_inverse：如果为true，返回旧列表元素在新列表中的位置（下标），并以列表形式储\n",
    "return_counts：如果为true，返回去重数组中的元素在原数组中的出现次数\n",
    "\n",
    "ex. \n",
    "a = np.array([5,2,6,2,7,5,6,8,2,9])\n",
    "np.unique(a)\n",
    "\n",
    "第一个数组的去重值：\n",
    "[2 5 6 7 8 9]\n",
    "\n",
    "u,indices = np.unique(a, return_index = True)\n",
    "u \n",
    "去重数组的索引数组：\n",
    "[1 0 2 4 7 9]\n",
    "\n",
    "\n",
    "u,indices = np.unique(a,return_inverse = True)\n",
    "u \n",
    "去重数组的下标：\n",
    "[2 5 6 7 8 9]\n",
    "\n",
    "indices \n",
    "下标为：\n",
    "[1 0 2 0 3 1 2 4 0 5]\n",
    "\n",
    "u[indices]\n",
    "使用下标重构原数组：\n",
    "[5 2 6 2 7 5 6 8 2 9]\n",
    "\n",
    "u,indices = np.unique(a,return_counts = True)\n",
    "\n",
    "返回去重元素的重复数量：\n",
    "u \n",
    "[2 5 6 7 8 9]\n",
    "\n",
    "indices\n",
    "[3 2 2 1 1 1] "
   ]
  },
  {
   "cell_type": "markdown",
   "metadata": {},
   "source": [
    "## NumPy 位运算"
   ]
  },
  {
   "cell_type": "code",
   "execution_count": null,
   "metadata": {},
   "outputs": [],
   "source": [
    "bitwise_and\t对数组元素执行位与操作\n",
    "bitwise_or\t对数组元素执行位或操作\n",
    "invert\t按位取反\n",
    "left_shift\t向左移动二进制表示的位\n",
    "right_shift\t向右移动二进制表示的位\n",
    "\n",
    "a,b = 13,17\n",
    "bin(a), bin(b)\n",
    "np.bitwise_and(13, 17)\n",
    "\n",
    "np.bitwise_and(13, 17)\n",
    "\n",
    "np.invert(np.array([13], dtype = np.uint8))  # 反\n",
    " # 242\n",
    "    \n",
    "np.binary_repr(13, width = 8)\n",
    "# 00001101\n",
    "13 的二进制表示：\n",
    "00001101"
   ]
  },
  {
   "cell_type": "markdown",
   "metadata": {},
   "source": [
    "## NumPy 字符串函数"
   ]
  },
  {
   "cell_type": "code",
   "execution_count": null,
   "metadata": {},
   "outputs": [],
   "source": [
    "https://www.runoob.com/numpy/numpy-string-functions.html\n",
    "\n",
    "\n",
    "9.1 add()\t对两个数组的逐个字符串元素进行连接\n",
    "\n",
    "np.char.add(['hello', 'hi'],[' abc', ' xyz'])\n",
    "\n",
    "\n",
    "9.2 multiply()\t返回按元素多重连接后的字符串\n",
    "\n",
    "np.char.multiply('Runoob ',3)\n",
    "\n",
    "9.3 center()\t居中字符串\n",
    "\n",
    "np.char.center('Runoob', 20,fillchar = '*')\n",
    "\n",
    "# *******Runoob*******\n",
    "\n",
    "9.4 capitalize()\t将字符串第一个字母转换为大写\n",
    " \n",
    "np.char.capitalize('runoob')\n",
    " \n",
    "9.5 title()\t将字符串的每个单词的第一个字母转换为大写\n",
    " \n",
    " np.char.title('i like runoob')\n",
    " \n",
    " # I Like Runoob\n",
    " \n",
    "9.6 lower()\t数组元素转换为小写\n",
    "\n",
    " np.char.lower(['RUNOOB','GOOGLE']\n",
    " \n",
    " # ['runoob' 'google']\n",
    " \n",
    "9.7 upper()\t数组元素转换为大写\n",
    " \n",
    " np.char.upper(['runoob','google'])\n",
    " \n",
    "9.8 split()\t指定分隔符对字符串进行分割，并返回数组列表\n",
    " \n",
    " np.char.split ('www.runoob.com', sep = '.')\n",
    " # ['www', 'runoob', 'com']\n",
    " \n",
    "9.9 splitlines()\t返回元素中的行列表，以换行符分割  \\n，\\r，\\r\\n 都可用作换行符。\n",
    " \n",
    " np.char.splitlines('i\\nlike runoob?')\n",
    "  # ['i', 'like runoob?']\n",
    "  \n",
    " \n",
    "9.10 strip()\t移除元素开头或者结尾处的特定字符\n",
    " \n",
    " np.char.strip(['arunooba','admin','java'],'a')\n",
    " #  ['runoob' 'dmin' 'jav']\n",
    " \n",
    "9.11 join()\t通过指定分隔符来连接数组中的元素\n",
    " \n",
    " \n",
    " # 操作字符串\n",
    "print (np.char.join(':','runoob'))  #r:u:n:o:o:b\n",
    " \n",
    "# 指定多个分隔符操作数组元素\n",
    "print (np.char.join([':','-'],['runoob','google']))\n",
    "\n",
    "# ['r:u:n:o:o:b' 'g-o-o-g-l-e']\n",
    "\n",
    "9.12 replace()\t使用新字符串替换字符串中的所有子字符串\n",
    " \n",
    " np.char.replace ('i like runoob', 'oo', 'cc')\n",
    " \n",
    " # i like runccb\n",
    " \n",
    "9.13 decode()\t数组元素依次调用str.decode\n",
    " \n",
    " a = np.char.encode('runoob', 'cp500') \n",
    "print (a)\n",
    "print (np.char.decode(a,'cp500'))\n",
    " \n",
    "#  b'\\x99\\xa4\\x95\\x96\\x96\\x82'\n",
    "# runoob\n",
    " \n",
    "9.14 encode()\t数组元素依次调用str.encode\n",
    "\n",
    "np.char.encode('runoob', 'cp500') \n",
    " \n",
    " # b'\\x99\\xa4\\x95\\x96\\x96\\x82'"
   ]
  },
  {
   "cell_type": "markdown",
   "metadata": {},
   "source": [
    "## NumPy 数学函数"
   ]
  },
  {
   "cell_type": "markdown",
   "metadata": {},
   "source": [
    "### np.sin() , np.cos(), np.tan()"
   ]
  },
  {
   "cell_type": "markdown",
   "metadata": {},
   "source": [
    "### 舍入函数 numpy.around()"
   ]
  },
  {
   "cell_type": "code",
   "execution_count": null,
   "metadata": {},
   "outputs": [],
   "source": [
    "numpy.around() 函数返回指定数字的四舍五入值。\n",
    "\n",
    "numpy.around(a,decimals)\n",
    "参数说明：\n",
    "\n",
    "a: 数组\n",
    "decimals: 舍入的小数位数。 默认值为0。 如果为负，整数将四舍五入到小数点左侧的位置\n",
    "\n",
    "a = np.array([1.0,5.55,  123,  0.567,  25.532])  \n",
    "\n",
    "np.around(a)  # 舍入后：[  1.   6. 123.   1.  26.]\n",
    "\n",
    "\n",
    "\n",
    "np.around(a, decimals =  1)  # [  1.    5.6 123.    0.6  25.5]\n",
    "\n",
    "np.around(a, decimals =  -1)  # [  0.  10. 120.   0.  30.]"
   ]
  },
  {
   "cell_type": "markdown",
   "metadata": {},
   "source": [
    "### numpy.floor()"
   ]
  },
  {
   "cell_type": "code",
   "execution_count": null,
   "metadata": {},
   "outputs": [],
   "source": [
    "umpy.floor() 返回小于或者等于指定表达式的最大整数，即向下取整。\n",
    "\n",
    "a = np.array([-1.7,  1.5,  -0.2,  0.6,  10])\n",
    "\n",
    "np.floor(a)  # [-2.  1. -1.  0. 10.]"
   ]
  },
  {
   "cell_type": "markdown",
   "metadata": {},
   "source": [
    "### numpy.ceil()"
   ]
  },
  {
   "cell_type": "code",
   "execution_count": null,
   "metadata": {},
   "outputs": [],
   "source": [
    "numpy.ceil() 返回大于或者等于指定表达式的最小整数，即向上取整。\n",
    "\n",
    "a = np.array([-1.7,  1.5,  -0.2,  0.6,  10]) \n",
    "\n",
    "np.ceil(a) # [-1.  2. -0.  1. 10.]"
   ]
  },
  {
   "cell_type": "markdown",
   "metadata": {},
   "source": [
    "## NumPy 算术函数\n",
    "\n",
    "NumPy 算术函数包含简单的加减乘除: add()，subtract()，multiply() 和 divide()。\n",
    "\n",
    "需要注意的是数组必须具有相同的形状或符合数组广播规则。"
   ]
  },
  {
   "cell_type": "code",
   "execution_count": null,
   "metadata": {},
   "outputs": [],
   "source": [
    "np.add(a,b) \n",
    "\n",
    "np.subtract(a,b)\n",
    "\n",
    "np.multiply(a,b)\n",
    "\n",
    "np.divide(a,b) \n",
    "\n",
    "numpy.reciprocal(a)   # 函数返回参数逐元素的倒数。如 1/4 倒数为 4/1。\n",
    "\n",
    "numpy.power(底数， 幂)  #函数将第一个输入数组中的元素作为底数，计算它与第二个输入数组中相应元素的幂。\n",
    "\n",
    "a = np.array([10,100,1000]) \n",
    "\n",
    "np.power(a,2)\n",
    "\n",
    "b = np.array([1,2,3])  \n",
    "np.power(a,b）         # [        10      10000 1000000000]\n",
    "\n",
    "numpy.mod()            # 计算输入数组中相应元素的相除后的余数。 函数 numpy.remainder() 也产生相同的结果。\n",
    "numpy.remainder()     # 计算输入数组中相应元素的相除后的余数\n",
    "\n",
    "\n",
    "numpy.ptp()函数计算数组中元素最大值与最小值的差（最大值 - 最小值）。\n",
    "\n",
    "a = np.array([[3,7,5],[8,4,3],[2,4,9]])\n",
    "\n",
    "np.ptp(a)  # 总\n",
    "\n",
    "np.ptp(a, axis =  0) #行 \n",
    "\n",
    "np.ptp(a, axis =  1) #列 \n",
    "\n",
    "\n",
    "numpy.median() 函数用于计算数组 a 中元素的中位数（中值）\n",
    "\n",
    "numpy.mean() 函数返回数组中元素的算术平均值。 如果提供了轴，则沿其计算。\n",
    "\n",
    "numpy.average() 函数根据在另一个数组中给出的各自的权重计算数组中元素的加权平均值。\n",
    "\n",
    "np.std()\n",
    "np.var()\n"
   ]
  },
  {
   "cell_type": "markdown",
   "metadata": {},
   "source": [
    "## NumPy 排序、条件刷选函数"
   ]
  },
  {
   "cell_type": "markdown",
   "metadata": {},
   "source": [
    "### numpy.sort()"
   ]
  },
  {
   "cell_type": "markdown",
   "metadata": {},
   "source": [
    "### numpy.argsort()"
   ]
  },
  {
   "cell_type": "markdown",
   "metadata": {},
   "source": [
    "### numpy.argmax()"
   ]
  },
  {
   "cell_type": "markdown",
   "metadata": {},
   "source": [
    "### numpy.where()"
   ]
  },
  {
   "cell_type": "code",
   "execution_count": null,
   "metadata": {},
   "outputs": [],
   "source": [
    "numpy.sort() 函数返回输入数组的排序副本。函数格式如下：\n",
    "\n",
    "a: 要排序的数组\n",
    "axis: 沿着它排序数组的轴，如果没有数组会被展开，沿着最后的轴排序， axis=0 按列排序，axis=1 按行排序\n",
    "kind: 默认为'quicksort'（快速排序）\n",
    "order: 如果数组包含字段，则是要排序的字段\n",
    "\n",
    "numpy.argsort() 函数返回的是数组值从小到大的索引值。\n",
    "\n",
    "\n",
    "numpy.argmax() \n",
    "numpy.argmin()函数分别沿给定轴返回最大和最小元素的索引。\n",
    "\n",
    "\n",
    "numpy.nonzero() 函数返回输入数组中非零元素的索引。\n",
    "\n",
    "numpy.where() 函数返回输入数组中满足给定条件的元素的索引。\n",
    "\n",
    "a = np.arange(10)\n",
    "\n",
    "np.where(a < 5, a, 10*a)\n",
    "\n",
    "# array([ 0,  1,  2,  3,  4, 50, 60, 70, 80, 90])\n",
    "\n",
    "ex. \n",
    "\n",
    "a = np.array([[0, 1, 2], [0, 2, 4], [0, 3, 6]])\n",
    "np.where(a < 4, a, -1)  # -1 is broadcast\n",
    "\n",
    "\n",
    "# array([[0, 1, 2], [0, 2, -1], [0, 3, -1]])\n",
    "# 满足条件就返回a中对应的值，不满足条件就返回定义的广播值\n",
    "\n",
    "numpy.extract() 函数根据某个条件从数组中抽取元素，返回满条件的元素。\n",
    "\n",
    "\n",
    "x = np.arange(9.).reshape(3,  3)  \n",
    "\n",
    "condition = np.mod(x,2)  ==  0  \n",
    "\n",
    "np.extract(condition, x)  # <=====> x[x % 2 == 0]  <=====> x[np.mod(x,2)  ==  0 ]\n",
    "\n",
    "# [0., 2., 4., 6., 8.]"
   ]
  },
  {
   "cell_type": "markdown",
   "metadata": {},
   "source": [
    "## NumPy 矩阵库(Matrix)"
   ]
  },
  {
   "cell_type": "code",
   "execution_count": null,
   "metadata": {},
   "outputs": [],
   "source": [
    "NumPy 中包含了一个矩阵库 numpy.matlib，该模块中的函数返回的是一个矩阵，\n",
    "1. 转置 np.transpose(); A.T\n",
    "\n",
    "2. np.zeros(), np.ones(), np.eye()"
   ]
  },
  {
   "cell_type": "markdown",
   "metadata": {},
   "source": [
    "## NumPy 线性代数"
   ]
  },
  {
   "cell_type": "markdown",
   "metadata": {},
   "source": [
    "### dot"
   ]
  },
  {
   "cell_type": "code",
   "execution_count": null,
   "metadata": {},
   "outputs": [],
   "source": [
    "1. dot\t两个数组的点积，即元素对应相乘。\n",
    "\n",
    "a = np.array([[1,2],[3,4]])\n",
    "b = np.array([[11,12],[13,14]])\n",
    "print(np.dot(a,b))  # [[1*11+2*13, 1*12+2*14],[3*11+4*13, 3*12+4*14]]"
   ]
  },
  {
   "cell_type": "markdown",
   "metadata": {},
   "source": [
    "### vdot"
   ]
  },
  {
   "cell_type": "code",
   "execution_count": null,
   "metadata": {},
   "outputs": [],
   "source": [
    "a = np.array([[1,2],[3,4]]) \n",
    "b = np.array([[11,12],[13,14]]) \n",
    " \n",
    "# vdot 将数组展开计算内积  1*11 + 2*12 + 3*13 + 4*14 = 130\n",
    "print (np.vdot(a,b))"
   ]
  },
  {
   "cell_type": "markdown",
   "metadata": {
    "ExecuteTime": {
     "end_time": "2021-03-21T07:56:33.582117Z",
     "start_time": "2021-03-21T07:56:33.261231Z"
    }
   },
   "source": [
    "### inner, matmul, det, solve, inv"
   ]
  },
  {
   "cell_type": "code",
   "execution_count": null,
   "metadata": {},
   "outputs": [],
   "source": [
    "3. inner\t两个数组的内积\n",
    "numpy.inner() 函数返回一维数组的向量内积。对于更高的维度，它返回最后一个轴上的和的乘积。\n",
    "\n",
    "\n",
    "\n",
    "4. matmul\t两个数组的矩阵积\n",
    "\n",
    "\n",
    "5. determinant\t数组的行列式\n",
    "\n",
    "numpy.linalg.det() 函数计算输入矩阵的行列式。\n",
    "\n",
    "\n",
    "6. solve\t求解线性矩阵方程\n",
    "\n",
    "numpy.linalg.solve() 函数给出了矩阵形式的线性方程的解。\n",
    "\n",
    "7. inv\t计算矩阵的乘法逆矩阵\n",
    "\n",
    "\n",
    "import numpy as np \n",
    " \n",
    "a = np.array([[1,1,1],[0,2,5],[2,5,-1]]) \n",
    " \n",
    "print ('数组 a：')\n",
    "print (a)\n",
    "ainv = np.linalg.inv(a) \n",
    " \n",
    "print ('a 的逆：')\n",
    "print (ainv)\n",
    " \n",
    "print ('矩阵 b：')\n",
    "b = np.array([[6],[-4],[27]]) \n",
    "print (b)\n",
    " \n",
    "print ('计算：A^(-1)B：')\n",
    "x = np.linalg.solve(a,b) \n",
    "print (x)\n",
    "# 这就是线性方向 x = 5, y = 3, z = -2 的解"
   ]
  },
  {
   "cell_type": "markdown",
   "metadata": {},
   "source": [
    "## NumPy IO\n",
    "\n",
    "Numpy 可以读写磁盘上的文本数据或二进制数据。\n",
    "\n",
    "NumPy 为 ndarray 对象引入了一个简单的文件格式：npy。\n",
    "\n",
    "npy 文件用于存储重建 ndarray 所需的数据、图形、dtype 和其他信息。\n",
    "\n",
    "常用的 IO 函数有：\n",
    "\n",
    "load() 和 save() 函数是读写文件数组数据的两个主要函数，默认情况下，数组是以未压缩的原始二进制格式保存在扩展名为 .npy 的文件中。\n",
    "savez() 函数用于将多个数组写入文件，默认情况下，数组是以未压缩的原始二进制格式保存在扩展名为 .npz 的文件中。\n",
    "loadtxt() 和 savetxt() 函数处理正常的文本文件(.txt 等)"
   ]
  },
  {
   "cell_type": "markdown",
   "metadata": {
    "ExecuteTime": {
     "end_time": "2021-03-21T07:58:20.575079Z",
     "start_time": "2021-03-21T07:58:20.563938Z"
    }
   },
   "source": [
    "### np.save()"
   ]
  },
  {
   "cell_type": "code",
   "execution_count": null,
   "metadata": {},
   "outputs": [],
   "source": [
    "numpy.save() 函数将数组保存到以 .npy 为扩展名的文件中。\n",
    "参数说明：\n",
    "\n",
    "file：要保存的文件，扩展名为 .npy，如果文件路径末尾没有扩展名 .npy，该扩展名会被自动加上。\n",
    "arr: 要保存的数组\n",
    "allow_pickle: 可选，布尔值，允许使用 Python pickles 保存对象数组，Python 中的 pickle 用于在保存到磁盘文件或从磁盘文件读取之前，对对象进行序列化和反序列化。\n",
    "fix_imports: 可选，为了方便 Pyhton2 中读取 Python3 保存的数据。\n",
    "\n",
    "\n",
    "ex. \n",
    "import numpy as np \n",
    " \n",
    "a = np.array([1,2,3,4,5]) \n",
    " \n",
    "# 保存到 outfile.npy 文件上\n",
    "np.save('outfile.npy',a) \n",
    " \n",
    "# 保存到 outfile2.npy 文件上，如果文件路径末尾没有扩展名 .npy，该扩展名会被自动加上\n",
    "np.save('outfile2',a)"
   ]
  },
  {
   "cell_type": "markdown",
   "metadata": {},
   "source": [
    "### np.load()"
   ]
  },
  {
   "cell_type": "code",
   "execution_count": null,
   "metadata": {},
   "outputs": [],
   "source": [
    "2. 可以看出文件是乱码的，因为它们是 Numpy 专用的二进制格式后的数据。\n",
    "\n",
    "我们可以使用 load() 函数来读取数据就可以正常显示了：\n",
    "\n",
    "import numpy as np \n",
    " \n",
    "b = np.load('outfile.npy')  \n",
    "print (b)"
   ]
  },
  {
   "cell_type": "markdown",
   "metadata": {},
   "source": [
    "### np.savez"
   ]
  },
  {
   "cell_type": "code",
   "execution_count": null,
   "metadata": {},
   "outputs": [],
   "source": [
    "3.  np.savez\n",
    "numpy.savez() 函数将多个数组保存到以 npz 为扩展名的文件中。\n",
    "\n",
    "numpy.savez(file, *args, **kwds)\n",
    "参数说明：\n",
    "\n",
    "file：要保存的文件，扩展名为 .npz，如果文件路径末尾没有扩展名 .npz，该扩展名会被自动加上。\n",
    "args: 要保存的数组，可以使用关键字参数为数组起一个名字，非关键字参数传递的数组会自动起名为 arr_0, arr_1, …　。\n",
    "kwds: 要保存的数组使用关键字名称。\n",
    "实例\n",
    "import numpy as np \n",
    " \n",
    "a = np.array([[1,2,3],[4,5,6]])\n",
    "b = np.arange(0, 1.0, 0.1)\n",
    "c = np.sin(b)\n",
    "# c 使用了关键字参数 sin_array\n",
    "np.savez(\"runoob.npz\", a, b, sin_array = c)\n",
    "r = np.load(\"runoob.npz\")  \n",
    "print(r.files) # 查看各个数组名称\n",
    "print(r[\"arr_0\"]) # 数组 a\n",
    "print(r[\"arr_1\"]) # 数组 b\n",
    "print(r[\"sin_array\"]) # 数组 c"
   ]
  },
  {
   "cell_type": "markdown",
   "metadata": {},
   "source": [
    "### savetxt()"
   ]
  },
  {
   "cell_type": "code",
   "execution_count": null,
   "metadata": {},
   "outputs": [],
   "source": [
    "savetxt() 函数是以简单的文本文件格式存储数据，对应的使用 loadtxt() 函数来获取数据。\n",
    "\n",
    "np.loadtxt(FILENAME, dtype=int, delimiter=' ')\n",
    "np.savetxt(FILENAME, a, fmt=\"%d\", delimiter=\",\")\n",
    "参数 delimiter 可以指定各种分隔符、针对特定列的转换器函数、需要跳过的行数等。\n",
    "\n",
    "实例\n",
    "import numpy as np \n",
    " \n",
    "a = np.array([1,2,3,4,5]) \n",
    "np.savetxt('out.txt',a) \n",
    "b = np.loadtxt('out.txt')  \n",
    " \n",
    "print(b)"
   ]
  },
  {
   "cell_type": "markdown",
   "metadata": {},
   "source": [
    "## 作图"
   ]
  },
  {
   "cell_type": "code",
   "execution_count": null,
   "metadata": {},
   "outputs": [],
   "source": [
    "\n",
    "16. 作图\n",
    "'-'\t实线样式\n",
    "'--'\t短横线样式\n",
    "'-.'\t点划线样式\n",
    "':'\t虚线样式\n",
    "'.'\t点标记\n",
    "','\t像素标记\n",
    "'o'\t圆标记\n",
    "'v'\t倒三角标记\n",
    "'^'\t正三角标记\n",
    "'&lt;'\t左三角标记\n",
    "'&gt;'\t右三角标记\n",
    "'1'\t下箭头标记\n",
    "'2'\t上箭头标记\n",
    "'3'\t左箭头标记\n",
    "'4'\t右箭头标记\n",
    "'s'\t正方形标记\n",
    "'p'\t五边形标记\n",
    "'*'\t星形标记\n",
    "'h'\t六边形标记 1\n",
    "'H'\t六边形标记 2\n",
    "'+'\t加号标记\n",
    "'x'\tX 标记\n",
    "'D'\t菱形标记\n",
    "'d'\t窄菱形标记\n",
    "'&#124;'\t竖直线标记\n",
    "'_'\t水平线标记\n",
    "\n",
    "\n",
    "’b'\t蓝色\n",
    "'g'\t绿色\n",
    "'r'\t红色\n",
    "'c'\t青色\n",
    "'m'\t品红色\n",
    "'y'\t黄色\n",
    "'k'\t黑色\n",
    "'w'\t白色\n",
    "\"\"\"\n"
   ]
  },
  {
   "cell_type": "markdown",
   "metadata": {},
   "source": [
    "## 随机数np.random\n",
    "\n",
    "[numpy.random用法](https://blog.csdn.net/weixin_42029738/article/details/81977492)"
   ]
  },
  {
   "cell_type": "markdown",
   "metadata": {},
   "source": [
    "### rand均匀分布"
   ]
  },
  {
   "cell_type": "code",
   "execution_count": null,
   "metadata": {
    "ExecuteTime": {
     "end_time": "2021-03-12T02:12:09.400891Z",
     "start_time": "2021-03-12T02:12:09.396985Z"
    }
   },
   "outputs": [],
   "source": [
    "#  rand(d0, d1, ..., dn)  (0,1)内的均匀分布\n",
    "np.random.rand?"
   ]
  },
  {
   "cell_type": "code",
   "execution_count": null,
   "metadata": {
    "ExecuteTime": {
     "end_time": "2021-03-12T02:12:24.745844Z",
     "start_time": "2021-03-12T02:12:24.741001Z"
    }
   },
   "outputs": [],
   "source": [
    "np.random.rand(1,20)"
   ]
  },
  {
   "cell_type": "markdown",
   "metadata": {},
   "source": [
    "###  randn 标准正态分布"
   ]
  },
  {
   "cell_type": "code",
   "execution_count": null,
   "metadata": {
    "ExecuteTime": {
     "end_time": "2021-03-12T02:12:33.510627Z",
     "start_time": "2021-03-12T02:12:33.505487Z"
    }
   },
   "outputs": [],
   "source": [
    "# randn(d0, d1, ..., dn) \n",
    "# 返回标准正态分布 （0，1） （\\mu,\\sigma）\n",
    "np.random.randn(1,2) "
   ]
  },
  {
   "cell_type": "markdown",
   "metadata": {},
   "source": [
    "### 生成多元正态分布multivariate_normal"
   ]
  },
  {
   "cell_type": "code",
   "execution_count": null,
   "metadata": {},
   "outputs": [],
   "source": [
    "\n",
    "np.random.multivariate_normal(mean, cov[, size],) \n",
    "\n",
    "通过本函数可以返回一个或一组服从标准正态分布的随机样本值。   \n",
    "\n",
    "# 生成shape为2*3*N的\n"
   ]
  },
  {
   "cell_type": "markdown",
   "metadata": {},
   "source": [
    "### randint随机整数分布"
   ]
  },
  {
   "cell_type": "code",
   "execution_count": null,
   "metadata": {
    "ExecuteTime": {
     "end_time": "2021-03-12T02:12:42.290835Z",
     "start_time": "2021-03-12T02:12:42.286932Z"
    }
   },
   "outputs": [],
   "source": [
    "import numpy as np\n",
    "\n",
    "c = np.random.randint(1e4) # 生成随机0到1e4的随机整数\n",
    "c"
   ]
  },
  {
   "cell_type": "markdown",
   "metadata": {},
   "source": [
    "### np.random.shuffle现场修改序列"
   ]
  },
  {
   "cell_type": "code",
   "execution_count": null,
   "metadata": {
    "ExecuteTime": {
     "end_time": "2021-03-12T02:12:52.176822Z",
     "start_time": "2021-03-12T02:12:52.171035Z"
    }
   },
   "outputs": [],
   "source": [
    "# 现场修改序列，改变自身内容。（类似洗牌，打乱顺序）\n",
    "arr = np.arange(10)\n",
    "np.random.shuffle(arr)\n",
    "arr"
   ]
  },
  {
   "cell_type": "markdown",
   "metadata": {},
   "source": [
    "### 排列"
   ]
  },
  {
   "cell_type": "code",
   "execution_count": null,
   "metadata": {
    "ExecuteTime": {
     "end_time": "2021-03-12T02:13:02.389605Z",
     "start_time": "2021-03-12T02:13:02.385041Z"
    }
   },
   "outputs": [],
   "source": [
    "# 返回一个随即排列\n",
    "np.random.permutation(10)"
   ]
  },
  {
   "cell_type": "markdown",
   "metadata": {},
   "source": [
    "### 从a中随机选择指定数据np.random.choice"
   ]
  },
  {
   "cell_type": "code",
   "execution_count": null,
   "metadata": {},
   "outputs": [],
   "source": [
    "numpy.random.choice(a, size=None, replace=True, p=None)\n",
    "通过本函数可以返回一个或一组服从标准正态分布的随机样本值。\n",
    "#从a(只要是ndarray都可以，但必须是一维的)中随机抽取数字，并组成指定大小(size)的数组\n",
    "#replace:True表示可以取相同数字，False表示不可以取相同数字\n",
    "#数组p：与数组a相对应，表示取数组a中每个元素的概率，默认为选取每个元素的概率相同。\n",
    "\n",
    "5.1 从0，1000中选择不重复的200个数字\n",
    "theta_1 = np.random.choice(1000, 200, replace=False)\n",
    "6. np.random.shuffle现场修改序列，改变自身内容。（类似洗牌，打乱顺序）\n",
    "arr = np.arange(10)\n",
    "np.random.shuffle(arr)\n",
    "arr\n"
   ]
  },
  {
   "cell_type": "markdown",
   "metadata": {},
   "source": [
    "## range等差数列"
   ]
  },
  {
   "cell_type": "code",
   "execution_count": null,
   "metadata": {
    "ExecuteTime": {
     "end_time": "2021-03-12T03:21:22.959237Z",
     "start_time": "2021-03-12T03:21:22.954862Z"
    }
   },
   "outputs": [],
   "source": [
    "# range(stop) -> range object\n",
    "# range(start, stop[, step]) -> range object\n",
    "\n",
    "range(0, 10, 3)  # 0,3,6,9\n"
   ]
  },
  {
   "cell_type": "markdown",
   "metadata": {},
   "source": [
    "## np.linspace 等差数列 logspace\n",
    "\n",
    "在python库numpy 中提供了函数linspace和logspace函数用于生产等差数列和等比数列。\n",
    "\n",
    "    1.linspace函数生成等差数列\n",
    "\n",
    "def linspace(<span class=\"mark\">start, stop, num=50</span>, endpoint=True, retstep=False, dtype=None):\n",
    "\n",
    "指定初始值、终止值、数量、是否包含终止值，默认为包含。\n",
    "\n",
    "2.logspace函数生成等比数列\n",
    "\n",
    "def logspace(<span class=\"burk\">start, stop, num=50</span>, endpoint=True, base=10.0, dtype=None):\n",
    "\n",
    "指定初始值、终止值、数量、是否包含终止值，默认为包含。"
   ]
  },
  {
   "cell_type": "code",
   "execution_count": null,
   "metadata": {
    "ExecuteTime": {
     "end_time": "2021-03-12T02:17:31.266036Z",
     "start_time": "2021-03-12T02:17:31.258429Z"
    }
   },
   "outputs": [],
   "source": [
    "import numpy as np\n",
    "\n",
    "a = np.linspace(1,10,5,endpoint= True)\n",
    "print(a) # [ 1.    3.25  5.5   7.75 10.  ]\n",
    "\n",
    "b = np.linspace(1,10,5,endpoint= False)\n",
    "print(b) #[1.  2.8 4.6 6.4 8.2]\n",
    "\n",
    "c = np.linspace(1,10,5,retstep = False)\n",
    "print(c) # [ 1.    3.25  5.5   7.75 10.  ]\n",
    "\n",
    "d = np.linspace(1,10,5,retstep = True)\n",
    "print(d) # (array([ 1.  ,  3.25,  5.5 ,  7.75, 10.  ]), 2.25)"
   ]
  },
  {
   "cell_type": "code",
   "execution_count": null,
   "metadata": {
    "ExecuteTime": {
     "end_time": "2021-03-12T02:56:53.338042Z",
     "start_time": "2021-03-12T02:56:53.328110Z"
    }
   },
   "outputs": [],
   "source": [
    "import numpy as np\n",
    "# 等差数列\n",
    "\n",
    "print(np.linspace(0.1, 1, 10, endpoint=True))\n",
    "print(np.arange(0.1, 1.1, 0.1))\n",
    "\"\"\"总结：\n",
    "  arange 侧重点在于增量，不管产生多少个数\n",
    "  linspace 侧重于num, 即要产生多少个元素，不在乎增量\n",
    "\"\"\"\n",
    " \n",
    "# 等比数列\n",
    "np.logspace(1, 4, 4, endpoint=True, base=2) # 2**1---2**4\n",
    "\n",
    "# lambdaMax.*[0 2.^(-10:2:0)];"
   ]
  },
  {
   "cell_type": "markdown",
   "metadata": {},
   "source": [
    "## np.power([], [])，\n",
    " \n",
    " 1. np.power(底数，指数)\n",
    " \n",
    " 2. 底数和指数都要大于0"
   ]
  },
  {
   "cell_type": "code",
   "execution_count": null,
   "metadata": {
    "ExecuteTime": {
     "end_time": "2021-03-12T02:58:11.821986Z",
     "start_time": "2021-03-12T02:58:11.815384Z"
    }
   },
   "outputs": [],
   "source": [
    "import numpy as np\n",
    "print(np.power(2,3))\n",
    "#8\n",
    "\n",
    "l = [1,2,3]\n",
    "print(np.power(l,3))\n",
    "#[ 1  8 27]\n",
    "\n",
    "print(np.power(2,l))\n",
    "#[2 4 8]"
   ]
  },
  {
   "cell_type": "markdown",
   "metadata": {
    "ExecuteTime": {
     "end_time": "2021-03-12T02:19:35.825578Z",
     "start_time": "2021-03-12T02:19:35.823360Z"
    }
   },
   "source": [
    "## 行列式，迹，秩，逆矩阵A"
   ]
  },
  {
   "cell_type": "code",
   "execution_count": null,
   "metadata": {
    "ExecuteTime": {
     "end_time": "2021-03-12T02:19:51.017945Z",
     "start_time": "2021-03-12T02:19:50.999548Z"
    }
   },
   "outputs": [],
   "source": [
    "print(\"原矩阵A：\\n\",A);\n",
    "print(\"原矩阵b：\\n\",b);\n",
    "\n",
    "A = np.random.rand(3,3)\n",
    "print(\"转置矩阵A^T：\\n\",np.transpose(A)); # 转置\n",
    "print(\"矩阵的行列式值|A|：\\n\",np.linalg.det(A)); # 方阵的行列式值：|A|\n",
    "print(\"矩阵的迹trace(A)：\\n\",np.trace(A)); \n",
    "print(\"矩阵的秩rank(A)：\\n\",np.linalg.matrix_rank(A)); \n",
    "print(\"逆矩阵A^(-1)：\\n\",np.linalg.inv(A)); #矩阵的逆运算(条件：矩阵A可逆(行列式值不为0)| 矩阵A为方阵)\n",
    "\n",
    "print(\"*\"*30); # 分隔线\n",
    "\n",
    "print(\"N阶单位矩阵:\\n\",np.eye(4));\n",
    "print(np.zeros([5])); # 创建长为5的【一维】数组；[1,5]：创建第1行为5个元素的【二维】数组 \n",
    "\n",
    "# 创建指定的初始化数组\n",
    "print(np.array([1]))  # 生成 第1行含值为1的元素的【一维】数组\n",
    "print(np.array([[56]])) # 生成 第1行含值为56的元素的【二维】数组\n",
    "np.full((3,5),3.14) # 创建一个3x5的浮点型数组，数组的值都是3.14"
   ]
  },
  {
   "cell_type": "markdown",
   "metadata": {},
   "source": [
    "##  矩阵计算\n",
    "[矩阵计算 ](https://www.cnblogs.com/johnnyzen/p/10855208.html)\n",
    "\n",
    "transpose, solve"
   ]
  },
  {
   "cell_type": "code",
   "execution_count": null,
   "metadata": {
    "ExecuteTime": {
     "end_time": "2021-03-12T02:28:35.037403Z",
     "start_time": "2021-03-12T02:28:35.029919Z"
    }
   },
   "outputs": [],
   "source": [
    "## \n",
    "A = [[2,1,2],\n",
    "     [3,1,0],\n",
    "     [1,1,-1]];\n",
    "b = np.transpose(A)# 转置\n",
    "# 求解未知参数矩阵X\n",
    "X = np.linalg.solve(A,b) # 方式一：直接使用numpy的solve函数一键求解\n",
    "#A_inv=np.linalg.inv(A) # 方式二：先求逆运算，再点积求值\n",
    "#X=np.dot(A_inv,b) # a.dot(b) 与 np.dot(a,b) 效果相同；but np.dot(a,b)与np.dot(b,a)效果肯定是不同的(线性代数/矩阵常识)\n",
    "print(\"方程组的解：\\n\",X);"
   ]
  },
  {
   "cell_type": "markdown",
   "metadata": {},
   "source": [
    "## 向量、矩阵切片性质\n",
    "\n",
    "向量的numpy 可以是矩阵的行，也可以按列操作"
   ]
  },
  {
   "cell_type": "code",
   "execution_count": null,
   "metadata": {
    "ExecuteTime": {
     "end_time": "2021-03-12T02:31:26.278380Z",
     "start_time": "2021-03-12T02:31:26.270245Z"
    }
   },
   "outputs": [],
   "source": [
    "d = np.zeros((2,1))\n",
    "d1 = np.zeros(2)\n",
    "d2 = np.array([[1,2],[3,4]])\n",
    "d, d[0], d[1], d1, d1[0],d1[1],d2,d2[0],d2[1]  # 矩阵取一个坐标值是整行值，向量是列值"
   ]
  },
  {
   "cell_type": "markdown",
   "metadata": {},
   "source": [
    "## numpy广播函数\n",
    "\n",
    "[numpy广播函数](douban.com/note/713454002/)"
   ]
  },
  {
   "cell_type": "code",
   "execution_count": null,
   "metadata": {
    "ExecuteTime": {
     "end_time": "2021-03-12T02:38:59.027012Z",
     "start_time": "2021-03-12T02:38:59.020372Z"
    }
   },
   "outputs": [],
   "source": [
    "c = np.arange(10).reshape((2,5))\n",
    "c1 = [1,2,3,4,5]\n",
    "c*c1  \n",
    "# array([[ 0,  2,  6, 12, 20],\n",
    "#       [ 5, 12, 21, 32, 45]])\n",
    "\n"
   ]
  },
  {
   "cell_type": "markdown",
   "metadata": {},
   "source": [
    "## 符号函数np.sign"
   ]
  },
  {
   "cell_type": "code",
   "execution_count": null,
   "metadata": {
    "ExecuteTime": {
     "end_time": "2021-03-12T02:46:38.473900Z",
     "start_time": "2021-03-12T02:46:38.466197Z"
    }
   },
   "outputs": [],
   "source": [
    "#导入numpy库\n",
    "import numpy as np\n",
    " \n",
    "#输入数据\n",
    "dataArr = [-0.2, -1.1, 0, 2.3, 4.5, 0.0]\n",
    "print(\"输入数据为：\")\n",
    "print(dataArr)\n",
    " \n",
    "#使用numpy的sign(x)函数求输入数据的符号\n",
    "signResult = np.sign(dataArr)\n",
    " \n",
    "#打印出sign()的输出结果\n",
    "print(\"\\n使用sign函数的输出符号为：\")\n",
    "print(signResult)"
   ]
  },
  {
   "cell_type": "markdown",
   "metadata": {},
   "source": [
    "## np.max, np.maximum, np.dot"
   ]
  },
  {
   "cell_type": "code",
   "execution_count": null,
   "metadata": {},
   "outputs": [],
   "source": [
    "#1. 按行比较数据的大小，返回大的值\n",
    "# np.max?\n",
    "a = np.arange(4).reshape((2,2)) \n",
    "\n",
    "# np.max(df1, axis=None, out=None, keepdims=False)  \n",
    "np.max(a)                # 3, 总体最大\n",
    "np.max(a,axis=0)         #array([2, 3]) 安列\n",
    "np.max(a,axis=1)         #array([1, 3]) 安行\n",
    "\n",
    "# 按列实现最大值的筛选, 两个矩阵\n",
    "# 例1\n",
    "np.random.seed(1234)\n",
    "df1=np.random.rand(2,3)\n",
    "df2=np.random.rand(2,3)\n",
    "np.maximum(df1,df2)\n",
    "                    # array([[0.27646426, 0.80187218, 0.95813935],\n",
    "                    #        [0.87593263, 0.77997581, 0.50099513]])\n",
    "\n",
    "# 例1\n",
    "np.random.seed(1111)\n",
    "df3=np.random.rand(2,3)\n",
    "np.maximum(0, df3)\n",
    "                    # array([[0.0955492 , 0.9250037 , 0.34357342],\n",
    "                    #        [0.31047694, 0.00200984, 0.23559472]])\n",
    "        \n",
    "# 两个列矩阵可以进行矩阵乘法吗？\n",
    "c1 = np.array([2,3,4])\n",
    "print(c1.shape)       # (3,)\n",
    "print(c1.T.shape)     # (3,)\n",
    "c2 = np.array([2,3,4])  \n",
    "c3 = np.array([[2,3,4],[2,3,4],[2,3,4]])  \n",
    "np.dot(c1,c2)         # 29\n",
    "np.dot(c1,c3)         # [18, 27, 36]\n"
   ]
  },
  {
   "cell_type": "code",
   "execution_count": null,
   "metadata": {
    "ExecuteTime": {
     "end_time": "2021-03-12T02:48:37.757079Z",
     "start_time": "2021-03-12T02:48:37.749119Z"
    }
   },
   "outputs": [],
   "source": [
    "def l1_project(bplus, u):\n",
    "    bnew = np.sign(bplus)*np.maximum(np.abs(bplus)-u,0)\n",
    "    return bnew\n",
    "\n",
    "d = np.array([-2,-1,-0,1,2])\n",
    "l1_project(d,1)"
   ]
  },
  {
   "cell_type": "markdown",
   "metadata": {},
   "source": [
    "## 保存数据np.savez,np.load"
   ]
  },
  {
   "cell_type": "code",
   "execution_count": null,
   "metadata": {},
   "outputs": [],
   "source": [
    "# pandas的Dataframe\n",
    "\n",
    "# 保存为np类型数据 https://www.jb51.net/article/143411.htm\n",
    "# https://www.cnblogs.com/djdjdj123/p/12215528.html\n",
    "import pandas as pd\n",
    "import numpy as np\n",
    "A = [1, 2, 3, 4]\n",
    "B = [[2, 3, 4, 5], [1, 2, 3, 4]]\n",
    "AB = pd.DataFrame([A, B, A, B])\n",
    "ABC = ['A', 'B', 'C', 'D']\n",
    "\n",
    "np.savez('exe1', D = A, B = B, AB = AB, ABC = ABC)\n",
    "\n",
    "c = np.load('exe1.npz')\n",
    "\n",
    "c['D']  # array([1, 2, 3, 4])"
   ]
  },
  {
   "cell_type": "markdown",
   "metadata": {
    "ExecuteTime": {
     "end_time": "2021-03-12T03:26:29.787332Z",
     "start_time": "2021-03-12T03:26:29.783142Z"
    }
   },
   "source": [
    "## np.linalg"
   ]
  },
  {
   "cell_type": "markdown",
   "metadata": {},
   "source": [
    "### np.linalg.svd奇异值分解\n"
   ]
  },
  {
   "cell_type": "code",
   "execution_count": null,
   "metadata": {
    "ExecuteTime": {
     "end_time": "2021-03-12T03:27:17.861676Z",
     "start_time": "2021-03-12T03:27:17.845754Z"
    }
   },
   "outputs": [],
   "source": [
    "data = np.random.randn(3,4)\n",
    "u,sigma,vt=np.linalg.svd(data)\n",
    "sigma"
   ]
  },
  {
   "cell_type": "markdown",
   "metadata": {},
   "source": [
    "## np.eye"
   ]
  },
  {
   "cell_type": "code",
   "execution_count": null,
   "metadata": {},
   "outputs": [],
   "source": [
    "函数的原型：numpy.eye(N,M=None,k=0,dtype=<class 'float'>,order='C)\n",
    "\n",
    "返回的是一个二维2的数组(N,M)，对角线的地方为1，其余的地方为0.\n",
    "参数介绍：\n",
    "（1）N:int型，表示的是输出的行数\n",
    "（2）M：int型，可选项，输出的列数，如果没有就默认为N\n",
    "（3）k：int型，可选项，对角线的下标，默认为0表示的是主对角线，负数表示的是低对角，正数表示的是高对角。\n",
    "（4）dtype：数据的类型，可选项，返回的数据的数据类型\n",
    "（5）order：{‘C’，‘F'}，可选项，也就是输出的数组的形式是按照C语言的行优先’C'，还是按照Fortran形式的列优先‘F'存储在内存中.\n"
   ]
  },
  {
   "cell_type": "code",
   "execution_count": null,
   "metadata": {
    "ExecuteTime": {
     "end_time": "2021-03-12T03:28:16.583054Z",
     "start_time": "2021-03-12T03:28:16.579793Z"
    }
   },
   "outputs": [],
   "source": [
    "a=np.eye(3)\n",
    "a=np.eye(4,k=1)\n"
   ]
  },
  {
   "cell_type": "markdown",
   "metadata": {},
   "source": [
    "## np.zeros"
   ]
  },
  {
   "cell_type": "code",
   "execution_count": null,
   "metadata": {},
   "outputs": [],
   "source": [
    "5. np.zeros(shape, dtype=float, order='C')\n",
    "用法：zeros(shape, dtype=float, order='C')\n",
    "返回：返回来一个给定形状和类型的用0填充的数组；\n",
    "参数：shape:形状\n",
    "dtype:数据类型，可选参数，默认numpy.float64\n",
    "dtype类型：\n",
    "t ,位域,如t4代表4位\n",
    "b,布尔值，true or false\n",
    "i,整数,如i8(64位）\n",
    "u,无符号整数，u8(64位）\n",
    "f,浮点数，f8（64位）\n",
    "c,浮点负数，\n",
    "o,对象，\n",
    "s,a，字符串，s24\n",
    "u,unicode,u24\n",
    "order:可选参数，c代表与c语言类似，行优先；F代表列优先\n",
    "\n",
    "\n"
   ]
  },
  {
   "cell_type": "code",
   "execution_count": null,
   "metadata": {
    "ExecuteTime": {
     "end_time": "2021-03-12T03:29:00.912019Z",
     "start_time": "2021-03-12T03:29:00.906808Z"
    }
   },
   "outputs": [],
   "source": [
    "np.zeros((2,3), dtype = np.float)"
   ]
  },
  {
   "cell_type": "markdown",
   "metadata": {},
   "source": [
    "## np 浅拷贝和深拷贝\n",
    "\n",
    "np.copy()属于深拷贝,拷贝前的地址和拷贝后的地址不一样. 而 \" = \" 属于浅拷贝,拷贝后的地址和拷贝前的地址一样."
   ]
  },
  {
   "cell_type": "code",
   "execution_count": null,
   "metadata": {
    "ExecuteTime": {
     "end_time": "2021-03-12T03:36:36.745486Z",
     "start_time": "2021-03-12T03:36:36.739291Z"
    }
   },
   "outputs": [],
   "source": [
    "import numpy as np\n",
    "\n",
    "# 改变 b 的值, a 的值会变, 但是改变 c 的值, a 的值不会变\n",
    "\n",
    "a = np.ones((2,2))\n",
    "b = a\n",
    "c = a.copy()\n",
    "print(\"id of a:\", id(a))\n",
    "print(\"id of b:\", id(b))\n",
    "print(\"id of c:\", id(c))\n",
    "b = 2.复习基础知识.ipynb\n",
    "c = 23\n",
    "\n",
    "print(\"id of a:\", id(a),a)\n",
    "print(\"id of b:\", id(b), b)\n",
    "print(\"id of c:\", id(c))"
   ]
  },
  {
   "cell_type": "markdown",
   "metadata": {},
   "source": [
    "## np.mean的用法"
   ]
  },
  {
   "cell_type": "code",
   "execution_count": null,
   "metadata": {
    "ExecuteTime": {
     "end_time": "2021-03-16T00:43:45.665569Z",
     "start_time": "2021-03-16T00:43:45.106256Z"
    }
   },
   "outputs": [],
   "source": [
    "import numpy as np\n",
    "np.mean?"
   ]
  },
  {
   "cell_type": "code",
   "execution_count": null,
   "metadata": {
    "ExecuteTime": {
     "end_time": "2021-03-16T00:46:12.534348Z",
     "start_time": "2021-03-16T00:46:12.522210Z"
    }
   },
   "outputs": [],
   "source": [
    "# jupyter显示所有不同行输出变量\n",
    "from IPython.core.interactiveshell import InteractiveShell\n",
    "InteractiveShell.ast_node_interactivity = \"all\" \n",
    "\n",
    "#Examples\n",
    "a = np.array([[1, 2], [3, 4]])\n",
    "a\n",
    "np.mean(a)   # 总均值\n",
    "np.mean(a, axis=0)  # 列均值\n",
    "np.mean(a, axis=1) # 行均值\n"
   ]
  },
  {
   "cell_type": "markdown",
   "metadata": {},
   "source": [
    "## np.sum()"
   ]
  },
  {
   "cell_type": "code",
   "execution_count": null,
   "metadata": {
    "ExecuteTime": {
     "end_time": "2021-03-16T00:48:19.459623Z",
     "start_time": "2021-03-16T00:48:19.448749Z"
    }
   },
   "outputs": [],
   "source": [
    "#Examples\n",
    "a = np.array([[1, 2], [3, 4]])\n",
    "a\n",
    "np.sum(a)   # 总和\n",
    "np.sum(a, axis=0)  # 列和\n",
    "np.sum(a, axis=1) # 行和"
   ]
  },
  {
   "cell_type": "markdown",
   "metadata": {},
   "source": [
    "# pandas"
   ]
  },
  {
   "cell_type": "markdown",
   "metadata": {},
   "source": [
    "## pandas 基础知识"
   ]
  },
  {
   "cell_type": "code",
   "execution_count": null,
   "metadata": {},
   "outputs": [],
   "source": [
    "path1 = '/Users/snszz/Documents/python/new_practice/file1/part_basic_location.csv'\n",
    "\n",
    "data_location = pd.read_csv(path1)\n",
    "\n",
    "data_location.head()   # tail(),  \n",
    "\n",
    "# 如果希望显示出所有的列，我们可以通过简单的设置强制显示所有列。\n",
    "# 为显示全部的列，添加如下的命令。\n",
    "# pd.set_option('display.max_columns',None)\n",
    "\n",
    "# data.tail(), data.head()\n",
    "\n",
    "data_location.head(2)\n",
    "\n",
    "#  查看\n",
    "\n",
    "data_location.shape\n",
    "# 列\n",
    "data_location.columns\n",
    "'''--------------------------------------------------------------------'''\n",
    "\n",
    "# 4.简单统计\n",
    "data_location.info()\n",
    "data_location.describe()\n",
    "\n",
    "# data_location.describe().iloc[:,:5]\n",
    "# data_location.describe(include='all').iloc[:,:5]\n",
    "'''--------------------------------------------------------------------'''\n",
    "\n",
    "# Series 的唯一值个数 value_counts\n",
    " # data_location['type'].value_counts()\n",
    "'''--------------------------------------------------------------------'''\n",
    "\n",
    "#5. 数据筛选\n",
    " # selected_data = data[[\"gradyear\",\"gender\",\"age\",\"friends\"]]\n",
    "\n",
    " df.loc[(df['Education']=='Not Graduate') & (df['Loan_Status']=='Y') & (df['Gen\n",
    "der']=='Female'),['Education','Loan_Status','Gender'] ]\n",
    "'''--------------------------------------------------------------------'''\n",
    "\n",
    "# 6 数据分组\n",
    "# grouped_data = data.groupby(\"gradyear\")\n",
    "# grouped_data[\"age\"].mean()\n",
    "\n",
    "'''--------------------------------------------------------------------'''\n",
    "\n",
    "# loan_data.sample(5)# 随机采样观察样本\n",
    "\n",
    "'''--------------------------------------------------------------------'''\n",
    "\n",
    "# 中等数量级数据读写及操作 chunksize\n",
    "\n",
    "'''--------------------------------------------------------------------'''\n",
    "\n",
    "# 用字典的方式指定某一列的特定值为缺失NaN，使得能够识别\n",
    "map_id = {'grade':'A'}\n",
    "loan_A_miss = pd.read_csv('./input/loandata.csv',na_values=map_id)\n",
    "\n",
    "'''--------------------------------------------------------------------'''\n",
    "\n",
    "# 6个账户以下为A级，6-12个账户为B级，12-18个账户为C级，18-24个账户为D级\n",
    "bins = [0, 6, 12, 18, 24]\n",
    "new_loan_data = pd.read_csv('./input/loandata.csv')\n",
    "group_names = ['A', 'B', 'C', 'D']\n",
    "loan_data['categories'] = pd.cut(new_loan_data['open_acc'], bins, labels=group\n",
    "_names)\n",
    "loan_data[:5]\n",
    "'''--------------------------------------------------------------------'''\n",
    "\n",
    "# 等频离散化\n",
    "cuts = pd.qcut(amnt_series,4,labels=['a','b','c','d'])\n",
    "cuts.value_counts()\n",
    "\n",
    "'''--------------------------------------------------------------------'''\n",
    "# 3.7 缺失值填补与离群值处理\n",
    "#3.7.1 查看数据集的各个属性是否存在缺失值，并统计缺失值数量\n",
    "\n",
    "loan_data.isnull().any() # 存在缺失值的列是那些\n",
    "\n",
    "np.sum(loan_data.isnull(), axis=0) # 统计每一行缺失值的数量\n",
    "\n",
    "loan_data[loan_data.isnull().values == True] # 展示存在缺失值的行\n",
    "'''--------------------------------------------------------------------'''\n",
    "3.7.2 删除缺失值\n",
    "\n",
    "# 舍弃缺失值 dropna 并指定方法 how\n",
    "loan_data_miss.dropna(how='any',axis=0)\n",
    "                                                                           \n",
    "# 在原DataFrame上做更改\n",
    "loan_data_miss.dropna(how='any',inplace=True)\n",
    "\n",
    "                                                                           \n",
    "'''--------------------------------------------------------------------'''\n",
    "3.7.3 填补缺失值\n",
    "\n",
    "# 填充缺失值 fillna\n",
    "# 通过字典指定每一列的填充方式\n",
    "loan_data_fill = loan_data.fillna({'loan_amnt':'缺失值','annual_inc':'缺失\n",
    "值'})\n",
    "\n",
    "\n",
    "3.7.3.1 填补缺失值\n",
    "fillna() 可以一次性解决缺失问题，该函数通过整列平均数/众数/中位数来填补该列的缺\n",
    "失值。根据之前学到的 apply() 函数，观测到部分变量存在较多缺失，现在我们使用众数\n",
    "来填补Gender、Married和Self_Employed三个变量的缺失值。代码如下：\n",
    "mean_val = loan_data['annual_inc'].mean()\n",
    "loan_data['annual_inc'] = loan_data['annual_inc'].fillna(mean_val)\n",
    "                                   \n",
    "'''--------------------------------------------------------------------'''                               \n",
    "#导入mode判断众数\n",
    "from scipy.stats import mode\n",
    "print mode(df['Gender'])#查看Gender的众数\n",
    "\n",
    "                                   \n",
    "输出返回了Gender列的众数及其出现次数。注意，众数可以是个数组，因为高频的值可以\n",
    "有多个。我们通常默认使用第一个： mode(data['Gender']).mode[0] ，其值为Male。\n",
    "mode(df['Gender']).mode[0]\n",
    "\n",
    "\n",
    "#缺失值填补\n",
    "df['Gender'].fillna(mode(df['Gender']).mode[0],inplace=True)#inplace=True意味\n",
    "着在原数据集上进行填补\n",
    "df['Married'].fillna(mode(df['Married']).mode[0],inplace=True)\n",
    "df['Self_Employed'].fillna(mode(df['Self_Employed']).mode[0],inplace=True)\n",
    "#填补“Gender”、“Married”和“Self_Employed”三个变量后，再次调用num_missing\n",
    "\n",
    "#创建计算缺失值函数\n",
    "def num_missing(x):\n",
    "    return sum(x.isnull())\n",
    "                                   \n",
    "函数查看列缺失情况\n",
    "                                   \n",
    "print df.apply(num_missing,axis = 0)\n",
    "                                   \n",
    "'''--------------------------------------------------------------------'''\n",
    "# 3.7.4 离群值处理\n",
    "loan_data.describe().astype(np.int64).T\n",
    "\n",
    "\n",
    "\n",
    "\n",
    "'''--------------------------------------------------------------------'''\n",
    "# 统计方法检测离群值\n",
    "\n",
    "                                   \n",
    "pct_25 = np.percentile(loan_data['loan_amnt'], 25)\n",
    "pct_75 = np.percentile(loan_data['loan_amnt'], 75)\n",
    "iqr = pct_75-pct_25\n",
    "max_obser = pct_75+1.5*iqr\n",
    "min_obser = pct_25-1.5*iqr\n",
    "\n",
    "\n",
    "loan_data[loan_data['loan_amnt'] > max_obser]\n",
    "                                   \n",
    "loan_data[loan_data['loan_amnt'] < min_obser]\n",
    "'''--------------------------------------------------------------------'''\n",
    "\n",
    "# 3.8 数据融合和分组\n",
    "# 产生两个数据框\n",
    "                                   \n",
    "df1 = loan_data[['home_ownership', 'grade']]\n",
    "df2 = loan_data[['loan_amnt', 'grade']]\n",
    "df1 = df1.sample(n=5).reset_index(drop=True)\n",
    "df2 = df2.sample(n=3).reset_index(drop=True)\n",
    "                                   \n",
    "\n",
    "df_inner = pd.merge(df1, df2) # 默认内连接inner\n",
    "print (df_inner)\n",
    "\n",
    "'''--------------------------------------------------------------------'''\n",
    "# 3.8—— 多重索引\n",
    "\n",
    "\n",
    "#只在含缺失值的行中进行迭代\n",
    "for i,row in df.loc[df['LoanAmount'].isnull(),:].iterrows():\n",
    "ind = tuple([row['Gender'],row['Married'],row['Self_Employed']])#将Gende\n",
    "r”、“Married”和“Self_Employed”三个变量值转为元组格式\n",
    "df.loc[i,'LoanAmount'] = impute_grps.loc[ind].values[0]\n",
    "#再次检查缺失值情况\n",
    "print df.apply(num_missing,axis = 0)\n",
    "\n",
    "\n",
    "\n",
    "#1. 多重索引需要在 loc 中用到定义分组group的元组(tuple)。这个元组会在函数中使\n",
    "用。\n",
    "#2. 需要使用 .values[0] 后缀。因为默认情况下元素返回的顺序与原数据库不匹\n",
    "配。在这种情况下，直接指派会返回错误。\n",
    "\n",
    "'''--------------------------------------------------------------------'''\n",
    "思想： GroupBy = Split + apply + combine\n",
    "\n",
    "grouped = loan_data.groupby('home_ownership')\n",
    "grouped['annual_inc'].median() # 以上代码的语法糖\n",
    "\n",
    "'''--------------------------------------------------------------------'''\n",
    "3.9 透视表\n",
    "                                   \n",
    "loan_data.pivot_table(values='loan_amnt',\n",
    "                    index=['home_ownership'],\n",
    "                    columns=['grade', 'sub_grade'],\n",
    "                    aggfunc='mean')# 与电子表格类似\n",
    "\n",
    "#定义透视表\n",
    "impute_grps = df.pivot_table(values = ['LoanAmount'],index = ['Gender','Marrie\n",
    "d','Self_Employed'],aggfunc = np.mean)\n",
    "print impute_grps\n",
    "\n",
    "                                                              \n",
    "'''--------------------------------------------------------------------'''\n",
    "3.10 One-Hot编码\n",
    "\n",
    "dummies = pd.get_dummies(loan_data['grade'],prefix='grade')\n",
    "loan_data_dummies = pd.concat([loan_data,dummies],axis=1) # 拼接回原来的数据结\n",
    "构 \n",
    "print(loan_data_dummies.head(5))\n",
    "\n",
    "'''--------------------------------------------------------------------'''\n",
    "\n",
    "3.11 构建组合特征\n",
    "loan_data['amnt_multi_acc'] = map(lambda x,y:x*y, loan_data['loan_amnt'],loan\n",
    "_data['open_acc'])\n",
    "                               \n",
    "loan_numerical_poly = loan_data.select_dtypes(include=['int','float'])\n",
    "print (loan_numerical_poly.head(5))\n",
    "\n",
    "'''--------------------------------------------------------------------'''\n",
    "\"\"\"\n",
    "练习：对所有的名义型特征进行One-Hot编码，并将特征按照两两组合相乘(不包括自己与自\n",
    "己)的方式产生组合特征，最后合并原始特征与组合特征\n",
    "提示：\n",
    "1. 将名义型特征和数值型特征进行分离，得到两个DataFrame loan_numerical 和\n",
    "loan_object\n",
    "2. 对所有名义型特征进行one-Hot编码，得到 dummies\n",
    "3. 将数值型特征与编码后的进行轴向连接得到 loan_encoded\n",
    "4. 对所有列循环两两相乘，产生组合特征，最后得到 loan_multiply\n",
    "5. 将原始特征与组合特征进行轴向连接，得到最终可以用于构建模型 loan_final\n",
    "\"\"\"\n",
    "\n",
    "\n",
    "# 先做一些简单的预处理\n",
    "loan_data = pd.read_csv('./input/loandata.csv')\n",
    "loan_data['loan_status'] = loan_data['loan_status'].map(str.strip)\n",
    "loan_data['loan_status'] = loan_data['loan_status'].map(str.title)\n",
    "loan_data.drop(['issue_d', 'open_acc', 'sub_grade'], axis=1, inplace=True)\n",
    "loan_data.dropna(inplace=True)\n",
    "\n",
    " # 分离名义型特征和数值型特征\n",
    "loan_numerical = loan_data.select_dtypes(exclude=['object'])\n",
    "loan_object = loan_data.select_dtypes(include=['object'])\n",
    "\n",
    "\n",
    "# 对名义型特征进行one-hot编码\n",
    "dummies = pd.get_dummies(loan_object)\n",
    "# 轴向连接\n",
    "loan_encoded = pd.concat([loan_numerical, dummies], axis=1)\n",
    "\n",
    "# 交叉相乘得到组合特征\n",
    "columns = list(loan_encoded.columns)\n",
    "length = len(columns)\n",
    "loan_multiply = pd.DataFrame()\n",
    "for idx1, col1 in enumerate(columns)\n",
    "\n",
    "\n",
    "'''--------------------------------------------------------------------'''"
   ]
  },
  {
   "cell_type": "code",
   "execution_count": null,
   "metadata": {},
   "outputs": [],
   "source": [
    "14 pandas 复习\n",
    "import pandas as pd\n",
    "1. \n",
    "pd.Series(\n",
    "    data=None,\n",
    "    index=None,\n",
    "    dtype=None,\n",
    "    name=None,\n",
    "    copy=False,\n",
    "    fastpath=False,\n",
    ")\n",
    "\n",
    "a = pd.Series([1, 2, 3], index=['a', 'b', 'c'])\n",
    "a\n",
    "\n",
    "2. \n",
    "pd.DataFrame(\n",
    "    data=None,\n",
    "    index=None,\n",
    "    columns=None,\n",
    "    dtype=None,\n",
    "    copy=False,\n",
    ")\n",
    "\n",
    "# 列添加\n",
    "data = pd.DataFrame() \n",
    "data['one'] = [1,2,3]\n",
    "\n",
    "# 列删除\n",
    "del data['one']\n",
    "\n",
    "# 行选择，添加和删除\n",
    "data.loc[]  # 索引\n",
    "data.iloc[] # 整数位置传递\n",
    "data\n",
    "\n",
    "# 添加行append\n",
    "import pandas as pd\n",
    "\n",
    "df = pd.DataFrame([[1, 2], [3, 4]], columns = ['a','b'])\n",
    "df2 = pd.DataFrame([[5, 6], [7, 8]], columns = ['a','b'])\n",
    "\n",
    "df = df.append(df2)\n",
    "\n",
    "\n",
    "# 删除行\n",
    "\n",
    "df = df.drop(0)\n",
    "\n",
    "\n",
    "\n",
    "序列基本功能\n",
    "S.No.\t属性或方法\t描述\n",
    "1\taxes\t返回行轴标签的列表。\n",
    "2\tdtype\t返回对象的dtype。\n",
    "3\tempty\t如果series为空，则返回True。\n",
    "4\tndim\t根据定义1返回基础数据的维度数。\n",
    "5\tsize\t返回基础数据中元素的数量。\n",
    "6\tvalues\t将该序列作为ndarray返回。\n",
    "7\thead()\t返回前n行。\n",
    "8\ttail()\t返回最后n行。\n",
    "\n",
    "DataFrame基本功能\n",
    "让我们现在了解DataFrame基本功能是什么。下表列出了DataFrame Basic功能中的重要属性或方法。\n",
    "\n",
    "S.No.\t属性或方法\t描述\n",
    "1\tŤ\t转置行和列。\n",
    "2\taxes\t以行轴标签和列轴标签作为唯一成员返回列表。\n",
    "3\tdtypes\t返回此对象中的dtypes。\n",
    "4\tempty\t如果NDFrame完全为空[没有项目]，则为true; 如果任何轴的长度为0。\n",
    "5\tndim\t轴/阵列尺寸的数量。\n",
    "6\tshape\t返回表示DataFrame维度的元组。\n",
    "7\tsize\tNDFrame中的元素数目。\n",
    "8\tvalues\tNDFrame的Numpy表示。\n",
    "9\thead()\t返回前n行。\n",
    "10\ttail()\t返回最后n行。\n",
    "\n",
    "\n",
    "S.No.\t功能\t描述\n",
    "1\tcount()\t非空观测值的数量\n",
    "2\tsum()\t值的总和\n",
    "3\tmean()\t价值的意义\n",
    "4\tmedian()\t价值的中间值\n",
    "5\tmode()\t价值观的模式\n",
    "6\tstd()\t价值观的标准差\n",
    "7\tmin()\t最小值\n",
    "8\tmax()\t最大值\n",
    "9\tabs()\t绝对值\n",
    "10\tprod()\t价值的产物\n",
    "11\tcumsum()\t累计和\n",
    "12\tcumprod()\t累积产品\n"
   ]
  },
  {
   "cell_type": "markdown",
   "metadata": {},
   "source": [
    "## 删除某一个特征的所有数据\n"
   ]
  },
  {
   "cell_type": "code",
   "execution_count": null,
   "metadata": {},
   "outputs": [],
   "source": [
    "a = [1,2,3]\n",
    "b1=a[0]\n",
    "b2 = a[-1]\n",
    "a.insert(0,a[0])\n",
    "a.insert(-1,a[-1])\n",
    "\"\"\"----------------------------------------------------------------------\"\"\"\n",
    "\n",
    "# 删除某一个特征的所有数据\n",
    "\n",
    "# pandas 删除全是女生的行 \n",
    "\n",
    "import pandas as pd\n",
    "df = pd.DataFrame({\"key\":['green','red', 'blue'],\n",
    "            \"data1\":['a','b','c'],\"sorce\": [33,61,99]})\n",
    "print(df)\n",
    "print(\"---------------\")\n",
    "\n",
    "data1 = pd.concat([df,df],ignore_index=True)\n",
    "\n",
    "data2=data1[-data1.sorce.isin([61])]\n",
    "\n",
    "\n",
    "\"\"\"----------------------------------------------------------------------\"\"\"\n",
    "\n"
   ]
  },
  {
   "cell_type": "markdown",
   "metadata": {},
   "source": [
    "## 导入的包"
   ]
  },
  {
   "cell_type": "code",
   "execution_count": null,
   "metadata": {},
   "outputs": [],
   "source": [
    "import datetime\n",
    "import numpy as np\n",
    "import pandas as pd\n",
    "from geopy.distance import geodesic\n",
    "from collections import defaultdict,OrderedDict\n",
    "import matplotlib.pyplot as plt\n",
    "import dateutil\n",
    "import warnings\n",
    "\n",
    "warnings.filterwarnings('ignore')\n",
    "# %matplotlib inline\n",
    "\n",
    "# 这个是mac的画图中文乱码，window的可能不太一样\n",
    "# 画图中文错误\n",
    "# 用来正常显示中文标签\n",
    "# window的画图中文乱码\n",
    "# plt.rcParams['font.sans-serif'] = ['SimHei'] # 指定默认字体\n",
    "# plt.rcParams['axes.unicode_minus'] = False # 解决保存图像是负号'-'显示为方块的问题\n",
    "\n",
    "plt.rcParams['font.sans-serif'] = ['Arial Unicode Ms']\n",
    "# 用来正常显示负号\n",
    "plt.rcParams['axes.unicode_minus'] = False\n",
    "# 可视化矩阵\n",
    "\n",
    "# ————————————————————————————————————————————————————————————————————————————————————————————\n",
    "\n"
   ]
  },
  {
   "cell_type": "markdown",
   "metadata": {},
   "source": [
    "## list_dict_Series"
   ]
  },
  {
   "cell_type": "code",
   "execution_count": null,
   "metadata": {},
   "outputs": [],
   "source": [
    "\"\"\"\n",
    "python 数据类型list、dict、numpy array、series、dataframe之间的转换\\\n",
    "\n",
    "https://blog.csdn.net/rosefun96/article/details/78970239\n",
    "\n",
    "\n",
    "\"\"\"\n",
    "\"\"\"---------------------------------------------------------------------------------------\"\"\"\n",
    "\n",
    "#  1. list to others\n",
    "\n",
    "import numpy as np\n",
    "import pandas as pd\n",
    "from pandas import Series, DataFrame\n",
    "\n",
    "\n",
    "# list\n",
    "data = [[2000, 'Ohino', 1.5],\n",
    "        [2001, 'Ohino', 1.7],\n",
    "        [2002, 'Ohino', 3.6],\n",
    "        [2001, 'Nevada', 2.4],\n",
    "        [2002, 'Nevada', 2.9]]  # type(data) 为 list\n",
    "\n",
    "# list to series\n",
    "ser = Series(data, index = ['one', 'two', 'three', 'four', 'five'])\n",
    "\n",
    "# list to dataframe\n",
    "df = DataFrame(data, index = ['one', 'two', 'three', 'four', 'five'], columns = ['year', 'state', 'pop'])\n",
    "\n",
    "# list to array\n",
    "ndarray = np.array(data)\n",
    "\n",
    "\"\"\"---------------------------------------------------------------------------------\"\"\"\n",
    "\n",
    "# 2. ndarray to others\n",
    "\n",
    "# array to dataframe\n",
    "pd = DataFrame(ndarray, index = ['one', 'two', 'three', 'four', \n",
    "'five'], \n",
    "columns = ['year', 'state', 'pop'])\n",
    "\n",
    "# ndarray to list\n",
    "mylist = ndarray.tolist()\n",
    "\n",
    "\"\"\"---------------------------------------------------------------------------------------\"\"\"\n",
    "\n",
    "# 3. dict to others\n",
    "\n",
    "import numpy as np\n",
    "import pandas as pd\n",
    "from pandas import Series, DataFrame\n",
    "\n",
    "# dict\n",
    "data = { 'name': ['Li', 'Zhang', 'Wang'],\n",
    "         'year': [2000, 2001, 2002]}  # type(data) 为 dict\n",
    "\n",
    "# dict to series\n",
    "# 若不指定 index，data 的 key 充当 Series 的 index\n",
    "ser = Series(data)\n",
    "print('ser\\n', ser)\n",
    "\n",
    "# dict to dataframe\n",
    "# 若不指定 columns，data 的 key 充当 DataFrame 的 columns\n",
    "df = DataFrame(data)\n",
    "print('df\\n', df)\n",
    "\n",
    "\"\"\"---------------------------------------------------------------------------------------\"\"\"\n",
    "\n",
    "# 4. Series to others\n",
    "\n",
    "# 如果把DataFrame取一列就是Series格式了。\n",
    "\n",
    "# series to np array\n",
    "\n",
    "# 需要pandas version 0.24以上\n",
    "arr = ser.to_numpy()\n",
    "# 或者\n",
    "arr = np.array(ser)\n",
    "# Series转换成dict\n",
    "dt = ser.to_dict()\n",
    "\n",
    "\"\"\"---------------------------------------------------------------------------------------\"\"\"\n",
    "\n",
    "# 5. DataFrame to others\n",
    "# dataframe\n",
    "data = DataFrame(np.array([[1, 2, 3], [4, 5, 6], [7, 8, 9]]), columns=['a', 'b', 'c'])\n",
    "print(data)\n",
    "\n",
    "# dataframe to array\n",
    "arr = data.values\n",
    "print('arr\\n', arr)\n",
    "print(type(arr))\n",
    "\n",
    "# dataframe to dict \n",
    "dict = data.to_dict()\n",
    "print(dict)\n",
    "\n",
    "\"\"\"\n",
    "#  DataFrame.to_dict(self, orient='dict', into=<class 'dict'>) 还可以转换成 list,series等：\n",
    "\n",
    " orient : str {‘dict’, ‘list’, ‘series’, ‘split’, ‘records’, ‘index’}\n",
    "Determines the type of the values of the dictionary.\n",
    "\n",
    "‘dict’ (default) : dict like {column -> {index -> value}}\n",
    "‘list’ : dict like {column -> [values]}\n",
    "‘series’ : dict like {column -> Series(values)}\n",
    "‘split’ : dict like {‘index’ -> [index], ‘columns’ -> [columns], ‘data’ -> [values]}\n",
    "‘records’ : list like [{column -> value}, … , {column -> value}]\n",
    "‘index’ : dict like {index -> {column -> value}}\n",
    "Abbreviations are allowed. s indicates series and sp indicates split.\n",
    "\n",
    "\"\"\"\n",
    "\n",
    "\"\"\"---------------------------------------------------------------------------------------\"\"\"\n",
    "\n"
   ]
  },
  {
   "cell_type": "markdown",
   "metadata": {},
   "source": [
    "## merge数据合并"
   ]
  },
  {
   "cell_type": "code",
   "execution_count": null,
   "metadata": {},
   "outputs": [],
   "source": [
    "# merge数据合并\n",
    "\"\"\"\n",
    "https://zhuanlan.zhihu.com/p/102274476\n",
    "\n",
    "上面的引入部分说到merge是用来拼接两张表的，那么拼接时自然就需要将用户信息一一对应地进行拼接，\n",
    "所以进行拼接的两张表需要有一个共同的识别用户的键（key）。总结来说，整个merge的过程就是将信息\n",
    "一一对应匹配的过程，下面介绍merge的四种类型，分别为'inner'、'left'、'right'和'outer'。\n",
    "\n",
    "一、inner\n",
    "merge的'inner'的类型称为内连接，它在拼接的过程中会取两张表的键（key）的交集进行拼接。\n",
    "\n",
    "二、left 和right\n",
    "'left'和'right'的merge方式其实是类似的，分别被称为左连接和右连接。这两种方法是可以互相转换的，所以在这里放在一起介绍。\n",
    "\n",
    "'left'\n",
    "merge时，以左边表格的键为基准进行配对，如果左边表格中的键在右边不存在，则用缺失值NaN填充。\n",
    "\n",
    "\n",
    "'right'\n",
    "merge时，以右边表格的键为基准进行配对，如果右边表格中的键在左边不存在，则用缺失值NaN填充。\n",
    "\n",
    "三、outer\n",
    "\n",
    "'outer'是外连接，在拼接的过程中它会取两张表的键（key）的并集进行拼接\n",
    "\n",
    "\n",
    "\"\"\"\n",
    "\n",
    "# 1.现在用'inner'的方式进行merge\n",
    "\n",
    "df_1 = pd.DataFrame({'age':[23, 46, 32, 19], 'useid':['a','b','c','d']})\n",
    "df_2 = pd.DataFrame({'payment':[2000, 3500], \"useid\":['a','b']})\n",
    "\n",
    "df_1.merge(df_2,how='inner',on='useid')  # 你有我有的useid, 交集\n",
    "\n",
    "\n",
    "# 2. left\n",
    "df_1.merge(df_2,how='left',on='useid')  # 左边有的id 右边没有， 则 右边的补NAN  ②若右表中的payment列合并到左表中，对于没有匹配值的用缺失值NaN填充\n",
    "\n",
    "#3.right\n",
    "\n",
    "df_2.merge(df_1,how='right',on='useid') \n",
    "                  # 对于'right'类型的merge和'left'其实是差不多的，只要把两个表格的位置调换一下，两种方式返回的结果就是一样的（），如下：\n",
    "\n",
    "# 4. outer\n",
    "\n",
    "\n",
    "df_1 = pd.DataFrame({'age':[23, 46, 32, 19], 'useid':['a','b','c','d']})\n",
    "df_2 = pd.DataFrame({'payment':[2000, 3500, 3000], \"useid\":['a','b','e']})\n",
    "\n",
    "df_1.merge(df_2,how='outer',on='useid')\n",
    "\n",
    "\n",
    "#  对于我们的原始数据，首先将车辆基础数据进行预处理留下合理数据， 将GPS基础数据与车辆基础数据进行拼接，使用”inner“,拼接就可以了\n"
   ]
  },
  {
   "cell_type": "markdown",
   "metadata": {},
   "source": [
    "## groupby"
   ]
  },
  {
   "cell_type": "code",
   "execution_count": null,
   "metadata": {},
   "outputs": [],
   "source": [
    "# Pandas数据处理三板斧——map、apply、applymap详解\n",
    "\n",
    "boolean=[True,False]\n",
    "gender=[\"男\",\"女\"]\n",
    "color=[\"white\",\"black\",\"yellow\"]\n",
    "data_d1=pd.DataFrame({\n",
    "    \"height\":np.random.randint(150,190,100),\n",
    "    \"weight\":np.random.randint(40,90,100),\n",
    "    \"smoker\":[boolean[x] for x in np.random.randint(0,2,100)],\n",
    "    \"gender\":[gender[x] for x in np.random.randint(0,2,100)],\n",
    "    \"age\":np.random.randint(15,90,100),\n",
    "    \"color\":[color[x] for x in np.random.randint(0,len(color),100) ]\n",
    "}\n",
    ")\n",
    "\n",
    "\"\"\"\n",
    "1. map用法\n",
    "如果需要把数据集中gender列的男替换为1，女替换为0，怎么做呢？绝对不是用for循环实现，\n",
    "使用Series.map()可以很容易做到，最少仅需一行代码。\n",
    "\"\"\"\n",
    "# ①使用字典进行映射\n",
    "data_d1['gender'] = data_d1['gender'].map({\"男\":1, \"女\": 0})\n",
    "\n",
    "#②使用函数\n",
    "def gender_map(x):\n",
    "    gender = 1 if x == \"男\" else 0\n",
    "    return gender\n",
    "#注意这里传入的是函数名，不带括号\n",
    "data[\"gender\"] = data[\"gender\"].map(gender_map)\n",
    "\n",
    "\"\"\"\n",
    "不论是利用字典还是函数进行映射，map方法都是把对应的数据逐个当作参数传入到字典或函数中，得到映射后的值。\n",
    "\"\"\"\n",
    "\n",
    "\"\"\"-----------------------------------------------------------------------------------------------\"\"\"\n",
    "\n",
    "# 2. apply, \n",
    "\n",
    "# https://zhuanlan.zhihu.com/p/100064394\n",
    "\n",
    "def apply_age(x,bias):\n",
    "    return x+bias\n",
    "\n",
    "#以元组的方式传入额外的参数\n",
    "\n",
    "data[\"age\"] = data[\"age\"].apply(apply_age,args=(-3,))  #  可以看到age列都减了3\n",
    "\n",
    "# 总而言之，对于Series而言，map可以解决绝大多数的数据处理需求，但如果需要使用较为复杂的函数，则需要用到apply方法。\n",
    "\n",
    "# 沿着0轴求和\n",
    "data[[\"height\",\"weight\",\"age\"]].apply(np.sum, axis=0)  # 列和\n",
    "\n",
    "# 沿着0轴取对数\n",
    "data[[\"height\",\"weight\",\"age\"]].apply(np.log, axis=0)  # 列和\n",
    "\n",
    "\n",
    "# 行和\n",
    "\n",
    "def BMI(series):\n",
    "    weight = series[\"weight\"]\n",
    "    height = series[\"height\"]/100\n",
    "    BMI = weight/height**2\n",
    "    return BMI\n",
    "\n",
    "data[\"BMI\"] = data.apply(BMI,axis=1)\n",
    "\n",
    "\"\"\"-----------------------------------------------------------------------------------------------\"\"\"\n",
    "\n",
    "# 3. applymap\n",
    "\n",
    "data_df = pd.DataFrame(\n",
    "    {\n",
    "        \"A\":np.random.randn(5),\n",
    "        \"B\":np.random.randn(5),\n",
    "        \"C\":np.random.randn(5),\n",
    "        \"D\":np.random.randn(5),\n",
    "        \"E\":np.random.randn(5),\n",
    "    }\n",
    ")\n",
    "\n",
    "# 将DataFrame中所有的值保留两位小数显示\n",
    "\n",
    "data_df.applymap(lambda x:\"%.2f\" % x)\n",
    "\n",
    "\n",
    "\n",
    "\n",
    "day = [data_lo.time.iloc[i].date().strftime('%Y-%m-%d') for i in range(len(data_lo))]  # 把time 转换有y_m_d的字符串类型\n",
    "\n",
    "data_lo['day'] = day  # 把 day 加入到 data_lo数据集\n",
    "\n",
    "data_lo.to_csv('data_location_del_less_10.csv', index=None)  # 保存数据\n",
    "\n",
    "d1 = data_lo.groupby(\"ID\")[\"day\"].value_counts()  # 按ID对数据进行分组，在每个ID中按day统计个数， 知道每个ID下一共有多少天的数据，每天的数据量是多少\n",
    "\n",
    "d1.to_csv('day_counts_point.csv')  # 保存id下每天的记录\n",
    "\n",
    "d1 = pd.read_csv('day_counts_point.csv', index_col=None)  # 读取数据\n",
    "\n",
    "d2 = d1.groupby(\"ID\")[\"count\"].agg(['max','min','mean','count','sum', 'median','std','var'])  # 使用 agg将多个函数功能合并展示\n",
    "\n",
    "#  https://zhuanlan.zhihu.com/p/101284491?utm_source=wechat_session\n",
    "\n",
    "# pandas 分组操作groupby, agg, transform, \n",
    "\n",
    "#  实现分组操作的代码很简单，\n",
    "company=[\"A\",\"B\",\"C\"]\n",
    "cd = ['D', 'E','F']\n",
    "df = pd.DataFrame({\n",
    "    \"company\":[company[x] for x in np.random.randint(0,len(company),10)],\n",
    "    'cd':[cd[x] for x in np.random.randint(0,len(company),10)],\n",
    "    \"salary\":np.random.randint(5,50,10),\n",
    "    \"age\":np.random.randint(15,50,10)\n",
    "}\n",
    ")\n",
    "\n",
    "\n",
    "group = df.groupby('company')  # 将上面的数据集按照company字段进行划分\n",
    "\n",
    "list(group)  # 这里把group转换成list的形式\n",
    "\n",
    "# 如果想对针对不同的列求不同的值，比如要计算不同公司员工的平均年龄以及薪水的中位数，可以利用字典指定进行聚合操作：\n",
    "\n",
    "df.groupby('company').agg({'salary':'median','age':'mean'})\n",
    "\n",
    "\"\"\"\n",
    "在上面的agg中，我们学会了如何求不同公司员工的平均薪水，如果现在需要在原数据集中新增一列avg_salary，\n",
    "代表员工所在的公司的平均薪水（相同公司的员工具有一样的平均薪水），该怎么实现呢？如果按照正常的步骤来\n",
    "计算，需要先求得不同公司的平均薪水，然后按照员工和公司的对应关系填充到对应的位置，不用transform的话，\n",
    "实现代码如下：\n",
    "\"\"\"\n",
    "# https://blog.csdn.net/weixin_42028854/article/details/88829352?utm_medium=distribute.pc_relevant.none-task-blog-BlogCommendFromMachineLearnPai2-2.channel_param&depth_1-utm_source=distribute.pc_relevant.none-task-blog-BlogCommendFromMachineLearnPai2-2.channel_param\n",
    "\n",
    "# pandas 转换为字典， orient:value的形式：“list”, \"dist\", \"series\", \"split\", \"report\", \"index\"\n",
    "\n",
    "# df.to_dict(orient=\"list\")\n",
    "\n",
    "avg_salary_dict = df.groupby(\"company\")['salary'].mean().to_dict()\n",
    "\n",
    "df['avg_salary'] = df['company'].map(avg_salary_dict)  # 对company的列进行操作\n",
    "\n",
    "# 可以直接用transform实现avg_salary_dict， 和map的功能\n",
    "\n",
    "df['avg_salary1'] = df.groupby('company')['salary'].transform('mean')\n",
    "\n",
    "\n"
   ]
  },
  {
   "cell_type": "markdown",
   "metadata": {},
   "source": [
    "# matplotlib"
   ]
  },
  {
   "cell_type": "code",
   "execution_count": null,
   "metadata": {
    "ExecuteTime": {
     "end_time": "2021-03-12T02:16:09.182782Z",
     "start_time": "2021-03-12T02:16:08.539968Z"
    }
   },
   "outputs": [],
   "source": [
    "import numpy as np\n",
    "import matplotlib.pyplot as plt  # Python 绘图工具(业界推荐)\n",
    "\n",
    "# 数据初始化\n",
    "A = [\n",
    "    [1,pow(-3,3)],\n",
    "    [1,pow(-2,3)],\n",
    "    [1,pow(-1,3)],\n",
    "    [1,pow(2,3)],\n",
    "    [1,pow(4,3)]\n",
    "];\n",
    "\n",
    "At =  np.transpose(A); # A的转置矩阵\n",
    "\n",
    "y = np.transpose([14.3,8.3,4.7,8.3,22.7]);\n",
    "\n",
    "\n",
    "# step1:求解\n",
    "## 令 (a ,b)^T 为 未知参数X\n",
    "X = np.dot(np.dot(np.linalg.inv(np.dot(At,A)),At),y)\n",
    "print(X)\n",
    "print(\"a:\",X[0])\n",
    "print(\"b:\",X[1])\n",
    "\n",
    "# step2:查看拟合效果\n",
    "x = [-3,-2,-1,2,4];\n",
    "## 1. 计算拟合数值 fitValue\n",
    "def fitValue(arg_x):\n",
    "    a = X[0];\n",
    "    b = X[1];\n",
    "    return a + b*pow(arg_x,3);\n",
    "\n",
    "fitValues = np.zeros([5]); # 创建长为5的【一维】数组；[1,5]：创建第1行为5个元素的【二维】数组 \n",
    "for i in range(0,len(fitValues)):\n",
    "    fitValues[i] = fitValue(x[i]);\n",
    "    print(i,\":\",\"x(i):\",x[i],\"fit Y:\",fitValues[i]); # just for test\n",
    "    pass;\n",
    "\n",
    "## 2. 绘图可视化\n",
    "yt = np.transpose(y); # y的转置\n",
    "plt.rcParams['figure.dpi'] = 100 #分辨率\n",
    "plt.scatter(x, yt, marker = '*',color = 'red', s = 10 ,label = 'Actual Dataset') # 真实数据集\n",
    "plt.scatter(x, fitValues, marker = 'x',color = 'green', s = 10 ,label = 'Fitting Dataset') #[拟合数据集]\n",
    "plt.legend(loc = 'best')    # 设置 图例所在的位置 使用推荐位置\n",
    "plt.show() "
   ]
  },
  {
   "cell_type": "markdown",
   "metadata": {},
   "source": [
    "##  matplotlib 画子图"
   ]
  },
  {
   "cell_type": "code",
   "execution_count": null,
   "metadata": {
    "ExecuteTime": {
     "end_time": "2021-03-12T03:25:32.976743Z",
     "start_time": "2021-03-12T03:25:32.523634Z"
    }
   },
   "outputs": [],
   "source": [
    "from matplotlib import pyplot as plt\n",
    "import numpy as np\n",
    "x = np.linspace(1, 100, num= 25, endpoint = True)\n",
    "def y_subplot(x,i):\n",
    "    return np.cos(i * np.pi *x)\n",
    "#使用subplots 画图\n",
    "f, ax = plt.subplots(2,2)\n",
    "#type(f) #matplotlib.figure.Figure\n",
    "\n",
    "style_list = [\"g+-\", \"r*-\", \"b.-\", \"yo-\"]\n",
    "ax[0][0].plot(x, y_subplot(x, 1), style_list[0])\n",
    "ax[0][1].plot(x, y_subplot(x, 2), style_list[1])\n",
    "ax[1][0].plot(x, y_subplot(x, 3), style_list[2])\n",
    "ax[1][1].plot(x, y_subplot(x, 4), style_list[3])\n",
    "\n",
    "plt.show()\n"
   ]
  },
  {
   "cell_type": "code",
   "execution_count": null,
   "metadata": {},
   "outputs": [],
   "source": [
    "2. #使用subplot画图\n",
    "for i in  range(1,5):\n",
    "    plt.subplot(2,2,i)\n",
    "    plt.plot(x, y_subplot(x,i), style_list[i- 1])\n",
    "plt.show()\n"
   ]
  },
  {
   "cell_type": "markdown",
   "metadata": {},
   "source": [
    "## 画图基础操作\n"
   ]
  },
  {
   "cell_type": "code",
   "execution_count": null,
   "metadata": {},
   "outputs": [],
   "source": [
    "# 图名，图例，轴标签，轴边界，轴刻度，轴刻度标签等\n",
    "\n",
    "df = pd.DataFrame(np.random.rand(10,2),columns=['A','B'])\n",
    "fig = df.plot(figsize=(12, 6))\n",
    "# figsize：创建图表窗口，设置窗口大小\n",
    "# 创建图表对象，并赋值与fig\n",
    "\n",
    "plt.title('Interesting Graph - Check it out')  # 图名\n",
    "plt.xlabel('Plot Number')  # x轴标签\n",
    "plt.ylabel('Important var') # y轴标签\n",
    "\n",
    "plt.legend(loc = 'upper right')  \n",
    "# 显示图例，loc表示位置\n",
    "# 'best'         : 0, (only implemented for axes legends)(自适应方式)\n",
    "# 'upper right'  : 1,\n",
    "# 'upper left'   : 2,\n",
    "# 'lower left'   : 3,\n",
    "# 'lower right'  : 4,\n",
    "# 'right'        : 5,\n",
    "# 'center left'  : 6,\n",
    "# 'center right' : 7,\n",
    "# 'lower center' : 8,\n",
    "# 'upper center' : 9,\n",
    "# 'center'       : 10,\n",
    "\n",
    "plt.xlim([0,12])  # x轴边界\n",
    "plt.ylim([0,1.5])  # y轴边界\n",
    "plt.xticks(range(10))  # 设置x刻度\n",
    "plt.yticks([0,0.2,0.4,0.6,0.8,1.0,1.2])  # 设置y刻度\n",
    "fig.set_xticklabels(\"%.1f\" %i for i in range(10))  # x轴刻度标签 保留小数点后一位小数\n",
    "fig.set_yticklabels(\"%.2f\" %i for i in [0,0.2,0.4,0.6,0.8,1.0,1.2])  # y轴刻度标签 #保留小数点后2位小数\n",
    " # 范围只限定图表的长度，刻度则是决定显示的标尺 → 这里x轴范围是0-12，但刻度只是0-9，刻度标签使得其显示1位小数 # 轴标签则是显示刻度的标签 print(fig,type(fig)) # 查看表格本身的显示方式，以及类别\n",
    "\"\"\"------------------------------------------------------------------------------------------------------------------------------------------------------------------------\"\"\"\n",
    "\n",
    "# 2. 散点图\n",
    "\n",
    "# 对于 id的个数画图，查看一下，id的数量分布\n",
    "fig = plt.figure(figsize=(12, 8))\n",
    "\n",
    "#新加入的代码如下：\n",
    "# plt.xlabel(\"\") #x轴说明\n",
    "# plt.ylabel(\"id的计数\") #y轴说明\n",
    "plt.title(\"车辆的经纬度\") #此图像的标题\n",
    "plt.scatter(data_37532_1_03_del_33['gpsX'], data_37532_1_03_del_33['gpsY'])\n",
    "plt.scatter(data_37532_1_03_del['gpsX'], data_37532_1_03_del['gpsY'], marker='*', color = 'red')\n",
    "plt.show()\n",
    "\n",
    "\"\"\"------------------------------------------------------------------------------------------------------------------------------------------------------------------------\"\"\"\n",
    "\n",
    "\n",
    "# 3. \n",
    "\n",
    "# 对于 id的个数画图，查看一下，id的数量分布\n",
    "fig = plt.figure(figsize=(12, 8))\n",
    "data_37532_1_03_del_second = data_37532_1_03_del_33.loc[v_del[v_del[0] > 33.33].index]\n",
    "#新加入的代码如下：\n",
    "# plt.xlabel(\"\") #x轴说明\n",
    "# plt.ylabel(\"id的计数\") #y轴说明\n",
    "plt.title(\"车辆的经纬度\") #此图像的标题\n",
    "plt.scatter(data_37532_1_03_del_33['gpsX'], data_37532_1_03_del_33['gpsY'], alpha=0.1)\n",
    "plt.scatter(data_37532_1_03_del['gpsX'], data_37532_1_03_del['gpsY'], marker='*', color = 'red')\n",
    "plt.scatter(data_37532_1_03_del_second['gpsX'], data_37532_1_03_del_second['gpsY'], marker='*', color = 'red')\n",
    "plt.show()\n",
    "\n",
    "\n",
    "\"\"\"------------------------------------------------------------------------------------------------------------------------------------------------------------------------\"\"\"\n",
    "\n",
    "# 4. \n",
    "\n",
    "# 对于 id的个数画图，查看一下，id的数量分布\n",
    "fig = plt.figure(figsize=(12, 8))\n",
    "\n",
    "#新加入的代码如下：\n",
    "# plt.xlabel(\"\") #x轴说明\n",
    "# plt.ylabel(\"id的计数\") #y轴说明\n",
    "plt.title(\"车辆的经纬度\") #此图像的标题\n",
    "plt.scatter(data_37532_1_03_del_33_['gpsX'], data_37532_1_03_del_33_['gpsY'], alpha=0.1)\n",
    "plt.scatter(data_37532_1_03_del['gpsX'], data_37532_1_03_del['gpsY'], marker='*', color = 'red')\n",
    "plt.scatter(data_37532_1_03_del_second['gpsX'], data_37532_1_03_del_second['gpsY'], marker='*', color = 'green')\n",
    "plt.show()\n",
    "\n",
    "\"\"\"------------------------------------------------------------------------------------------------------------------------------------------------------------------------\"\"\"\n"
   ]
  },
  {
   "cell_type": "markdown",
   "metadata": {},
   "source": [
    "## 中文出错"
   ]
  },
  {
   "cell_type": "code",
   "execution_count": null,
   "metadata": {},
   "outputs": [],
   "source": [
    "# 这个是mac的画图中文乱码，window的可能不太一样\n",
    "# 画图中文错误\n",
    "# 用来正常显示中文标签\n",
    "# window的画图中文乱码\n",
    "# plt.rcParams['font.sans-serif'] = ['SimHei'] # 指定默认字体\n",
    "# plt.rcParams['axes.unicode_minus'] = False # 解决保存图像是负号'-'显示为方块的问题\n",
    "\n",
    "plt.rcParams['font.sans-serif'] = ['Arial Unicode Ms']\n",
    "# 用来正常显示负号\n",
    "plt.rcParams['axes.unicode_minus'] = False\n",
    "# 可视化矩阵"
   ]
  },
  {
   "cell_type": "markdown",
   "metadata": {},
   "source": [
    "# 时间相关数据操作"
   ]
  },
  {
   "cell_type": "code",
   "execution_count": null,
   "metadata": {},
   "outputs": [],
   "source": [
    "# 时间序列\n",
    "\"\"\"\n",
    "\n",
    "\n",
    "内容目录\n",
    "\n",
    "1. 基础概述\n",
    "2. 转换时间戳\n",
    "3. 生成时间戳范围\n",
    "4. DatetimeIndex\n",
    "5. DateOffset对象\n",
    "6. 与时间序列相关的方法\n",
    "6.1 移动\n",
    "6.2 频率转换\n",
    "6.3 重采样\n",
    "\n",
    "一、基础概述\n",
    "下面列出了 Pandas中 和时间日期相关常用的类以及创建方法。\n",
    "类                 备注             创建方法\n",
    "Timestamp        时刻数据            to_datetime，Timestamp\n",
    "DatetimeIndex   Timestamp的索引      to_datetime，date_range，DatetimeIndex\n",
    "Period           时期数据             Period\n",
    "PeriodIndex   Period                 period_range， PeriodIndex\n",
    "Pandas 中关于时间序列最常见的类型就是时间戳（Timestamp）了，创建时间戳的方法有很多种，我们分别来看一看。\n",
    "\"\"\"\n",
    "pd.Timestamp(2018,5,21)\n",
    "\n",
    "pd.Timestamp('2018-5-21')\n",
    "\n",
    "# 除了时间戳之外，另一个常见的结构是时间跨度（Period）\n",
    "\n",
    "pd.Period(\"2018-01\")\n",
    "\n",
    "pd.Period(\"2018-05\", freq=\"D\")\n",
    "\n",
    "#索引后会自动强制转为为 DatetimeIndex 和 PeriodIndex。\n",
    "\n",
    "\"\"\"-------------------------------------------------------------------------------------\"\"\"\n",
    "\n",
    "# 二、转换时间戳\n",
    "#   通过 to_datetime 能快速将字符串转换为时间戳。当传递一个Series时，\n",
    "#   它会返回一个Series（具有相同的索引），而类似列表的则转换为DatetimeIndex。\n",
    "\n",
    "pd.to_datetime(pd.Series([\"Jul 31, 2018\", \"2018-05-10\", None]))\n",
    "\n",
    "pd.to_datetime([\"2005/11/23\", \"2010.12.31\"])\n",
    "\n",
    "#除了可以将文本数据转为时间戳外，还可以将 unix 时间转为时间戳\n",
    "\n",
    "pd.to_datetime([1349720105, 1349806505, 1349892905], unit=\"s\")\n",
    "\n",
    "pd.to_datetime([1349720105100, 1349720105200, 1349720105300], unit=\"ms\")\n",
    "\n",
    "\"\"\"-------------------------------------------------------------------------------------\"\"\"\n",
    "\n",
    "# 三、生成时间戳范围\n",
    "\n",
    "pd.date_range(\"2018-6-26\", periods=8)\n",
    "\n",
    "pd.bdate_range(\"2018-6-26\", periods=8)\n",
    "\n",
    "#可以看出，date_range 默认使用的频率是 日历日，而 bdate_range 默认使用的频率是 营业日。当然了，我们可以自己指定频率，比如，我们可以按周来生成时间戳范围。\n",
    "pd.date_range(\"2018-6-26\", periods=8, freq=\"W\")\n",
    "\n",
    "\n",
    "\"\"\"-------------------------------------------------------------------------------------\"\"\"\n",
    "\n",
    "# 四. DatetimeIndex\n",
    "# DatetimeIndex 的主要作用是之一是用作 Pandas 对象的索引，使用它作为索引除了拥有普通索引对象的所\n",
    "# 有基本功能外，还拥有简化频率处理的高级时间序列方法。\n",
    "\n",
    "rng = pd.date_range(\"2018-6-24\", periods=4, freq=\"W\")\n",
    "ts = pd.Series(range(len(rng)), index=rng)\n",
    "\n",
    "# 通过日期访问数据\n",
    "ts[\"2018-07-08\"]\n",
    "\n",
    "# 通过日期区间访问数据切片\n",
    "ts[\"2018-07-08\": \"2018-07-22\"]\n",
    "\n",
    "#传入年份\n",
    "ts[\"2018\"]\n",
    "\n",
    "# 传入年份和月份\n",
    "ts[\"2018-07\"]\n",
    "\n",
    "\n",
    "#除了可以使用字符串对 DateTimeIndex 进行索引外，还可以使用 datetime（日期时间）对象来进行索引。\n",
    "from datetime import datetime\n",
    "ts[datetime(2018, 7, 8) : datetime(2018, 7, 22)]\n",
    "\n",
    "# 获取年份\n",
    "ts.index.year\n",
    "\n",
    "# 获取星期几\n",
    "ts.index.dayofweek\n",
    "\n",
    "# 获取一年中的第几个星期\n",
    "ts.index.weekofyear\n",
    "\n",
    "\n",
    "\"\"\"-------------------------------------------------------------------------------------\"\"\"\n",
    "\n",
    "# 六、与时间序列相关的方法\n",
    "\n",
    "# 在做时间序列相关的工作时，经常要对时间做一些移动/滞后、频率转换、采样等相关操作，我们来看下这些操作如何使用吧。\n",
    "\n",
    "\"\"\"-------------------------------------------------------------------------------------\"\"\"\n",
    "\n"
   ]
  },
  {
   "cell_type": "code",
   "execution_count": null,
   "metadata": {
    "ExecuteTime": {
     "end_time": "2021-03-12T02:30:29.224017Z",
     "start_time": "2021-03-12T02:30:29.218156Z"
    }
   },
   "outputs": [],
   "source": [
    "def fun_var_args(farg, *args):  \n",
    "    print(\"arg:\", farg)\n",
    "    for value in args:  \n",
    "        print(\"another arg:\", value)  \n",
    "        \n",
    "fun_var_args(1, \"two\", 3) # *args可以当作可容纳多个变量组成的list "
   ]
  },
  {
   "cell_type": "code",
   "execution_count": null,
   "metadata": {
    "ExecuteTime": {
     "end_time": "2021-03-12T02:30:30.176284Z",
     "start_time": "2021-03-12T02:30:30.169486Z"
    }
   },
   "outputs": [],
   "source": [
    "def fun_var_kwargs(farg, **kwargs):  \n",
    "    print(\"arg:\", farg) \n",
    "    for key in kwargs:  \n",
    "        print(\"another keyword arg: %s: %s\" % (key, kwargs[key]))\n",
    "\n",
    "fun_var_kwargs(farg=1, myarg2=\"two\", myarg3=3)   # myarg2和myarg3被视为key， 感觉**kwargs可以当作容纳多个key和value的dictionary  "
   ]
  },
  {
   "cell_type": "code",
   "execution_count": null,
   "metadata": {
    "ExecuteTime": {
     "end_time": "2021-03-12T02:30:30.523745Z",
     "start_time": "2021-03-12T02:30:30.515832Z"
    }
   },
   "outputs": [],
   "source": [
    "def fun_var_kwargs(farg, **kwargs):  \n",
    "    s = fun1(**kwargs)\n",
    "    print(fun1(**kwargs))\n",
    "\n",
    "def fun1(**kwargs):\n",
    "    if 'seed' not in list(kwargs.keys()):\n",
    "        kwargs['seed'] = 1\n",
    "    else:\n",
    "        pass\n",
    "    return  kwargs, kwargs.keys()\n",
    "\n",
    "fun1(seed = 1)"
   ]
  },
  {
   "cell_type": "markdown",
   "metadata": {},
   "source": [
    "#  字典"
   ]
  },
  {
   "cell_type": "code",
   "execution_count": null,
   "metadata": {},
   "outputs": [],
   "source": [
    "11. 字典\n",
    "\n",
    "tel = {'jack': 4098, 'sape': 4139}\n",
    "\n",
    "tel.keys()  # dict_keys(['jack', 'sape'])\n",
    "\n",
    "list(tel.keys())  # ['jack', 'sape']\n",
    "\n",
    "tel.values()  # dict_values([4098, 4139])\n",
    "\n",
    "'guido' in tel  # False\n",
    "\n",
    "'guido' not in tel  # True\n",
    "\n",
    "d = dict([('sape', 4139), ('guido', 4127), ('jack', 4098)])\n",
    "\n",
    "d  # {'sape': 4139, 'guido': 4127, 'jack': 4098}\n",
    "\n",
    "{x: x**2 for x in (2, 4, 6)}  # {2: 4, 4: 16, 6: 36}\n",
    "\n",
    "# d.items()   enumerate() , zip(), reversed(),倒位 ；\n",
    "# 使用 sorted() 函数，它不改动原序列，而是生成一个新的已排序的序列:\n",
    "\n",
    "knights = {'gallahad': 'the pure', 'robin': 'the brave'}\n",
    "for k, v in knights.items():\n",
    "    print(k, v)\n",
    "\n",
    "# in， not in\n",
    "# is, not is\n",
    "# and or not B\n"
   ]
  },
  {
   "cell_type": "markdown",
   "metadata": {},
   "source": [
    "## 判断某个字典是否存在某个key"
   ]
  },
  {
   "cell_type": "code",
   "execution_count": null,
   "metadata": {
    "ExecuteTime": {
     "end_time": "2021-03-12T02:30:38.616927Z",
     "start_time": "2021-03-12T02:30:38.611172Z"
    }
   },
   "outputs": [],
   "source": [
    "dict1 = dict()\n",
    "dict1['a'] = 0\n",
    "\n",
    "# 判断某个字典是否存在某个key\n",
    "if 'a' not in dict1:\n",
    "    dict1['a'] = 1\n",
    "else:\n",
    "        print('a in exist in dict1')"
   ]
  },
  {
   "cell_type": "markdown",
   "metadata": {},
   "source": [
    "# list"
   ]
  },
  {
   "cell_type": "code",
   "execution_count": null,
   "metadata": {},
   "outputs": [],
   "source": [
    " 常用的复习\n",
    "1字符串 + *\n",
    "pre = \"py\"\n",
    "pre + \"thon\"  #'python'\n",
    "pre * 3  # pypypy\n",
    "2 list 中的 +， *\n",
    "a = [1, 2, 3]\n",
    "a + a  # [1, 2, 3, 1, 2, 3]\n",
    "a * 3  # [1, 2, 3, 1, 2, 3, 1, 2, 3]\n",
    "\n",
    " 3. len(), append(), extend(),insert(i,x), remove(x) list.pop(i)\n",
    "# list.clear(), index(x), count(x), sort(), reverse(), copy() = a[:]\n",
    "#\n"
   ]
  },
  {
   "cell_type": "markdown",
   "metadata": {},
   "source": [
    "# 元组"
   ]
  },
  {
   "cell_type": "code",
   "execution_count": null,
   "metadata": {},
   "outputs": [],
   "source": [
    "10.  元组 （）， 集合 set(),\n",
    "a0 = ('abracadabra')  # 'abracadabra'\n",
    "a = set('abracadabra')  # {'a', 'b', 'c', 'd', 'r'}\n"
   ]
  },
  {
   "cell_type": "markdown",
   "metadata": {
    "ExecuteTime": {
     "end_time": "2021-03-12T03:15:42.077411Z",
     "start_time": "2021-03-12T03:15:42.072355Z"
    }
   },
   "source": [
    "# 集合 set()"
   ]
  },
  {
   "cell_type": "code",
   "execution_count": null,
   "metadata": {},
   "outputs": [],
   "source": []
  },
  {
   "cell_type": "markdown",
   "metadata": {},
   "source": [
    "# zip ,zip(*)"
   ]
  },
  {
   "cell_type": "code",
   "execution_count": null,
   "metadata": {
    "ExecuteTime": {
     "end_time": "2021-03-12T03:16:43.007916Z",
     "start_time": "2021-03-12T03:16:42.996903Z"
    }
   },
   "outputs": [],
   "source": [
    "\"\"\"\n",
    "3 zip与zip(*)\n",
    ">>> a = [1,2,3]\n",
    ">>> b = [4,5,6]\n",
    ">>> c = [4,5,6,7,8]\n",
    ">>> zipped = zip(a,b)     # 打包为元组的列表\n",
    "[(1, 4), (2, 5), (3, 6)]\n",
    ">>> zip(a,c)              # 元素个数与最短的列表一致\n",
    "[(1, 4), (2, 5), (3, 6)]\n",
    ">>> zip(*zipped)          \n",
    "# 与 zip 相反，可理解为解压，为zip的逆过程，可用于矩阵的转置\n",
    "[(1, 2, 3), (4, 5, 6)]\n",
    "\n",
    "\"\"\"\n",
    "\n",
    "matrix = [\n",
    "    [1, 2, 3, 4],\n",
    "    [5, 6, 7, 8],\n",
    "    [9, 10, 11, 12],\n",
    "]\n",
    "\n",
    "list(zip(*matrix))  # [(1, 5, 9), (2, 6, 10), (3, 7, 11), (4, 8, 12)]\n",
    "\n",
    "a = [1, 2, 3, 4]\n",
    "b = [5, 6, 7, 8]\n",
    "\n",
    "[[i, j] for i, j in zip(a, b)]  # [[1, 5], [2, 6], [3, 7], [4, 8]]\n"
   ]
  },
  {
   "cell_type": "markdown",
   "metadata": {},
   "source": [
    "# enumerate()"
   ]
  },
  {
   "cell_type": "code",
   "execution_count": null,
   "metadata": {
    "ExecuteTime": {
     "end_time": "2021-03-12T03:19:33.630424Z",
     "start_time": "2021-03-12T03:19:33.625301Z"
    }
   },
   "outputs": [],
   "source": [
    "[[i, j] for i, j in enumerate(range(3))]  # [[0, 0], [1, 1], [2, 2]]"
   ]
  },
  {
   "cell_type": "markdown",
   "metadata": {},
   "source": [
    "# 匿名函数 lambda "
   ]
  },
  {
   "cell_type": "code",
   "execution_count": null,
   "metadata": {
    "ExecuteTime": {
     "end_time": "2021-03-12T03:18:01.996744Z",
     "start_time": "2021-03-12T03:18:01.992208Z"
    }
   },
   "outputs": [],
   "source": [
    "f = lambda a, b: a + b\n",
    "\n",
    "f(2, 3)  # 5\n",
    "\n"
   ]
  },
  {
   "cell_type": "markdown",
   "metadata": {},
   "source": [
    "# pass"
   ]
  },
  {
   "cell_type": "code",
   "execution_count": null,
   "metadata": {
    "ExecuteTime": {
     "end_time": "2021-03-12T03:18:21.624470Z",
     "start_time": "2021-03-12T03:18:21.619029Z"
    }
   },
   "outputs": [],
   "source": [
    " pass:\n",
    "\n",
    "# def f(arg): pass    # a function that does nothing (yet)\n",
    "# class C: pass       # a class with no methods (yet)\n"
   ]
  },
  {
   "cell_type": "markdown",
   "metadata": {},
   "source": [
    "# break"
   ]
  },
  {
   "cell_type": "code",
   "execution_count": null,
   "metadata": {},
   "outputs": [],
   "source": [
    " break 循环终止  continue: 结束本次循环，开始下一次"
   ]
  },
  {
   "cell_type": "markdown",
   "metadata": {},
   "source": []
  },
  {
   "cell_type": "markdown",
   "metadata": {},
   "source": [
    "# 生成不连续对称区间的值# "
   ]
  },
  {
   "cell_type": "code",
   "execution_count": null,
   "metadata": {
    "ExecuteTime": {
     "end_time": "2021-03-12T02:32:03.146101Z",
     "start_time": "2021-03-12T02:32:03.135515Z"
    }
   },
   "outputs": [],
   "source": [
    "def ini_x_(n=100,p=1000,k=20,seed=22):\n",
    "    # 生成Z， W\n",
    "    np.random.seed(seed)\n",
    "    Z = np.random.randn(n, k)\n",
    "    W = np.random.randn(n, p)\n",
    "    E = 0.5 * np.random.randn(n, p) # 误差\n",
    "    # 生成[0.5, 1.5]的均匀分布\n",
    "    A = np.random.uniform(0.5, 1.5, (k,p))\n",
    "    # 生成{0,1}随机均匀分布\n",
    "    A1 = np.random.randint(0,2,(k,p))\n",
    "    # A1==0的索引对应的A==-A\n",
    "    for i,j in zip(np.where(A1==0)[0],np.where(A1==0)[1]):\n",
    "        A[i,j] = - A[i,j] \n",
    "\n",
    "    # 生成b\n",
    "    b = np.sqrt(k) * np.random.uniform(0.5, 1.5, (p,))\n",
    "    # 生成{0,1}随机均匀分布\n",
    "    b1 = np.random.randint(0,2,(p,))\n",
    "    # b1==0的索引对应的b == -sqrt(k) * b\n",
    "    for i in np.where(b1==0)[0]:\n",
    "        b[i] = -1 * b[i] \n",
    "    \n",
    "    return np.dot(Z,A) + W * b + E , b"
   ]
  },
  {
   "cell_type": "markdown",
   "metadata": {},
   "source": [
    "# # np.linalg.norm与sum.sum(), A.sum()三者是等价的"
   ]
  },
  {
   "cell_type": "code",
   "execution_count": null,
   "metadata": {
    "ExecuteTime": {
     "end_time": "2021-03-12T02:32:27.946649Z",
     "start_time": "2021-03-12T02:32:27.937356Z"
    }
   },
   "outputs": [],
   "source": [
    "A = np.random.randint(0,100, (2,3))\n",
    "A, np.linalg.norm(A)**2,sum(sum(A**2)), (A**2).sum()"
   ]
  },
  {
   "cell_type": "markdown",
   "metadata": {},
   "source": [
    "#  objVals = np.zeros((20,1)), np.zeros(20)的·区别"
   ]
  },
  {
   "cell_type": "code",
   "execution_count": null,
   "metadata": {
    "ExecuteTime": {
     "end_time": "2021-03-12T02:32:53.163951Z",
     "start_time": "2021-03-12T02:32:53.154908Z"
    }
   },
   "outputs": [],
   "source": [
    "objVals1 = np.zeros((20,1))\n",
    "objVals2 = np.zeros((20,))\n",
    "objVals3 = np.zeros(20)\n",
    "objVals1[0:20], objVals2[0:20], objVals3[0:20] "
   ]
  },
  {
   "cell_type": "markdown",
   "metadata": {
    "ExecuteTime": {
     "end_time": "2021-03-12T02:33:07.879135Z",
     "start_time": "2021-03-12T02:33:07.876208Z"
    }
   },
   "source": [
    "# 精确度(Precision)、召回率(Recall)和F1_Score\n",
    "\n",
    "在衡量模型性能好坏时，我们经常用到精确度、召回率和F1评分。\n",
    "\n",
    "![](https://img-blog.csdn.net/20180906110246947?watermark/2/text/aHR0cHM6Ly9ibG9nLmNzZG4ubmV0L3lfeGlhbnNoZW5n/font/5a6L5L2T/fontsize/400/fill/I0JBQkFCMA==/dissolve/70)\n",
    "如上表格所示，模型的最终预测结果可分为上述四类情况，假设我们现在是要预测队伍里的男生女生人数，男生为正例，女生为负例，则：\n",
    "\n",
    "1. True Positive：正确的正例，即男生被正确分为男生\n",
    "2. False Positive：错误的正例，即女生被错误分为男生\n",
    "3. False Negative：错误的负例，即男生被错误分为女生\n",
    "4. True Negative：正确的负例，即女生被正确分为女生\n",
    "\n",
    "我们可以这样记忆，前面为True的就代表分类正确，False的就代表分类错误；后边是Positive的就是正例，后边是Negative的就是负例。\n",
    "\n",
    "下面是精确度(Precision)、召回率(Recall)和F1_Score的公式：\n",
    "\n",
    "![image.png](https://img-blog.csdn.net/20180906111249373?watermark/2/text/aHR0cHM6Ly9ibG9nLmNzZG4ubmV0L3lfeGlhbnNoZW5n/font/5a6L5L2T/fontsize/400/fill/I0JBQkFCMA==/dissolve/70)\n",
    "\n",
    "由此我们可以得到以下规律：\n",
    "假设模型分类取得了正例和负例的分类结果，那么Precision就是模型所得分类结果中，真正的正例与分类所得正例的比值，也可叫作查准率；Recall就是模型所得分类结果中，真正的正例与数据中实际真正正例的比值，也可叫做查全率；\n",
    "在对模型进行评估的过程中，仅用精确度或者召回率去评估模型是无法全面评估模型优劣的，所以人们将精确度和召回率结合起来，得到了F1评分作为模型的实际评分准则，在多分类问题中，F1是精确度和召回率的调和平均：\n",
    "\n",
    "![](https://img-blog.csdn.net/20180906112328707?watermark/2/text/aHR0cHM6Ly9ibG9nLmNzZG4ubmV0L3lfeGlhbnNoZW5n/font/5a6L5L2T/fontsize/400/fill/I0JBQkFCMA==/dissolve/70)\n",
    "\n",
    "最后提一下所谓的准确率(Accuracy)，准确率就是分类任务中全部分类正确(不论正例负例)的总数与全体总数的比值，Accuracy = (TP + TN )/( TP + FP + TN + FN)。"
   ]
  },
  {
   "cell_type": "markdown",
   "metadata": {},
   "source": [
    "#  $l_{1,2}范数计算$"
   ]
  },
  {
   "cell_type": "code",
   "execution_count": null,
   "metadata": {
    "ExecuteTime": {
     "end_time": "2021-03-12T02:34:23.502017Z",
     "start_time": "2021-03-12T02:34:23.483477Z"
    }
   },
   "outputs": [],
   "source": [
    "np.random.seed(22)\n",
    "data2 = np.random.randn(3,4)\n",
    "data3 = np.random.randn(4,1)\n",
    "print(\"data2:\\n\",data2)\n",
    "print(\"\\n\")\n",
    "print(\"np.abs(data2).sum():\\n\", np.abs(data2).sum())\n",
    "print(\"\\n\")\n",
    "# l1范数是矩阵的时候，表示列和的最大值。表示向量的时候相等\n",
    "print(\"np.linalg.norm(data2, ord=1):\\n\", np.linalg.norm(data2, ord=1))\n",
    "\n",
    "# 向量时两个相等\n",
    "\n",
    "np.abs(data3).sum() # 3.4545447620055505\n",
    "np.linalg.norm(data3, ord=1)  # 3.4545447620055505\n"
   ]
  },
  {
   "cell_type": "markdown",
   "metadata": {},
   "source": [
    "#  $L_2,L_1$范数"
   ]
  },
  {
   "cell_type": "code",
   "execution_count": null,
   "metadata": {
    "ExecuteTime": {
     "end_time": "2021-03-16T07:32:59.380380Z",
     "start_time": "2021-03-16T07:32:59.373356Z"
    }
   },
   "outputs": [],
   "source": [
    "import numpy as np\n",
    "a = np.array([[complex(1,-1),3], [2,complex(1,1)]])\n",
    "print(a)\n",
    "print(\"矩阵2的范数\")\n",
    "print(np.linalg.norm(a, ord=2))   #计算矩阵2的范数\n",
    "print(\"矩阵1的范数\")\n",
    "#计算矩阵1的范数\n",
    "print(np.linalg.norm(a,ord=1) )\n",
    "print(\"矩阵无穷的范数\")\n",
    "print(np.linalg.norm(a,ord=np.inf) )\n"
   ]
  },
  {
   "cell_type": "markdown",
   "metadata": {},
   "source": [
    "# $L_{F}$范数"
   ]
  },
  {
   "cell_type": "code",
   "execution_count": null,
   "metadata": {
    "ExecuteTime": {
     "end_time": "2021-03-16T07:34:18.377018Z",
     "start_time": "2021-03-16T07:34:18.367657Z"
    }
   },
   "outputs": [],
   "source": [
    "# np.random.seed(222)\n",
    "a = np.random.rand(4,4)\n",
    "print(a)\n",
    "\n",
    "print(\"****\"*15)\n",
    "print(a**2)\n",
    "\n",
    "print(\"****\"*15)\n",
    "print(a*a)\n",
    "\n",
    "print(\"****\"*15)\n",
    "print(a[0,0]*a[0,0])\n",
    "\n",
    "print(\"****\"*15)\n",
    "print(\"a*a表示对应元素乘法，也是f范数的平方\")\n",
    "print(np.sqrt(sum(sum(a*a))))\n",
    "\n",
    "\n",
    "print(\"****\"*15)\n",
    "print(\"f范数的平方\")\n",
    "print(np.linalg.norm(a))\n",
    "print(np.linalg.norm(a, ord = 'fro'))"
   ]
  },
  {
   "cell_type": "markdown",
   "metadata": {},
   "source": [
    "# 核范数"
   ]
  },
  {
   "cell_type": "code",
   "execution_count": null,
   "metadata": {
    "ExecuteTime": {
     "end_time": "2021-03-16T07:37:37.158235Z",
     "start_time": "2021-03-16T07:37:37.144529Z"
    }
   },
   "outputs": [],
   "source": [
    "b = np.random.rand(2,3)\n",
    "print(b)\n",
    "print(\"*****\"*15)\n",
    "print(\"核范数：\")\n",
    "print(np.linalg.norm(b, ord='nuc'))\n",
    "print(sum(np.abs(b)))"
   ]
  },
  {
   "cell_type": "markdown",
   "metadata": {},
   "source": [
    "# 矩阵f范数和直接求和的区别"
   ]
  },
  {
   "cell_type": "markdown",
   "metadata": {},
   "source": [
    "![](https://img-blog.csdnimg.cn/2020112121564050.png?x-oss-process=image/watermark,type_ZmFuZ3poZW5naGVpdGk,shadow_10,text_aHR0cHM6Ly9ibG9nLmNzZG4ubmV0L3dlaXhpbl80Mzk3NzY0MA==,size_16,color_FFFFFF,t_70#pic_center)"
   ]
  },
  {
   "cell_type": "code",
   "execution_count": null,
   "metadata": {
    "ExecuteTime": {
     "end_time": "2021-03-12T02:37:42.369907Z",
     "start_time": "2021-03-12T02:37:42.359180Z"
    }
   },
   "outputs": [],
   "source": [
    "np.random.seed(22)\n",
    "data2 = np.random.randn(3,4)\n",
    "data3 = np.random.randn(4,1)\n",
    "print(\"data2:\\n\",data2)\n",
    "print(\"\\n\")\n",
    "print(\"np.abs(data2).sum():\\n\", np.abs(data2).sum())\n",
    "print(\"\\n\")\n",
    "# l1范数是矩阵的时候，表示列和的最大值。表示向量的时候相等\n",
    "print(\"np.linalg.norm(data2, ord=1):\\n\", np.linalg.norm(data2, ord=1))\n",
    "\n",
    "# 向量时两个相等\n",
    "\n",
    "np.abs(data3).sum() # 3.4545447620055505\n",
    "np.linalg.norm(data3, ord=1)  # 3.4545447620055505\n"
   ]
  },
  {
   "cell_type": "markdown",
   "metadata": {},
   "source": [
    "# 求和的区别"
   ]
  },
  {
   "cell_type": "code",
   "execution_count": null,
   "metadata": {
    "ExecuteTime": {
     "end_time": "2021-03-12T02:37:07.591222Z",
     "start_time": "2021-03-12T02:37:07.585778Z"
    }
   },
   "outputs": [],
   "source": [
    "import numpy as np\n",
    "np.random.seed(2)\n",
    "d = np.random.rand(2,3)\n",
    "sum(d)  # 列和  行向量等于列向量\n",
    "d.sum()  # 所有元素之和 与sum(sum(d))等价\n",
    "\n",
    "e = np.random.rand(1,3)\n",
    "np.sum(e)   # 总和\n",
    "np.sum(e,axis=0)  # 列和\n",
    "np.sum(e, axis=1) # 行和\n",
    "\n",
    "# lambda1*sum(sqrt(sum(A.^2,1)))\n",
    "dd = np.ones((20,2))\n",
    "lambda1 = 1\n",
    "# lambda1*np.sum(np.sqrt(np.sum(dd**2,axis=0)))   # 耗时5ms\n",
    "# lambda1*sum(np.sqrt(sum(dd**2)));               # 耗时6ms\n",
    "# lambda1*(np.sqrt(np.sum(dd**2,axis=0))).sum()  # 耗时5ms\n"
   ]
  },
  {
   "cell_type": "markdown",
   "metadata": {},
   "source": [
    "# sum"
   ]
  },
  {
   "cell_type": "code",
   "execution_count": null,
   "metadata": {
    "ExecuteTime": {
     "end_time": "2021-03-16T08:06:28.095475Z",
     "start_time": "2021-03-16T08:06:28.079258Z"
    }
   },
   "outputs": [],
   "source": [
    "\n",
    "np.random.seed(222)\n",
    "c = np.random.randint(1,3,size=(2,3))\n",
    "print(c)\n",
    "print(sum(c))\n",
    "print(np.sum(c, axis= 0))\n",
    "print(np.sum(c, axis=1))\n",
    "# 列和大于0的个数\n",
    "print(sum(sum(c)>0))"
   ]
  },
  {
   "cell_type": "markdown",
   "metadata": {},
   "source": [
    "\n",
    "\n",
    "#  Python和matlab的对应\n",
    "\n",
    "[matlab和python对应函数](https://blog.csdn.net/panghaomingme/article/details/70308290)"
   ]
  },
  {
   "cell_type": "markdown",
   "metadata": {},
   "source": [
    "# Python中的if __name__ == '__main__'\n",
    "\n",
    "https://blog.csdn.net/qq_33254870/article/details/81668297"
   ]
  },
  {
   "cell_type": "code",
   "execution_count": null,
   "metadata": {
    "ExecuteTime": {
     "end_time": "2021-03-12T02:49:18.080128Z",
     "start_time": "2021-03-12T02:49:18.074285Z"
    }
   },
   "outputs": [],
   "source": [
    "\"\"\"\n",
    "Python中的if __name__ == '__main__'  : \n",
    "写一个函数1的时候，在另一个函数2调用函数1时，只运行函数1的函数块，\n",
    "不运行函数1中”测试块“，把测试块写在if __name__ == '__main__'  :之后\n",
    "\n",
    "\"\"\"\n",
    "\n",
    "# const.py\n",
    " \n",
    "PI = 3.14\n",
    " \n",
    "def train():\n",
    "    print(\"PI:\", PI)\n",
    "train()"
   ]
  },
  {
   "cell_type": "code",
   "execution_count": null,
   "metadata": {
    "ExecuteTime": {
     "end_time": "2021-03-12T02:49:29.670788Z",
     "start_time": "2021-03-12T02:49:29.653025Z"
    }
   },
   "outputs": [],
   "source": [
    "def l2_pro_mex(Aplus, u,n):\n",
    "    a = np.linalg.norm(Aplus, ord=n)\n",
    "    Anew = Aplus * np.maximum(0, a-u)/a\n",
    "    return Anew\n",
    "if __name__ == '__main__':\n",
    "    Aplus = np.random.rand(20,200)\n",
    "    u = 0.1*np.ones((1,200))\n",
    "    n = 2\n",
    "    Anew = l2_pro_mex(Aplus, u,n)\n",
    "    print(Anew)"
   ]
  },
  {
   "cell_type": "code",
   "execution_count": null,
   "metadata": {
    "ExecuteTime": {
     "end_time": "2021-03-12T02:49:49.171946Z",
     "start_time": "2021-03-12T02:49:49.165084Z"
    }
   },
   "outputs": [],
   "source": [
    "np.array([[2,3,4],[2,3,4]]) * np.array([2,3,4])"
   ]
  },
  {
   "cell_type": "markdown",
   "metadata": {
    "ExecuteTime": {
     "end_time": "2021-03-12T02:50:08.685506Z",
     "start_time": "2021-03-12T02:50:08.471648Z"
    }
   },
   "source": [
    "#  jupyter显示所有不同行输出变量"
   ]
  },
  {
   "cell_type": "code",
   "execution_count": null,
   "metadata": {
    "ExecuteTime": {
     "end_time": "2021-03-12T02:51:34.379351Z",
     "start_time": "2021-03-12T02:51:34.374107Z"
    }
   },
   "outputs": [],
   "source": [
    "# jupyter notebook/lab 默认输出只显示最后一行的变量\n",
    "# 在文件的最上方添加：\n",
    "\n",
    "from IPython.core.interactiveshell import InteractiveShell\n",
    "InteractiveShell.ast_node_interactivity = \"all\" \n",
    "\n",
    "\"\"\"\n",
    "1. jupyter notebook/lab 默认输出只显示最后一行的变量，怎么显示所有的输出\n",
    "在文件的最上方添加：\n",
    "\n",
    "from IPython.core.interactiveshell import InteractiveShell\n",
    "InteractiveShell.ast_node_interactivity = \"none\" \n",
    "\n",
    "\n",
    "2.问题\n",
    "Jupyter Notebook 默认状态下不会在代码左端显示行号，这就导致我们遇到报错时，无法正常调试。\n",
    "解决：\n",
    "点击View–>点击Toggle Line Numbers\n",
    "就完成啦。\n",
    "\n",
    "3. 问题：\n",
    "jupyter原始界面亮瞎狗眼\n",
    "解决：\n",
    "更换主题颜色\n",
    "使用 pip 命令安装 jupyterthemes：\n",
    "\n",
    "pip install jupyterthemes\n",
    "\n",
    "pip install --upgrade jupyterthem\n",
    "\n",
    "\n",
    "jt -l                     L命令可以list当前已经安装的主题\n",
    "jt -t grade3   -t命令是应用这个主题\n",
    "jt -r，即可恢复至原来的白色背景\n",
    "\n",
    "\n",
    "\"\"\"\n"
   ]
  },
  {
   "cell_type": "code",
   "execution_count": null,
   "metadata": {
    "ExecuteTime": {
     "end_time": "2021-03-12T02:51:46.397475Z",
     "start_time": "2021-03-12T02:51:46.390677Z"
    }
   },
   "outputs": [],
   "source": [
    "a = 2\n",
    "a\n",
    "c = 3\n",
    "c"
   ]
  },
  {
   "cell_type": "code",
   "execution_count": null,
   "metadata": {
    "ExecuteTime": {
     "end_time": "2021-03-12T02:51:57.425458Z",
     "start_time": "2021-03-12T02:51:57.417919Z"
    }
   },
   "outputs": [],
   "source": [
    "# https://blog.csdn.net/luzhan66/article/details/82822896\n",
    "\n",
    "# Python中__init__的用法和理解\n",
    "\n",
    "#!/usr/bin/python\n",
    "# -*- coding utf-8 -*-\n",
    "#Created by Lu Zhan\n",
    " \n",
    "class Box:\n",
    "    def setDimension(self, width, height, depth):\n",
    "        self.width = width\n",
    "        self.height = height\n",
    "        self.depth = depth\n",
    " \n",
    "    def getVolume(self):\n",
    "        return self.width * self.height * self.depth\n",
    "    \n",
    "    \n",
    "    def getUse(self):\n",
    "        return  self.depth\n",
    "    \n",
    "if __name__ == \"__main__\":\n",
    "    b = Box()\n",
    "    b.setDimension(10, 20, 30)\n",
    "    print(b.getVolume())\n",
    "    print(b.getUse())"
   ]
  },
  {
   "cell_type": "markdown",
   "metadata": {},
   "source": [
    "# __init__()"
   ]
  },
  {
   "cell_type": "code",
   "execution_count": null,
   "metadata": {
    "ExecuteTime": {
     "end_time": "2021-03-12T02:52:13.588298Z",
     "start_time": "2021-03-12T02:52:13.579997Z"
    }
   },
   "outputs": [],
   "source": [
    "\"\"\"\n",
    "我们在Box类中定义了setDimension方法去设定该Box的属性，这样过于繁琐，\n",
    "而用__init__（）这个特殊的方法就可以方便地自己对类的属性进行定义，__init__()方法又被称为构造器（constructor）。\n",
    "\"\"\"\n",
    "\n",
    "#!/usr/bin/python\n",
    "# -*- coding utf-8 -*-\n",
    "#Created by Lu Zhan\n",
    " \n",
    "class Box:\n",
    "    #def setDimension(self, width, height, depth):\n",
    "    #   self.width = width\n",
    "    #   self.height = height\n",
    "    #   self.depth = depth\n",
    "    def __init__(self, width, height, depth):\n",
    "        self.width = width\n",
    "        self.height = height\n",
    "        self.depth = depth\n",
    " \n",
    "    def getVolume(self):\n",
    "        return self.width * self.height * self.depth\n",
    "if __name__ == \"__main__\":\n",
    "    b = Box(10, 20, 30)\n",
    "    print(b.getVolume())\n"
   ]
  },
  {
   "cell_type": "markdown",
   "metadata": {},
   "source": [
    "# 类中调用该类的函数"
   ]
  },
  {
   "cell_type": "code",
   "execution_count": null,
   "metadata": {
    "ExecuteTime": {
     "end_time": "2021-03-12T02:53:02.563617Z",
     "start_time": "2021-03-12T02:53:02.555976Z"
    }
   },
   "outputs": [],
   "source": [
    "# \n",
    "\n",
    "__metaclass__ = type\n",
    "\n",
    "\n",
    "class Stu:\n",
    "    name = None\n",
    "    age = None\n",
    "    school = \"华南理工大学\"  #类变量，被所有学生实例共有\n",
    "\n",
    "    def __init__(self, name, age):\n",
    "        self.name = name\n",
    "        self.age = age\n",
    "\n",
    "    def printName_Age(self):\n",
    "        print(\"我叫\" + self.name + \",\" + \"今年\" + str(self.age) + \"岁。\")\n",
    "\n",
    "    def printSchool(self):\n",
    "        print(\"来自\", Stu.school)\n",
    "\n",
    "    def printTotal(self):\n",
    "        print(\"类中方法调用类中的其他方法\")\n",
    "        #方法一：\n",
    "\n",
    "\n",
    "#         Stu.printName_Age(self)\n",
    "#         Stu.printSchool(self)\n",
    "#         #方法二：\n",
    "#         self.printName_Age()\n",
    "#         self.printSchool()"
   ]
  },
  {
   "cell_type": "markdown",
   "metadata": {},
   "source": [
    "# 使用类实现函数的功能"
   ]
  },
  {
   "cell_type": "code",
   "execution_count": null,
   "metadata": {
    "ExecuteTime": {
     "end_time": "2021-03-12T02:53:32.398841Z",
     "start_time": "2021-03-12T02:53:32.392376Z"
    }
   },
   "outputs": [],
   "source": [
    "class Hybrid:\n",
    "    def __init__(self, color=10):\n",
    "        self.color = color\n",
    "\n",
    "    def col(self):\n",
    "        return self.color**2\n",
    "\n",
    "\n",
    "if __name__ == \"__main__\":\n",
    "    D = Hybrid()\n",
    "    print(D.col())"
   ]
  },
  {
   "cell_type": "markdown",
   "metadata": {},
   "source": [
    "# python中函数接收多个参数"
   ]
  },
  {
   "cell_type": "code",
   "execution_count": null,
   "metadata": {
    "ExecuteTime": {
     "end_time": "2021-03-12T02:54:30.908543Z",
     "start_time": "2021-03-12T02:54:30.901971Z"
    }
   },
   "outputs": [],
   "source": [
    "\"\"\"\n",
    "引入*args把多余的参数放入到元组中\n",
    "\n",
    "https://www.cnblogs.com/hujianping/p/4726354.html\n",
    "\n",
    "\"\"\"  \n",
    "def fun(x, *args, **kw):\n",
    "    print(kw)\n",
    "    print(args)\n",
    "    return x\n",
    "    \n",
    "print(fun(10,20,y=2,s=3))"
   ]
  },
  {
   "cell_type": "markdown",
   "metadata": {},
   "source": [
    "# 9. 将两个数组合并成一个数组，多维数组变成一维数组"
   ]
  },
  {
   "cell_type": "code",
   "execution_count": null,
   "metadata": {
    "ExecuteTime": {
     "end_time": "2021-03-12T02:57:32.619036Z",
     "start_time": "2021-03-12T02:57:32.604920Z"
    }
   },
   "outputs": [],
   "source": [
    " \"\"\"\n",
    " 1. extend()\n",
    " \n",
    " 2. 直接相加\n",
    " \n",
    " 3. flatten()\n",
    " \n",
    " \"\"\"\n",
    "    \n",
    "c1 = [\"Red\",\"Green\",\"Blue\"]\n",
    "c2 = [\"Orange\",\"Yellow\",\"Indigo\"]\n",
    "c1.extend(c2)\n",
    "c1 == [\"Red\",\"Green\",\"Blue\",\"Orange\",\"Yellow\",\"Indigo\"]\n",
    "\n",
    "\n",
    "c1 = [\"Red\",\"Green\",\"Blue\"]\n",
    "c2 = [\"Orange\",\"Yellow\",\"Indigo\"]\n",
    "c3 = c1 + c2\n",
    "c3 == [\"Red\",\"Green\",\"Blue\",\"Orange\",\"Yellow\",\"Indigo\"]\n",
    "\n",
    "\n",
    "a = [[1,3],[2,4],[3,5]]\n",
    "a = np.array(a)\n",
    "a.flatten()\n",
    "\n"
   ]
  },
  {
   "cell_type": "markdown",
   "metadata": {},
   "source": [
    "# # 1. 格式化输出和format()\n",
    "\n",
    "[Python格式化输出 %s %d %f](https://blog.csdn.net/weixin_40583388/article/details/78600101?utm_medium=distribute.pc_relevant.none-task-blog-BlogCommendFromMachineLearnPai2-1.control&depth_1-utm_source=distribute.pc_relevant.none-task-blog-BlogCommendFromMachineLearnPai2-1.control)"
   ]
  },
  {
   "cell_type": "code",
   "execution_count": null,
   "metadata": {
    "ExecuteTime": {
     "end_time": "2021-03-12T02:58:56.391271Z",
     "start_time": "2021-03-12T02:58:56.387878Z"
    }
   },
   "outputs": [],
   "source": [
    "print('you are my family --%s, and %d'%('brother', 21))\n",
    "\n",
    "print('low-rank/sparse = %.2f/%.2f\\n' % (24, 34))"
   ]
  },
  {
   "cell_type": "markdown",
   "metadata": {},
   "source": [
    "# 文件所在位置\n"
   ]
  },
  {
   "cell_type": "code",
   "execution_count": null,
   "metadata": {
    "ExecuteTime": {
     "end_time": "2021-03-12T02:59:33.508409Z",
     "start_time": "2021-03-12T02:59:33.501686Z"
    }
   },
   "outputs": [],
   "source": [
    "import sys\n",
    "c = sys.executable\n",
    "print(type(c)),c"
   ]
  },
  {
   "cell_type": "markdown",
   "metadata": {},
   "source": [
    "# 函数有多个输出，只选择一个"
   ]
  },
  {
   "cell_type": "code",
   "execution_count": null,
   "metadata": {
    "ExecuteTime": {
     "end_time": "2021-03-12T02:59:51.467722Z",
     "start_time": "2021-03-12T02:59:51.462277Z"
    }
   },
   "outputs": [],
   "source": [
    "# 函数有多个输出，只选择一个\n",
    "def aa(x, y, a, s):\n",
    "    return x, y, a, s\n",
    "\n",
    "\n",
    "y = aa(1, 2, 3, 4)[1]\n",
    "print(y)"
   ]
  },
  {
   "cell_type": "code",
   "execution_count": null,
   "metadata": {
    "ExecuteTime": {
     "end_time": "2021-03-12T03:00:58.169285Z",
     "start_time": "2021-03-12T03:00:58.162495Z"
    }
   },
   "outputs": [],
   "source": [
    "a = np.arange(-10,10).reshape(4,5)\n",
    "c = np.abs(a)\n",
    "print(\"最小值为：{},对应的最小值的坐标为：{}\".format(np.min(c), np.argmin(c)))"
   ]
  },
  {
   "cell_type": "code",
   "execution_count": null,
   "metadata": {
    "ExecuteTime": {
     "end_time": "2021-03-12T03:01:08.453273Z",
     "start_time": "2021-03-12T03:01:08.447334Z"
    }
   },
   "outputs": [],
   "source": [
    "np.where(c==np.min(c))"
   ]
  },
  {
   "cell_type": "code",
   "execution_count": null,
   "metadata": {
    "ExecuteTime": {
     "end_time": "2021-03-12T03:01:18.694676Z",
     "start_time": "2021-03-12T03:01:18.690309Z"
    }
   },
   "outputs": [],
   "source": [
    "print('Gamma = %g: Dens of A = %.1f%%, Dens of b = %.1f%%, Overlap = %.1f%%, Coverage = %.1f%%\\n'\\\n",
    "                %(1,2,2,4,5))"
   ]
  },
  {
   "cell_type": "markdown",
   "metadata": {},
   "source": [
    "# seed可以作为参数吗："
   ]
  },
  {
   "cell_type": "code",
   "execution_count": null,
   "metadata": {
    "ExecuteTime": {
     "end_time": "2021-03-12T03:10:37.439742Z",
     "start_time": "2021-03-12T03:10:37.432583Z"
    }
   },
   "outputs": [],
   "source": [
    "def fun3(x,c,seed):\n",
    "    print(\"x:\",x, \"c:\", c, \"seed:\",seed)\n",
    "fun3(2,1,1)\n"
   ]
  },
  {
   "cell_type": "markdown",
   "metadata": {},
   "source": [
    "# dir"
   ]
  },
  {
   "cell_type": "code",
   "execution_count": null,
   "metadata": {
    "ExecuteTime": {
     "end_time": "2021-03-21T08:10:42.993664Z",
     "start_time": "2021-03-21T08:10:42.990983Z"
    }
   },
   "outputs": [],
   "source": [
    " dir()\n",
    "\n",
    "import numpy as np\n",
    "#dir(np)\n"
   ]
  },
  {
   "cell_type": "markdown",
   "metadata": {},
   "source": [
    "# 在Jupyter Notebook终止cell（代码块）而非终止（重启）整个Jupyter"
   ]
  },
  {
   "cell_type": "markdown",
   "metadata": {
    "ExecuteTime": {
     "end_time": "2021-03-12T03:24:00.294655Z",
     "start_time": "2021-03-12T03:24:00.289905Z"
    }
   },
   "source": [
    "当IPython的某个cell陷入死循环或长时间没有响应，想终止当前cell，但不想重启Kernel，可以这样做：\n",
    "\n",
    "（1）在工具栏，点击Kernel（内核）子菜单中的Interrupt（中断）。\n",
    "\n",
    "（2）在想终止的cell，按ESC键，让其脱离编辑状态，在命令状态中，连续按两次“I”键（interrupt的首字母）（简单：推荐）\n",
    "\n"
   ]
  },
  {
   "cell_type": "markdown",
   "metadata": {},
   "source": [
    "# str.join(sequence)"
   ]
  },
  {
   "cell_type": "markdown",
   "metadata": {
    "ExecuteTime": {
     "end_time": "2021-03-21T01:35:24.478623Z",
     "start_time": "2021-03-21T01:35:24.470175Z"
    }
   },
   "source": [
    "参数\n",
    "\n",
    "sequence -- 要连接的元素序列。\n",
    "\n",
    "返回值\n",
    "\n",
    "返回通过指定字符连接序列中元素后生成的新字符串。\n",
    "\n",
    "实例\n",
    "\n",
    "以下实例展示了join()的使用方法："
   ]
  },
  {
   "cell_type": "code",
   "execution_count": null,
   "metadata": {
    "ExecuteTime": {
     "end_time": "2021-03-21T01:35:56.848638Z",
     "start_time": "2021-03-21T01:35:56.838130Z"
    }
   },
   "outputs": [],
   "source": [
    "#!/usr/bin/python\n",
    "# -*- coding: UTF-8 -*-\n",
    " \n",
    "str = \"-\";\n",
    "seq = (\"a\", \"b\", \"c\"); # 字符串序列\n",
    "str.join( seq )\n"
   ]
  },
  {
   "cell_type": "markdown",
   "metadata": {},
   "source": [
    "# set(), list.count(\"abc\") "
   ]
  },
  {
   "cell_type": "code",
   "execution_count": null,
   "metadata": {
    "ExecuteTime": {
     "end_time": "2021-03-26T01:20:41.557008Z",
     "start_time": "2021-03-26T01:20:41.549976Z"
    }
   },
   "outputs": [],
   "source": [
    "# 找list是否可以排列为回文为回文\n",
    "class Solution:\n",
    "    def canPermutePalindrome(self, s):\n",
    "        s_len = {}  # 统计每个字符的长度\n",
    "        for i in set(s):\n",
    "            s_len[i] = s.count(i)\n",
    "        not_even = [i % 2 for i in s_len.values()] #统计每一个字符出现奇数次还是偶数次 \n",
    "        if sum(not_even) == 1:\n",
    "            return True\n",
    "        else:\n",
    "            return False\n",
    "        \n",
    "        \n",
    "if __name__ == \"__main__\":\n",
    "    s = 'aa'\n",
    "    boo = Solution().canPermutePalindrome(s)\n",
    "    print(boo)"
   ]
  },
  {
   "cell_type": "markdown",
   "metadata": {},
   "source": [
    "# dict.get(key, default=None)"
   ]
  },
  {
   "cell_type": "code",
   "execution_count": null,
   "metadata": {
    "ExecuteTime": {
     "end_time": "2021-03-26T01:22:21.195974Z",
     "start_time": "2021-03-26T01:22:21.190213Z"
    }
   },
   "outputs": [],
   "source": [
    "\"\"\"\n",
    "Python 字典(Dictionary) get()方法\n",
    "描述\n",
    "Python 字典(Dictionary) get() 函数返回指定键的值。\n",
    "\n",
    "语法\n",
    "get()方法语法：\n",
    "\n",
    "dict.get(key, default=None)\n",
    "\n",
    "参数\n",
    "key -- 字典中要查找的键。\n",
    "default -- 如果指定键的值不存在时，返回该默认值。\n",
    "返回值\n",
    "返回指定键的值，如果键不在字典中返回默认值 None 或者设置的默认值。\n",
    "\n",
    "\n",
    "\"\"\"\n",
    "class Solution:\n",
    "    def canPermutePalindrome(self, s: str) -> bool:\n",
    "        dic = {}\n",
    "        for i in s:\n",
    "            dic[i] = dic.get(i,0)+1\n",
    "        count = 0\n",
    "        for i in dic.values():\n",
    "            if i%2==1:\n",
    "                count+=1\n",
    "        return count<2\n",
    "\n",
    "    \n"
   ]
  },
  {
   "cell_type": "markdown",
   "metadata": {},
   "source": [
    "# from collections import defaultdict"
   ]
  },
  {
   "cell_type": "code",
   "execution_count": null,
   "metadata": {
    "ExecuteTime": {
     "end_time": "2021-03-26T01:30:56.682630Z",
     "start_time": "2021-03-26T01:30:56.670977Z"
    }
   },
   "outputs": [],
   "source": [
    "\n",
    "\n",
    "\"\"\"\n",
    "defaultdict()\n",
    "\n",
    "defaultdict接受一个工厂函数作为参数，如下来构造：\n",
    "\n",
    "dict =defaultdict( factory_function)\n",
    "这个factory_function可以是list、set、str等等，作用是当key不存在时，返回的是工厂函数的默认值，比如list对应[ ]，str对应的是空字符串，set对应set( )，int对应0，如下举例：\n",
    "\n",
    "\"\"\"\n",
    "from collections import defaultdict\n",
    "\n",
    "dict1 = defaultdict(int)\n",
    "dict2 = defaultdict(set)\n",
    "dict3 = defaultdict(str)\n",
    "dict4 = defaultdict(list)\n",
    "dict1[2] ='two'\n",
    "\n",
    "print(dict1[1])\n",
    "print(dict2[1])\n",
    "print(dict3[1])\n",
    "print(dict4[1])\n",
    "\n",
    "\n",
    "\n",
    " \n",
    "from collections import defaultdict\n",
    "dict1 = defaultdict(list)\n",
    "dict1['name']\n",
    "\n",
    "\n"
   ]
  },
  {
   "cell_type": "markdown",
   "metadata": {},
   "source": [
    "# from collections import Counter"
   ]
  },
  {
   "cell_type": "code",
   "execution_count": null,
   "metadata": {
    "ExecuteTime": {
     "end_time": "2021-03-26T01:36:29.999289Z",
     "start_time": "2021-03-26T01:36:29.995143Z"
    }
   },
   "outputs": [],
   "source": [
    "\"\"\"\n",
    "Python collections.Counter(s)\n",
    "\n",
    "统计字符串s中各个字符的个数\n",
    "\n",
    "s = \"loveleetcode\"\n",
    "# build hash map : character and how often it appears\n",
    "count = collections.Counter(s)\n",
    "\n",
    "\"\"\"\n",
    "# 解题思路\n",
    "# 使用Counter统计出各个字符出现次数\n",
    "# 字符次数中的奇数为2个以下时为回文排列\n",
    "\n",
    "# 代码\n",
    "\n",
    "class Solution:\n",
    "    def canPermutePalindrome(self, s: str) -> bool:\n",
    "            odd = 0\n",
    "            for x,i in Counter(s).items():\n",
    "                if i % 2:\n",
    "                    odd += 1\n",
    "            return odd < 2"
   ]
  },
  {
   "cell_type": "code",
   "execution_count": null,
   "metadata": {
    "ExecuteTime": {
     "end_time": "2021-03-26T01:54:06.527175Z",
     "start_time": "2021-03-26T01:54:06.521855Z"
    }
   },
   "outputs": [],
   "source": [
    "import collections\n",
    "\n",
    "# 统计字符串s中各个字符的个数\n",
    "\n",
    "s = \"loveleetcode\"\n",
    "# build hash map : character and how often it appears\n",
    "count = collections.Counter(s)\n",
    "count"
   ]
  },
  {
   "cell_type": "markdown",
   "metadata": {},
   "source": [
    "# c.replace(' ', '%20')"
   ]
  },
  {
   "cell_type": "code",
   "execution_count": null,
   "metadata": {
    "ExecuteTime": {
     "end_time": "2021-03-26T12:00:28.015850Z",
     "start_time": "2021-03-26T12:00:28.010484Z"
    }
   },
   "outputs": [],
   "source": [
    "s = \"We are happy.\"\n",
    "print(s.replace(' ','%20'))\n",
    "print(s)"
   ]
  },
  {
   "cell_type": "code",
   "execution_count": null,
   "metadata": {},
   "outputs": [],
   "source": []
  }
 ],
 "metadata": {
  "hide_input": false,
  "kernelspec": {
   "display_name": "Python 3",
   "language": "python",
   "name": "python3"
  },
  "language_info": {
   "codemirror_mode": {
    "name": "ipython",
    "version": 3
   },
   "file_extension": ".py",
   "mimetype": "text/x-python",
   "name": "python",
   "nbconvert_exporter": "python",
   "pygments_lexer": "ipython3",
   "version": "3.7.6"
  },
  "latex_envs": {
   "LaTeX_envs_menu_present": true,
   "autoclose": false,
   "autocomplete": true,
   "bibliofile": "biblio.bib",
   "cite_by": "apalike",
   "current_citInitial": 1,
   "eqLabelWithNumbers": true,
   "eqNumInitial": 1,
   "hotkeys": {
    "equation": "Ctrl-E",
    "itemize": "Ctrl-I"
   },
   "labels_anchors": false,
   "latex_user_defs": false,
   "report_style_numbering": false,
   "user_envs_cfg": false
  },
  "nbTranslate": {
   "displayLangs": [
    "*"
   ],
   "hotkey": "alt-t",
   "langInMainMenu": true,
   "sourceLang": "en",
   "targetLang": "fr",
   "useGoogleTranslate": true
  },
  "toc": {
   "base_numbering": 1,
   "nav_menu": {},
   "number_sections": true,
   "sideBar": true,
   "skip_h1_title": false,
   "title_cell": "Table of Contents",
   "title_sidebar": "Contents",
   "toc_cell": false,
   "toc_position": {
    "height": "calc(100% - 180px)",
    "left": "10px",
    "top": "150px",
    "width": "210px"
   },
   "toc_section_display": true,
   "toc_window_display": true
  },
  "varInspector": {
   "cols": {
    "lenName": 16,
    "lenType": 16,
    "lenVar": 40
   },
   "kernels_config": {
    "python": {
     "delete_cmd_postfix": "",
     "delete_cmd_prefix": "del ",
     "library": "var_list.py",
     "varRefreshCmd": "print(var_dic_list())"
    },
    "r": {
     "delete_cmd_postfix": ") ",
     "delete_cmd_prefix": "rm(",
     "library": "var_list.r",
     "varRefreshCmd": "cat(var_dic_list()) "
    }
   },
   "types_to_exclude": [
    "module",
    "function",
    "builtin_function_or_method",
    "instance",
    "_Feature"
   ],
   "window_display": false
  }
 },
 "nbformat": 4,
 "nbformat_minor": 4
}