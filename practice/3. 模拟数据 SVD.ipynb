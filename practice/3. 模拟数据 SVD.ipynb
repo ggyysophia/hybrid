{
 "cells": [
  {
   "cell_type": "markdown",
   "metadata": {},
   "source": [
    "# 数据生成规则"
   ]
  },
  {
   "cell_type": "markdown",
   "metadata": {},
   "source": [
    "生成Z，A，W\n",
    "$\\mathcal{R}$\n",
    "1. $Z \\sim \\mathcal{N}(0, I_{n \\times p})$\n",
    "2. $A \\sim \\mathcal{U}([-1.5, -0.5] \\cup [0.5, 1.5])$的均匀分布\n",
    "\n",
    "思想：直接生成$[0.5,1.5]$的均匀分布，再使用随机均匀整数$\\{0,1\\}$生成相同维度的矩阵$A1$，\n",
    "令为A1为0的位置乘以-1，\n",
    "\n",
    "3. $W \\sim \\mathcal{N}(0, I_{n \\times p})$\n",
    "4. $b \\sim \\mathcal{U}(\\sqrt(k)[-1.5, -0.5] \\cup \\sqrt(k)[0.5, 1.5])$的均匀分布，b的生成与A类似。\n"
   ]
  },
  {
   "cell_type": "markdown",
   "metadata": {},
   "source": [
    "# 数据低维高维比例设置"
   ]
  },
  {
   "cell_type": "markdown",
   "metadata": {
    "ExecuteTime": {
     "end_time": "2021-03-08T09:26:54.109726Z",
     "start_time": "2021-03-08T09:26:54.102602Z"
    }
   },
   "source": [
    "模拟随机数值\n",
    "\n",
    "$\\theta = (\\theta_1, \\theta_2, \\theta_3)$\n",
    "\n",
    "* .$\\theta_1$:表示低秩部分\n",
    "* .$\\theta_2$:表示高维部分\n",
    "* .$\\theta_3$:表示低秩高维混合\n",
    "\n",
    "为了简单，$\\theta_3 = 0$,\n",
    "\n",
    "$C_j \\sim Categorical(\\theta)$\n",
    "\n",
    "$C_j = (1, 0, 0):X(:, j) \\sim \\mathcal{N}(ZA(:, j), \\sigma^2 I_{n \\times n})$\n",
    "\n",
    "$C_j = (0, 1, 0):X(:, j) \\sim \\mathcal{N}(W(:, j), \\sigma^2 I_{n \\times n})$\n",
    "\n",
    "$\\sigma^2 \\rightarrow 0$"
   ]
  },
  {
   "cell_type": "markdown",
   "metadata": {},
   "source": [
    "# 浅拷贝和生拷贝"
   ]
  },
  {
   "cell_type": "markdown",
   "metadata": {
    "ExecuteTime": {
     "end_time": "2021-04-01T13:34:23.379208Z",
     "start_time": "2021-04-01T13:34:23.375663Z"
    }
   },
   "source": [
    "描述\n",
    "\n",
    "Python 字典 copy() 函数返回一个字典的浅复制。\n",
    "\n",
    "语法\n",
    "\n",
    "copy()方法语法：\n",
    "\n",
    "dict.copy()\n",
    "\n",
    "参数\n",
    "\n",
    "NA。\n",
    "\n",
    "返回值\n",
    "\n",
    "返回一个字典的浅复制。"
   ]
  },
  {
   "cell_type": "code",
   "execution_count": 1,
   "metadata": {
    "ExecuteTime": {
     "end_time": "2021-04-02T03:37:16.383213Z",
     "start_time": "2021-04-02T03:37:16.377487Z"
    }
   },
   "outputs": [
    {
     "name": "stdout",
     "output_type": "stream",
     "text": [
      "新复制的字典为 :  {'Name': 'Runoob', 'Age': 7, 'Class': 'First'}\n"
     ]
    }
   ],
   "source": [
    "#!/usr/bin/python3\n",
    " \n",
    "dict1 = {'Name': 'Runoob', 'Age': 7, 'Class': 'First'}\n",
    " \n",
    "dict2 = dict1.copy()\n",
    "print (\"新复制的字典为 : \",dict2)"
   ]
  },
  {
   "cell_type": "markdown",
   "metadata": {},
   "source": [
    "## 直接赋值和 copy 的区别"
   ]
  },
  {
   "cell_type": "code",
   "execution_count": 4,
   "metadata": {
    "ExecuteTime": {
     "end_time": "2021-04-01T13:34:23.492730Z",
     "start_time": "2021-04-01T13:34:23.488018Z"
    }
   },
   "outputs": [
    {
     "name": "stdout",
     "output_type": "stream",
     "text": [
      "{'user': 'root', 'num': [2, 3]}\n",
      "{'user': 'root', 'num': [2, 3]}\n",
      "{'user': 'runoob', 'num': 2}\n"
     ]
    }
   ],
   "source": [
    "#!/usr/bin/python\n",
    "# -*- coding: UTF-8 -*-\n",
    " \n",
    "dict1 =  {'user':'runoob','num':[1,2,3]}\n",
    " \n",
    "dict2 = dict1          # 浅拷贝: 引用对象\n",
    "dict3 = dict1.copy()   # 浅拷贝：深拷贝父对象（一级目录），子对象（二级目录）不拷贝，子对象是引用\n",
    " \n",
    "# 修改 data 数据\n",
    "dict1['user']='root'\n",
    "dict1['num'].remove(1)\n",
    " \n",
    "dict3['num']=2\n",
    "# 输出结果\n",
    "print(dict1)\n",
    "print(dict2)\n",
    "print(dict3)"
   ]
  },
  {
   "cell_type": "code",
   "execution_count": 5,
   "metadata": {
    "ExecuteTime": {
     "end_time": "2021-04-01T13:34:23.499596Z",
     "start_time": "2021-04-01T13:34:23.495072Z"
    }
   },
   "outputs": [
    {
     "ename": "SyntaxError",
     "evalue": "invalid syntax (<ipython-input-5-f757d9f52296>, line 1)",
     "output_type": "error",
     "traceback": [
      "\u001B[0;36m  File \u001B[0;32m\"<ipython-input-5-f757d9f52296>\"\u001B[0;36m, line \u001B[0;32m1\u001B[0m\n\u001B[0;31m    实例中 dict2 其实是 dict1 的引用（别名），所以输出结果都是一致的，\u001B[0m\n\u001B[0m            ^\u001B[0m\n\u001B[0;31mSyntaxError\u001B[0m\u001B[0;31m:\u001B[0m invalid syntax\n"
     ]
    }
   ],
   "source": [
    "实例中 dict2 其实是 dict1 的引用（别名），所以输出结果都是一致的，\n",
    "dict3 父对象进行了深拷贝，不会随dict1 修改而修改，子对象是浅拷贝所以随 dict1 的修改而修改。\n",
    "\n",
    "{'user': 'root', 'num': [2, 3]}\n",
    "{'user': 'root', 'num': [2, 3]}\n",
    "{'user': 'runoob', 'num': [2, 3]}"
   ]
  },
  {
   "cell_type": "code",
   "execution_count": null,
   "metadata": {},
   "outputs": [],
   "source": []
  },
  {
   "cell_type": "markdown",
   "metadata": {},
   "source": [
    "# 数据拟合--按照原文"
   ]
  },
  {
   "cell_type": "code",
   "execution_count": 11,
   "metadata": {
    "ExecuteTime": {
     "end_time": "2021-06-23T23:03:30.484090Z",
     "start_time": "2021-06-23T23:03:30.070023Z"
    }
   },
   "outputs": [],
   "source": [
    "import numpy as np\n",
    "import pandas as pd\n",
    "import matplotlib.pyplot as plt\n",
    "import warnings\n",
    "warnings.filterwarnings('ignore')\n",
    "\n",
    "plt.rcParams['font.sans-serif'] = ['Arial Unicode Ms']\n",
    "# 用来正常显示负号\n",
    "plt.rcParams['axes.unicode_minus'] = False\n",
    "# 可视化矩阵\n"
   ]
  },
  {
   "cell_type": "code",
   "execution_count": 3,
   "metadata": {
    "ExecuteTime": {
     "end_time": "2021-06-23T21:30:00.451897Z",
     "start_time": "2021-06-23T21:30:00.443364Z"
    }
   },
   "outputs": [],
   "source": [
    "def ini__(n, k, p, seed):\n",
    "    # 生成Z， W\n",
    "    np.random.seed(seed)\n",
    "    Z = np.random.randn(n, k)\n",
    "    W = np.random.randn(n, p)\n",
    "    E = np.random.randn(n, p)  # 误差\n",
    "    # 生成[0.5, 1.5]的均匀分布\n",
    "    A = np.random.uniform(0.5, 1.5, (k, p))\n",
    "    # 生成{0,1}随机均匀分布\n",
    "    A1 = np.random.randint(0, 2, (k, p))\n",
    "    # A1==0的索引对应的A==-A\n",
    "    for i, j in zip(np.where(A1 == 0)[0], np.where(A1 == 0)[1]):\n",
    "        A[i, j] = - A[i, j]\n",
    "\n",
    "    # 生成b\n",
    "    b = np.sqrt(k) * np.random.uniform(0.5, 1.5, (p, ))\n",
    "    # 生成{0,1}随机均匀分布\n",
    "    b1 = np.random.randint(0, 2, (p, ))\n",
    "    # b1==0的索引对应的b == -sqrt(k) * b\n",
    "    for i in np.where(b1 == 0)[0]:\n",
    "        b[i] = -1 * b[i]\n",
    "\n",
    "    return Z, A, W, b, E "
   ]
  },
  {
   "cell_type": "code",
   "execution_count": 4,
   "metadata": {
    "ExecuteTime": {
     "end_time": "2021-06-23T21:30:18.333337Z",
     "start_time": "2021-06-23T21:30:09.252290Z"
    },
    "code_folding": [
     2
    ]
   },
   "outputs": [
    {
     "name": "stdout",
     "output_type": "stream",
     "text": [
      "seed = 6494\n"
     ]
    },
    {
     "data": {
      "image/png": "[encoded data removed]",
      "text/plain": [
       "<Figure size 576x468 with 6 Axes>"
      ]
     },
     "metadata": {
      "needs_background": "light"
     },
     "output_type": "display_data"
    }
   ],
   "source": [
    "# 模拟出Z, A, W, b, e\n",
    "# n=100,p=1000,k=20, seed=1666\n",
    "\n",
    "# 生成绘图的拟合数据, 低秩和高维的比例\n",
    "n, k, p, sigma_za, sigma_w = 100, 20, 1000, 0.01, 0.01\n",
    "seed = np.random.randint(1e4)\n",
    "print('seed = {}'.format(seed))\n",
    "Z, A, W, b, e = ini__(n, k, p, seed)\n",
    "X = W.copy()  # 深拷贝，b改变,W不会改变\n",
    "ZA = 0.2 * np.dot(Z, A)\n",
    "\n",
    "fig,axes = plt.subplots(2,3, figsize=(8,6.5))  # 设置图的大小\n",
    "# X的低秩高维比设置\n",
    "for i ,ratio in enumerate([0,1,0.8,0.5,0.2, 0.01]):\n",
    "    theta_1 = np.random.choice(p, size=int(p * ratio), replace=False)\n",
    "    # 选中全部为低维数据\n",
    "    if ratio == 1:\n",
    "        for j in range(p):\n",
    "            X[:, j] = np.random.multivariate_normal(\n",
    "                ZA[:, j].tolist(), (sigma_za**2 * np.eye(n)).tolist())\n",
    "    # 选中全部为高维数据\n",
    "    elif ratio == 0:\n",
    "        for j in range(p):\n",
    "            X[:, j] = np.random.multivariate_normal(\n",
    "                W[:, j].tolist(), (sigma_w**2**np.eye(n)).tolist())\n",
    "    else:\n",
    "        for j in range(p):\n",
    "            if j in theta_1:\n",
    "                X[:, j] = np.random.multivariate_normal(\n",
    "                    ZA[:, j].tolist(), (sigma_za**2 * np.eye(n)).tolist())\n",
    "            else:\n",
    "                X[:, j] = np.random.multivariate_normal(\n",
    "                    W[:, j].tolist(), (sigma_w**2 * np.eye(n)).tolist())\n",
    "\n",
    "\n",
    "    u,sigma1,vt=np.linalg.svd(X)\n",
    "    sigma2 = np.zeros(1)\n",
    "    sigma1 = np.append(sigma1, sigma2)\n",
    "    # 画图\n",
    "\n",
    "    plt.subplot(2,3,i+1)\n",
    "#     plt.tight_layout() # 子图之间的间隙\n",
    "    plt.subplots_adjust(hspace=0.5, wspace=0.6)  # 子图之间间隙大小调整    \n",
    "    plt.plot(range(len(sigma1)), sigma1, 'g',linewidth = 5.0,linestyle = '-')\n",
    "    plt.xlabel('N')\n",
    "    plt.ylabel('Value of N-th Singular Value')\n",
    "    plt.title('aa')\n",
    "    \n"
   ]
  },
  {
   "cell_type": "markdown",
   "metadata": {},
   "source": [
    "# 数据拟合--简单定义"
   ]
  },
  {
   "cell_type": "code",
   "execution_count": 9,
   "metadata": {
    "ExecuteTime": {
     "end_time": "2021-04-01T13:34:33.815943Z",
     "start_time": "2021-04-01T13:34:33.672600Z"
    }
   },
   "outputs": [
    {
     "data": {
      "image/png": "[encoded data removed]",
      "text/plain": [
       "<Figure size 432x288 with 1 Axes>"
      ]
     },
     "metadata": {
      "needs_background": "light"
     },
     "output_type": "display_data"
    }
   ],
   "source": [
    "n, k, p, seed = 100, 20, 1000, 2222\n",
    "# 合成人工数据\n",
    "Z, A, W, b, e = ini__(n, k, p, seed)\n",
    "# 首先看ZA是否为低秩数据\n",
    "ZA = np.dot(Z, A)\n",
    "u,sigma1,vt=np.linalg.svd(ZA)\n",
    "plt.figure()\n",
    "plt.plot(range(len(sigma1)), sigma1)\n",
    "plt.show()"
   ]
  },
  {
   "cell_type": "code",
   "execution_count": 10,
   "metadata": {
    "ExecuteTime": {
     "end_time": "2021-04-01T13:34:33.840276Z",
     "start_time": "2021-04-01T13:34:33.818612Z"
    }
   },
   "outputs": [],
   "source": [
    "n, k, p, seed = 100, 20, 1000, 2222\n",
    "# 合成人工数据\n",
    "Z, A, W, b, e = ini__(n, k, p, seed)\n",
    "# 首先看ZA是否为低秩数据\n",
    "ZA = np.dot(Z, A)\n",
    "\n",
    "\n",
    "\n"
   ]
  },
  {
   "cell_type": "code",
   "execution_count": 11,
   "metadata": {
    "ExecuteTime": {
     "end_time": "2021-04-01T13:34:34.569312Z",
     "start_time": "2021-04-01T13:34:33.842566Z"
    }
   },
   "outputs": [
    {
     "data": {
      "image/png": "[encoded data removed]",
      "text/plain": [
       "<Figure size 576x468 with 6 Axes>"
      ]
     },
     "metadata": {
      "needs_background": "light"
     },
     "output_type": "display_data"
    }
   ],
   "source": [
    "# 模拟出Z, A, W, b, e\n",
    "# n=100,p=1000,k=20, seed=1666\n",
    "\n",
    "# 生成绘图的拟合数据, 低秩和高维的比例\n",
    "n, k, p,seed = 100, 20, 1000, 2222\n",
    "Z, A, W, b, e = ini__(n, k, p, seed)\n",
    "X = W.copy()  # 深拷贝，b改变,W不会改变\n",
    "ZA = 0.2 * np.dot(Z, A)\n",
    "\n",
    "fig,axes = plt.subplots(2, 3, figsize=(8,6.5))  # 设置图的大小\n",
    "# X的低秩高维比设置\n",
    "for i ,ratio in enumerate([1,0,0.8,0.5,0.2, 0.01]):\n",
    "    # 选中全部为低维数据\n",
    "    if ratio == 0:\n",
    "        X = W\n",
    "    elif ratio ==1:\n",
    "        X = ZA\n",
    "    else:\n",
    "        X = np.zeros((n,p))\n",
    "        X[:,range(int(ratio * p))] = ZA[:,range(int(ratio * p))] # 前ratio*p 个特征等于ZA的前ratio*p个特征。 后面的int(ratio*p)个特征等于W的后int(ratio*p)个特征\n",
    "        X[:,int(ratio * p):] = W[:, int(ratio * p):]\n",
    "        \n",
    "\n",
    "    u,sigma1,vt=np.linalg.svd(X)\n",
    "    sigma2 = np.zeros(1)\n",
    "    sigma1 = np.append(sigma1, sigma2)\n",
    "    # 画图\n",
    "\n",
    "    plt.subplot(2,3,i+1)\n",
    "#     plt.tight_layout() # 子图之间的间隙\n",
    "    plt.subplots_adjust(hspace=0.5, wspace=0.6)  # 子图之间间隙大小调整    \n",
    "    plt.plot(range(len(sigma1)), sigma1, 'g',linewidth = 5.0,linestyle = '-')\n",
    "#     plt.scatter(20, sigma1[20], 'r')\n",
    "    plt.xlabel('N')\n",
    "    plt.ylabel('Value of N-th Singular Value')\n",
    "    plt.title('aa')\n",
    "    "
   ]
  },
  {
   "cell_type": "code",
   "execution_count": 24,
   "metadata": {
    "ExecuteTime": {
     "end_time": "2021-04-02T00:20:48.246445Z",
     "start_time": "2021-04-02T00:20:48.238439Z"
    }
   },
   "outputs": [
    {
     "data": {
      "text/plain": [
       "array([1.21002747e+03, 3.23036976e+01, 1.05545390e-13, 1.78712038e-14,\n",
       "       1.02842327e-14, 8.16254132e-15, 7.40469539e-15, 4.72048294e-15,\n",
       "       2.25469638e-15, 1.07247520e-15])"
      ]
     },
     "execution_count": 24,
     "metadata": {},
     "output_type": "execute_result"
    }
   ],
   "source": [
    "np.random.seed(123456)\n",
    "za1 = np.arange(200).reshape(10,20)\n",
    "w1 = np.random.rand(10,20)\n",
    "c1 = za1.copy()\n",
    "c1[:,[1,3,5,7,9,11,13,15,17]]=w1[:,[1,3,5,7,9,11,13,15,17]] \n",
    "\n",
    "# 随机选择15个特征来自\n",
    "u,sigma_c1,vt = np.linalg.svd(c1)\n",
    "sigma_c1"
   ]
  },
  {
   "cell_type": "code",
   "execution_count": 28,
   "metadata": {
    "ExecuteTime": {
     "end_time": "2021-04-02T00:23:13.437292Z",
     "start_time": "2021-04-02T00:23:13.430535Z"
    }
   },
   "outputs": [
    {
     "data": {
      "text/plain": [
       "array([1.16471269e+03, 1.71565851e+01, 7.70539364e-14, 2.45675090e-14,\n",
       "       9.49117438e-15, 3.20365103e-15, 2.54138205e-15, 1.99271824e-15,\n",
       "       4.34055456e-16, 1.45886194e-16])"
      ]
     },
     "execution_count": 28,
     "metadata": {},
     "output_type": "execute_result"
    }
   ],
   "source": [
    "c2 = za1.copy()\n",
    "c2[:,-9:]=w1[:,-9:] \n",
    "\n",
    "# 随机选择15个特征来自\n",
    "u,sigma_c2,vt = np.linalg.svd(c2)\n",
    "sigma_c2"
   ]
  },
  {
   "cell_type": "code",
   "execution_count": null,
   "metadata": {},
   "outputs": [],
   "source": []
  },
  {
   "cell_type": "code",
   "execution_count": 31,
   "metadata": {
    "ExecuteTime": {
     "end_time": "2021-04-02T00:24:06.466962Z",
     "start_time": "2021-04-02T00:24:06.460907Z"
    }
   },
   "outputs": [
    {
     "data": {
      "text/plain": [
       "array([ 4.53147765e+01,  1.51471126e+01,  2.84914537e-14, -6.69630517e-15,\n",
       "        7.93058296e-16,  4.95889029e-15,  4.86331334e-15,  2.72776470e-15,\n",
       "        1.82064092e-15,  9.26589008e-16])"
      ]
     },
     "execution_count": 31,
     "metadata": {},
     "output_type": "execute_result"
    }
   ],
   "source": [
    "sigma_c1 - sigma_c2"
   ]
  },
  {
   "cell_type": "markdown",
   "metadata": {},
   "source": [
    "# 生物数据"
   ]
  },
  {
   "cell_type": "code",
   "execution_count": 12,
   "metadata": {
    "ExecuteTime": {
     "end_time": "2021-04-01T13:34:34.573973Z",
     "start_time": "2021-04-01T13:34:34.571628Z"
    },
    "code_folding": []
   },
   "outputs": [],
   "source": [
    "# # 转置\n",
    "# data1 = {\"a\":[1,2,3],\"b\":[3,4,5]}\n",
    "# data2 = pd.DataFrame(data1)\n",
    "\n",
    "# data2, data2.T"
   ]
  },
  {
   "cell_type": "code",
   "execution_count": null,
   "metadata": {
    "ExecuteTime": {
     "start_time": "2021-06-23T21:47:10.367Z"
    }
   },
   "outputs": [],
   "source": [
    "import pandas as pd\n",
    "path = '/Users/snszz/PycharmProjects/hybrid_sl_code_python/data/LUAD_Counts_expMatrix.CSV'\n",
    "gene = pd.read_csv(path, header=0, index_col=0) # 表示不要新的索引，以数据的第一列，和第一行为索引\n",
    "gene.head()\n",
    "gene = gene.T   # ().T\n",
    "# print(gene.shape)\n",
    "# gene.head(3)\n",
    "\n",
    "# 1e4:4s; 2e4:24.7s; 25000:44.9s; 3e4:;\n",
    "u,sigma_gene,vt=np.linalg.svd(gene.values)\n",
    "sigma_gene\n",
    "\n",
    "# u,sigma_gene,vt=np.linalg.svd(gene.values[:,:25000])\n",
    "plt.figure()\n",
    "plt.plot(range(len(sigma_gene)), sigma_gene)\n",
    "plt.show()"
   ]
  },
  {
   "cell_type": "markdown",
   "metadata": {},
   "source": [
    "# gene data"
   ]
  },
  {
   "cell_type": "code",
   "execution_count": 31,
   "metadata": {
    "ExecuteTime": {
     "end_time": "2021-06-23T23:17:49.351920Z",
     "start_time": "2021-06-23T23:17:39.899080Z"
    }
   },
   "outputs": [
    {
     "name": "stdout",
     "output_type": "stream",
     "text": [
      "(77, 7129)\n",
      "未归一化数据:\n",
      "    1     2     3     4     5     6     7     8     9     10    ...  7120  \\\n",
      "0  -104  -187   -26    59  -238  -258  -400  -146   -34  -100  ...   132   \n",
      "1  -152  -328   -52   267  -300  -314   578  -185   111   148  ...   147   \n",
      "2  -158  -129    11    88  -239  -429  -891  -258    22  -271  ...   169   \n",
      "\n",
      "   7121  7122  7123  7124  7125  7126  7127  7128  7129  \n",
      "0  1036  -161  1523   -72   897   366     3    76   -28  \n",
      "1  4254   -75  6056   -68   737    81    -4    41   -45  \n",
      "2  1934  -129  2901    -9   946   450    38   164   -62  \n",
      "\n",
      "[3 rows x 7129 columns]\n",
      "归一化数据：\n",
      " [[0.93506494 0.83722944 0.53553299 ... 0.90242305 0.73180873 0.98210162]\n",
      " [0.9079616  0.71515152 0.46954315 ... 0.8978389  0.71361746 0.97228637]\n",
      " [0.90457369 0.88744589 0.62944162 ... 0.92534381 0.77754678 0.96247113]\n",
      " ...\n",
      " [0.83116883 0.79393939 0.35025381 ... 0.75573019 0.58160083 0.81466513]\n",
      " [0.76397516 0.76103896 0.2284264  ... 0.83693517 0.62993763 0.83025404]\n",
      " [0.92546584 0.90649351 0.38071066 ... 0.89980354 0.88461538 0.96766744]]\n"
     ]
    }
   ],
   "source": [
    "import pandas as pd\n",
    "path_DLBCL = '/Users/snszz/PycharmProjects/hybrid_sl_code_python/data/gene/gene/DLBCL.xlsx'\n",
    "gene_raw = pd.read_excel(path_DLBCL, sheet_name = 'Sheet1', header=None) # 表示不要新的索引，以数据的第一列，和第一行为索引\n",
    "gene = gene_raw.iloc[:,1:]\n",
    "print(gene.shape)\n",
    "print('未归一化数据:\\n', gene.head(3))\n",
    "\n",
    "# 进行最大最小归一化\n",
    "from sklearn import preprocessing  \n",
    "\n",
    "min_max_scaler = preprocessing.MinMaxScaler()   \n",
    "gene_minMax = min_max_scaler.fit_transform(gene)\n",
    "print('归一化数据：\\n',gene_minMax)"
   ]
  },
  {
   "cell_type": "code",
   "execution_count": 35,
   "metadata": {
    "ExecuteTime": {
     "end_time": "2021-06-23T23:26:19.550207Z",
     "start_time": "2021-06-23T23:26:13.799229Z"
    },
    "code_folding": []
   },
   "outputs": [
    {
     "data": {
      "image/png": "[encoded data removed]",
      "text/plain": [
       "<Figure size 432x288 with 1 Axes>"
      ]
     },
     "metadata": {
      "needs_background": "light"
     },
     "output_type": "display_data"
    }
   ],
   "source": [
    "u,sigma_gene_minMax,vt=np.linalg.svd(gene_minMax)\n",
    "sigma_gene\n",
    "\n",
    "# u,sigma_gene,vt=np.linalg.svd(gene.values[:,:25000])\n",
    "plt.figure()\n",
    "plt.plot(range(len(sigma_gene_minMax)), sigma_gene_minMax)\n",
    "plt.show()"
   ]
  },
  {
   "cell_type": "code",
   "execution_count": 27,
   "metadata": {
    "ExecuteTime": {
     "end_time": "2021-06-23T23:14:25.060172Z",
     "start_time": "2021-06-23T23:14:25.038499Z"
    }
   },
   "outputs": [
    {
     "data": {
      "text/html": [
       "<div>\n",
       "<style scoped>\n",
       "    .dataframe tbody tr th:only-of-type {\n",
       "        vertical-align: middle;\n",
       "    }\n",
       "\n",
       "    .dataframe tbody tr th {\n",
       "        vertical-align: top;\n",
       "    }\n",
       "\n",
       "    .dataframe thead th {\n",
       "        text-align: right;\n",
       "    }\n",
       "</style>\n",
       "<table border=\"1\" class=\"dataframe\">\n",
       "  <thead>\n",
       "    <tr style=\"text-align: right;\">\n",
       "      <th></th>\n",
       "      <th>1</th>\n",
       "      <th>2</th>\n",
       "      <th>3</th>\n",
       "      <th>4</th>\n",
       "      <th>5</th>\n",
       "      <th>6</th>\n",
       "      <th>7</th>\n",
       "      <th>8</th>\n",
       "      <th>9</th>\n",
       "      <th>10</th>\n",
       "      <th>...</th>\n",
       "      <th>7120</th>\n",
       "      <th>7121</th>\n",
       "      <th>7122</th>\n",
       "      <th>7123</th>\n",
       "      <th>7124</th>\n",
       "      <th>7125</th>\n",
       "      <th>7126</th>\n",
       "      <th>7127</th>\n",
       "      <th>7128</th>\n",
       "      <th>7129</th>\n",
       "    </tr>\n",
       "  </thead>\n",
       "  <tbody>\n",
       "    <tr>\n",
       "      <th>0</th>\n",
       "      <td>-104</td>\n",
       "      <td>-187</td>\n",
       "      <td>-26</td>\n",
       "      <td>59</td>\n",
       "      <td>-238</td>\n",
       "      <td>-258</td>\n",
       "      <td>-400</td>\n",
       "      <td>-146</td>\n",
       "      <td>-34</td>\n",
       "      <td>-100</td>\n",
       "      <td>...</td>\n",
       "      <td>132</td>\n",
       "      <td>1036</td>\n",
       "      <td>-161</td>\n",
       "      <td>1523</td>\n",
       "      <td>-72</td>\n",
       "      <td>897</td>\n",
       "      <td>366</td>\n",
       "      <td>3</td>\n",
       "      <td>76</td>\n",
       "      <td>-28</td>\n",
       "    </tr>\n",
       "    <tr>\n",
       "      <th>1</th>\n",
       "      <td>-152</td>\n",
       "      <td>-328</td>\n",
       "      <td>-52</td>\n",
       "      <td>267</td>\n",
       "      <td>-300</td>\n",
       "      <td>-314</td>\n",
       "      <td>578</td>\n",
       "      <td>-185</td>\n",
       "      <td>111</td>\n",
       "      <td>148</td>\n",
       "      <td>...</td>\n",
       "      <td>147</td>\n",
       "      <td>4254</td>\n",
       "      <td>-75</td>\n",
       "      <td>6056</td>\n",
       "      <td>-68</td>\n",
       "      <td>737</td>\n",
       "      <td>81</td>\n",
       "      <td>-4</td>\n",
       "      <td>41</td>\n",
       "      <td>-45</td>\n",
       "    </tr>\n",
       "    <tr>\n",
       "      <th>2</th>\n",
       "      <td>-158</td>\n",
       "      <td>-129</td>\n",
       "      <td>11</td>\n",
       "      <td>88</td>\n",
       "      <td>-239</td>\n",
       "      <td>-429</td>\n",
       "      <td>-891</td>\n",
       "      <td>-258</td>\n",
       "      <td>22</td>\n",
       "      <td>-271</td>\n",
       "      <td>...</td>\n",
       "      <td>169</td>\n",
       "      <td>1934</td>\n",
       "      <td>-129</td>\n",
       "      <td>2901</td>\n",
       "      <td>-9</td>\n",
       "      <td>946</td>\n",
       "      <td>450</td>\n",
       "      <td>38</td>\n",
       "      <td>164</td>\n",
       "      <td>-62</td>\n",
       "    </tr>\n",
       "    <tr>\n",
       "      <th>3</th>\n",
       "      <td>-124</td>\n",
       "      <td>-121</td>\n",
       "      <td>-3</td>\n",
       "      <td>-37</td>\n",
       "      <td>-210</td>\n",
       "      <td>-309</td>\n",
       "      <td>-489</td>\n",
       "      <td>-69</td>\n",
       "      <td>-35</td>\n",
       "      <td>172</td>\n",
       "      <td>...</td>\n",
       "      <td>13</td>\n",
       "      <td>2469</td>\n",
       "      <td>93</td>\n",
       "      <td>2465</td>\n",
       "      <td>-119</td>\n",
       "      <td>339</td>\n",
       "      <td>321</td>\n",
       "      <td>-63</td>\n",
       "      <td>73</td>\n",
       "      <td>-13</td>\n",
       "    </tr>\n",
       "    <tr>\n",
       "      <th>4</th>\n",
       "      <td>-93</td>\n",
       "      <td>-258</td>\n",
       "      <td>-36</td>\n",
       "      <td>109</td>\n",
       "      <td>-109</td>\n",
       "      <td>-272</td>\n",
       "      <td>-469</td>\n",
       "      <td>-279</td>\n",
       "      <td>-90</td>\n",
       "      <td>-31</td>\n",
       "      <td>...</td>\n",
       "      <td>69</td>\n",
       "      <td>608</td>\n",
       "      <td>-39</td>\n",
       "      <td>1667</td>\n",
       "      <td>-87</td>\n",
       "      <td>721</td>\n",
       "      <td>213</td>\n",
       "      <td>15</td>\n",
       "      <td>155</td>\n",
       "      <td>-26</td>\n",
       "    </tr>\n",
       "    <tr>\n",
       "      <th>...</th>\n",
       "      <td>...</td>\n",
       "      <td>...</td>\n",
       "      <td>...</td>\n",
       "      <td>...</td>\n",
       "      <td>...</td>\n",
       "      <td>...</td>\n",
       "      <td>...</td>\n",
       "      <td>...</td>\n",
       "      <td>...</td>\n",
       "      <td>...</td>\n",
       "      <td>...</td>\n",
       "      <td>...</td>\n",
       "      <td>...</td>\n",
       "      <td>...</td>\n",
       "      <td>...</td>\n",
       "      <td>...</td>\n",
       "      <td>...</td>\n",
       "      <td>...</td>\n",
       "      <td>...</td>\n",
       "      <td>...</td>\n",
       "      <td>...</td>\n",
       "    </tr>\n",
       "    <tr>\n",
       "      <th>72</th>\n",
       "      <td>-149</td>\n",
       "      <td>-210</td>\n",
       "      <td>-24</td>\n",
       "      <td>164</td>\n",
       "      <td>-38</td>\n",
       "      <td>-191</td>\n",
       "      <td>83</td>\n",
       "      <td>-63</td>\n",
       "      <td>-158</td>\n",
       "      <td>211</td>\n",
       "      <td>...</td>\n",
       "      <td>418</td>\n",
       "      <td>1014</td>\n",
       "      <td>-531</td>\n",
       "      <td>1039</td>\n",
       "      <td>-325</td>\n",
       "      <td>412</td>\n",
       "      <td>-29</td>\n",
       "      <td>-264</td>\n",
       "      <td>-292</td>\n",
       "      <td>-384</td>\n",
       "    </tr>\n",
       "    <tr>\n",
       "      <th>73</th>\n",
       "      <td>-558</td>\n",
       "      <td>-167</td>\n",
       "      <td>-23</td>\n",
       "      <td>177</td>\n",
       "      <td>-41</td>\n",
       "      <td>-400</td>\n",
       "      <td>-728</td>\n",
       "      <td>-175</td>\n",
       "      <td>175</td>\n",
       "      <td>-289</td>\n",
       "      <td>...</td>\n",
       "      <td>408</td>\n",
       "      <td>1629</td>\n",
       "      <td>-378</td>\n",
       "      <td>311</td>\n",
       "      <td>-251</td>\n",
       "      <td>1571</td>\n",
       "      <td>861</td>\n",
       "      <td>-53</td>\n",
       "      <td>17</td>\n",
       "      <td>-396</td>\n",
       "    </tr>\n",
       "    <tr>\n",
       "      <th>74</th>\n",
       "      <td>-288</td>\n",
       "      <td>-237</td>\n",
       "      <td>-99</td>\n",
       "      <td>200</td>\n",
       "      <td>-50</td>\n",
       "      <td>-186</td>\n",
       "      <td>-9</td>\n",
       "      <td>-158</td>\n",
       "      <td>-35</td>\n",
       "      <td>87</td>\n",
       "      <td>...</td>\n",
       "      <td>288</td>\n",
       "      <td>573</td>\n",
       "      <td>-26</td>\n",
       "      <td>1170</td>\n",
       "      <td>-262</td>\n",
       "      <td>322</td>\n",
       "      <td>-109</td>\n",
       "      <td>-221</td>\n",
       "      <td>-213</td>\n",
       "      <td>-318</td>\n",
       "    </tr>\n",
       "    <tr>\n",
       "      <th>75</th>\n",
       "      <td>-407</td>\n",
       "      <td>-275</td>\n",
       "      <td>-147</td>\n",
       "      <td>190</td>\n",
       "      <td>-158</td>\n",
       "      <td>-248</td>\n",
       "      <td>-201</td>\n",
       "      <td>-91</td>\n",
       "      <td>16</td>\n",
       "      <td>781</td>\n",
       "      <td>...</td>\n",
       "      <td>239</td>\n",
       "      <td>501</td>\n",
       "      <td>-329</td>\n",
       "      <td>335</td>\n",
       "      <td>-214</td>\n",
       "      <td>875</td>\n",
       "      <td>157</td>\n",
       "      <td>-97</td>\n",
       "      <td>-120</td>\n",
       "      <td>-291</td>\n",
       "    </tr>\n",
       "    <tr>\n",
       "      <th>76</th>\n",
       "      <td>-121</td>\n",
       "      <td>-107</td>\n",
       "      <td>-87</td>\n",
       "      <td>135</td>\n",
       "      <td>-311</td>\n",
       "      <td>-488</td>\n",
       "      <td>-334</td>\n",
       "      <td>-222</td>\n",
       "      <td>-5</td>\n",
       "      <td>-95</td>\n",
       "      <td>...</td>\n",
       "      <td>289</td>\n",
       "      <td>1399</td>\n",
       "      <td>-147</td>\n",
       "      <td>563</td>\n",
       "      <td>-137</td>\n",
       "      <td>1629</td>\n",
       "      <td>714</td>\n",
       "      <td>-1</td>\n",
       "      <td>370</td>\n",
       "      <td>-53</td>\n",
       "    </tr>\n",
       "  </tbody>\n",
       "</table>\n",
       "<p>77 rows × 7129 columns</p>\n",
       "</div>"
      ],
      "text/plain": [
       "    1     2     3     4     5     6     7     8     9     10    ...  7120  \\\n",
       "0   -104  -187   -26    59  -238  -258  -400  -146   -34  -100  ...   132   \n",
       "1   -152  -328   -52   267  -300  -314   578  -185   111   148  ...   147   \n",
       "2   -158  -129    11    88  -239  -429  -891  -258    22  -271  ...   169   \n",
       "3   -124  -121    -3   -37  -210  -309  -489   -69   -35   172  ...    13   \n",
       "4    -93  -258   -36   109  -109  -272  -469  -279   -90   -31  ...    69   \n",
       "..   ...   ...   ...   ...   ...   ...   ...   ...   ...   ...  ...   ...   \n",
       "72  -149  -210   -24   164   -38  -191    83   -63  -158   211  ...   418   \n",
       "73  -558  -167   -23   177   -41  -400  -728  -175   175  -289  ...   408   \n",
       "74  -288  -237   -99   200   -50  -186    -9  -158   -35    87  ...   288   \n",
       "75  -407  -275  -147   190  -158  -248  -201   -91    16   781  ...   239   \n",
       "76  -121  -107   -87   135  -311  -488  -334  -222    -5   -95  ...   289   \n",
       "\n",
       "    7121  7122  7123  7124  7125  7126  7127  7128  7129  \n",
       "0   1036  -161  1523   -72   897   366     3    76   -28  \n",
       "1   4254   -75  6056   -68   737    81    -4    41   -45  \n",
       "2   1934  -129  2901    -9   946   450    38   164   -62  \n",
       "3   2469    93  2465  -119   339   321   -63    73   -13  \n",
       "4    608   -39  1667   -87   721   213    15   155   -26  \n",
       "..   ...   ...   ...   ...   ...   ...   ...   ...   ...  \n",
       "72  1014  -531  1039  -325   412   -29  -264  -292  -384  \n",
       "73  1629  -378   311  -251  1571   861   -53    17  -396  \n",
       "74   573   -26  1170  -262   322  -109  -221  -213  -318  \n",
       "75   501  -329   335  -214   875   157   -97  -120  -291  \n",
       "76  1399  -147   563  -137  1629   714    -1   370   -53  \n",
       "\n",
       "[77 rows x 7129 columns]"
      ]
     },
     "execution_count": 27,
     "metadata": {},
     "output_type": "execute_result"
    }
   ],
   "source": [
    "gene.iloc[:,1:]"
   ]
  },
  {
   "cell_type": "code",
   "execution_count": null,
   "metadata": {},
   "outputs": [],
   "source": []
  },
  {
   "cell_type": "code",
   "execution_count": 29,
   "metadata": {
    "ExecuteTime": {
     "end_time": "2021-06-23T23:15:32.824576Z",
     "start_time": "2021-06-23T23:15:32.729145Z"
    }
   },
   "outputs": [
    {
     "data": {
      "text/plain": [
       "array([[0.93506494, 0.83722944, 0.53553299, ..., 0.90242305, 0.73180873,\n",
       "        0.98210162],\n",
       "       [0.9079616 , 0.71515152, 0.46954315, ..., 0.8978389 , 0.71361746,\n",
       "        0.97228637],\n",
       "       [0.90457369, 0.88744589, 0.62944162, ..., 0.92534381, 0.77754678,\n",
       "        0.96247113],\n",
       "       ...,\n",
       "       [0.83116883, 0.79393939, 0.35025381, ..., 0.75573019, 0.58160083,\n",
       "        0.81466513],\n",
       "       [0.76397516, 0.76103896, 0.2284264 , ..., 0.83693517, 0.62993763,\n",
       "        0.83025404],\n",
       "       [0.92546584, 0.90649351, 0.38071066, ..., 0.89980354, 0.88461538,\n",
       "        0.96766744]])"
      ]
     },
     "execution_count": 29,
     "metadata": {},
     "output_type": "execute_result"
    }
   ],
   "source": [
    "# 对数据进行归一化\n",
    "\n"
   ]
  },
  {
   "cell_type": "code",
   "execution_count": 40,
   "metadata": {
    "ExecuteTime": {
     "end_time": "2021-06-23T23:30:12.666008Z",
     "start_time": "2021-06-23T23:30:07.513545Z"
    }
   },
   "outputs": [
    {
     "name": "stdout",
     "output_type": "stream",
     "text": [
      "归一化数据：\n",
      " [[-4.73728132e-04 -8.51799622e-04 -1.18432033e-04 ...  1.36652346e-05\n",
      "   3.46185943e-04 -1.27542189e-04]\n",
      " [-5.67860732e-04 -1.22538369e-03 -1.94268145e-04 ... -1.49437035e-05\n",
      "   1.53172961e-04 -1.68116664e-04]\n",
      " [-6.17378380e-04 -5.04062095e-04  4.29820391e-05 ...  1.48483408e-04\n",
      "   6.40823128e-04 -2.42262402e-04]\n",
      " ...\n",
      " [-1.20908900e-03 -9.94979490e-04 -4.15624344e-04 ... -9.27807879e-04\n",
      "  -8.94222073e-04 -1.33503577e-03]\n",
      " [-1.82593805e-03 -1.23374193e-03 -6.59491140e-04 ... -4.35174426e-04\n",
      "  -5.38360114e-04 -1.30552328e-03]\n",
      " [-5.03250892e-04 -4.45023516e-04 -3.61841550e-04 ... -4.15909828e-06\n",
      "   1.53886636e-03 -2.20432209e-04]]\n",
      "[8.23926788 1.51440864 1.0347721  0.84406422 0.72492628 0.62357649\n",
      " 0.61417085 0.53781926 0.49660801 0.44455182 0.40939132 0.40587732\n",
      " 0.38255002 0.37740863 0.35764276 0.3462208  0.33486861 0.3274325\n",
      " 0.32044224 0.30666566 0.28868447 0.28636288 0.27339461 0.27126427\n",
      " 0.26612729 0.25635568 0.24611    0.23756623 0.23612056 0.22683661\n",
      " 0.22081086 0.21254952 0.20547979 0.20460948 0.20105917 0.19709529\n",
      " 0.19501957 0.1876535  0.18315912 0.18160807 0.17792106 0.175109\n",
      " 0.17180846 0.16742182 0.16451548 0.16335038 0.16112027 0.15747897\n",
      " 0.15637641 0.15216064 0.14825702 0.1470476  0.14645976 0.14479713\n",
      " 0.14247207 0.13782957 0.13560215 0.13417012 0.12986052 0.12800877\n",
      " 0.12369215 0.12286402 0.12150668 0.11848303 0.11666048 0.11626032\n",
      " 0.11573245 0.11151517 0.10733815 0.10555583 0.10101081 0.09978482\n",
      " 0.09763504 0.08734792 0.08387207 0.07304105 0.06965355]\n"
     ]
    }
   ],
   "source": [
    "# 进范数归一化\n",
    "from sklearn import preprocessing  \n",
    "gene_normalized = preprocessing.normalize(gene, norm='l2')\n",
    "print('归一化数据：\\n',gene_normalized)\n",
    "\n",
    "u,sigma_gene_nomalized,vt=np.linalg.svd(gene_normalized)\n",
    "print(sigma_gene_nomalized)\n"
   ]
  },
  {
   "cell_type": "code",
   "execution_count": 46,
   "metadata": {
    "ExecuteTime": {
     "end_time": "2021-06-23T23:31:31.445430Z",
     "start_time": "2021-06-23T23:31:31.310979Z"
    }
   },
   "outputs": [
    {
     "data": {
      "image/png": "[encoded data removed]",
      "text/plain": [
       "<Figure size 432x288 with 1 Axes>"
      ]
     },
     "metadata": {
      "needs_background": "light"
     },
     "output_type": "display_data"
    }
   ],
   "source": [
    "# u,sigma_gene,vt=np.linalg.svd(gene.values[:,:25000])\n",
    "plt.figure()\n",
    "plt.plot(range(sigma_gene_nomalized.shape[0]), sigma_gene_nomalized)\n",
    "plt.show()"
   ]
  },
  {
   "cell_type": "code",
   "execution_count": null,
   "metadata": {},
   "outputs": [],
   "source": []
  },
  {
   "cell_type": "code",
   "execution_count": null,
   "metadata": {},
   "outputs": [],
   "source": []
  }
 ],
 "metadata": {
  "hide_input": false,
  "kernelspec": {
   "display_name": "Python 3",
   "language": "python",
   "name": "python3"
  },
  "language_info": {
   "codemirror_mode": {
    "name": "ipython",
    "version": 3
   },
   "file_extension": ".py",
   "mimetype": "text/x-python",
   "name": "python",
   "nbconvert_exporter": "python",
   "pygments_lexer": "ipython3",
   "version": "3.8.8"
  },
  "latex_envs": {
   "LaTeX_envs_menu_present": true,
   "autoclose": false,
   "autocomplete": true,
   "bibliofile": "biblio.bib",
   "cite_by": "apalike",
   "current_citInitial": 1,
   "eqLabelWithNumbers": true,
   "eqNumInitial": 1,
   "hotkeys": {
    "equation": "Ctrl-E",
    "itemize": "Ctrl-I"
   },
   "labels_anchors": false,
   "latex_user_defs": false,
   "report_style_numbering": false,
   "user_envs_cfg": false
  },
  "nbTranslate": {
   "displayLangs": [
    "*"
   ],
   "hotkey": "alt-t",
   "langInMainMenu": true,
   "sourceLang": "en",
   "targetLang": "fr",
   "useGoogleTranslate": true
  },
  "toc": {
   "base_numbering": 1,
   "nav_menu": {},
   "number_sections": true,
   "sideBar": true,
   "skip_h1_title": false,
   "title_cell": "Table of Contents",
   "title_sidebar": "Contents",
   "toc_cell": false,
   "toc_position": {
    "height": "calc(100% - 180px)",
    "left": "10px",
    "top": "150px",
    "width": "165px"
   },
   "toc_section_display": true,
   "toc_window_display": true
  },
  "varInspector": {
   "cols": {
    "lenName": 16,
    "lenType": 16,
    "lenVar": 40
   },
   "kernels_config": {
    "python": {
     "delete_cmd_postfix": "",
     "delete_cmd_prefix": "del ",
     "library": "var_list.py",
     "varRefreshCmd": "print(var_dic_list())"
    },
    "r": {
     "delete_cmd_postfix": ") ",
     "delete_cmd_prefix": "rm(",
     "library": "var_list.r",
     "varRefreshCmd": "cat(var_dic_list()) "
    }
   },
   "types_to_exclude": [
    "module",
    "function",
    "builtin_function_or_method",
    "instance",
    "_Feature"
   ],
   "window_display": false
  }
 },
 "nbformat": 4,
 "nbformat_minor": 4
}